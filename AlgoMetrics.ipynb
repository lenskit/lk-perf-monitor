{
 "cells": [
  {
   "cell_type": "markdown",
   "id": "9a3d11de",
   "metadata": {},
   "source": [
    "# Algorithm Metrics\n",
    "\n",
    "This notebook shows algorithm metrics over the release branches."
   ]
  },
  {
   "cell_type": "code",
   "execution_count": 1,
   "id": "11ad9bf3",
   "metadata": {
    "execution": {
     "iopub.execute_input": "2022-01-10T20:44:37.479255Z",
     "iopub.status.busy": "2022-01-10T20:44:37.478227Z",
     "iopub.status.idle": "2022-01-10T20:44:37.488247Z",
     "shell.execute_reply": "2022-01-10T20:44:37.487205Z"
    }
   },
   "outputs": [],
   "source": [
    "import re\n",
    "from pathlib import Path\n",
    "from packaging.version import parse as parse_version\n",
    "import json"
   ]
  },
  {
   "cell_type": "code",
   "execution_count": 2,
   "id": "b619f570",
   "metadata": {
    "execution": {
     "iopub.execute_input": "2022-01-10T20:44:37.491207Z",
     "iopub.status.busy": "2022-01-10T20:44:37.491207Z",
     "iopub.status.idle": "2022-01-10T20:44:39.156816Z",
     "shell.execute_reply": "2022-01-10T20:44:39.157816Z"
    }
   },
   "outputs": [],
   "source": [
    "import pandas as pd\n",
    "import seaborn as sns"
   ]
  },
  {
   "cell_type": "markdown",
   "id": "86363b73",
   "metadata": {},
   "source": [
    "## Load DVC metrics\n",
    "\n",
    "Let's load all the DVC metrics:"
   ]
  },
  {
   "cell_type": "code",
   "execution_count": 3,
   "id": "3d1a2de4",
   "metadata": {
    "execution": {
     "iopub.execute_input": "2022-01-10T20:44:39.160816Z",
     "iopub.status.busy": "2022-01-10T20:44:39.160816Z",
     "iopub.status.idle": "2022-01-10T20:44:39.172388Z",
     "shell.execute_reply": "2022-01-10T20:44:39.172388Z"
    }
   },
   "outputs": [],
   "source": [
    "run_dir = Path('runs')"
   ]
  },
  {
   "cell_type": "code",
   "execution_count": 4,
   "id": "c70b130f",
   "metadata": {
    "execution": {
     "iopub.execute_input": "2022-01-10T20:44:39.176388Z",
     "iopub.status.busy": "2022-01-10T20:44:39.176388Z",
     "iopub.status.idle": "2022-01-10T20:44:39.203387Z",
     "shell.execute_reply": "2022-01-10T20:44:39.204388Z"
    }
   },
   "outputs": [
    {
     "data": {
      "text/plain": [
       "['0.10', '0.11', '0.12', '0.13', '0.9', 'main']"
      ]
     },
     "execution_count": 4,
     "metadata": {},
     "output_type": "execute_result"
    }
   ],
   "source": [
    "metrics = {}\n",
    "for file in run_dir.glob('*/metrics.csv'):\n",
    "    ver = file.parent.name\n",
    "    metrics[ver] = pd.read_csv(file)\n",
    "list(metrics.keys())"
   ]
  },
  {
   "cell_type": "code",
   "execution_count": 5,
   "id": "23026f22",
   "metadata": {
    "execution": {
     "iopub.execute_input": "2022-01-10T20:44:39.210388Z",
     "iopub.status.busy": "2022-01-10T20:44:39.209388Z",
     "iopub.status.idle": "2022-01-10T20:44:39.220385Z",
     "shell.execute_reply": "2022-01-10T20:44:39.220385Z"
    }
   },
   "outputs": [
    {
     "data": {
      "text/plain": [
       "['0.9', '0.10', '0.11', '0.12', '0.13', 'main']"
      ]
     },
     "execution_count": 5,
     "metadata": {},
     "output_type": "execute_result"
    }
   ],
   "source": [
    "versions = [k for k in metrics.keys() if k != 'main']\n",
    "versions.sort(key=parse_version)\n",
    "versions.append('main')\n",
    "versions"
   ]
  },
  {
   "cell_type": "markdown",
   "id": "26a59e94",
   "metadata": {},
   "source": [
    "Now let's collect all these metrics into a frame:"
   ]
  },
  {
   "cell_type": "code",
   "execution_count": 6,
   "id": "a2de14ab",
   "metadata": {
    "execution": {
     "iopub.execute_input": "2022-01-10T20:44:39.231385Z",
     "iopub.status.busy": "2022-01-10T20:44:39.230385Z",
     "iopub.status.idle": "2022-01-10T20:44:39.249945Z",
     "shell.execute_reply": "2022-01-10T20:44:39.249945Z"
    }
   },
   "outputs": [
    {
     "data": {
      "text/html": [
       "<div>\n",
       "<style scoped>\n",
       "    .dataframe tbody tr th:only-of-type {\n",
       "        vertical-align: middle;\n",
       "    }\n",
       "\n",
       "    .dataframe tbody tr th {\n",
       "        vertical-align: top;\n",
       "    }\n",
       "\n",
       "    .dataframe thead th {\n",
       "        text-align: right;\n",
       "    }\n",
       "</style>\n",
       "<table border=\"1\" class=\"dataframe\">\n",
       "  <thead>\n",
       "    <tr style=\"text-align: right;\">\n",
       "      <th></th>\n",
       "      <th>version</th>\n",
       "      <th>nDCG</th>\n",
       "      <th>GRMSE</th>\n",
       "      <th>TrainTime</th>\n",
       "      <th>train_times</th>\n",
       "      <th>run</th>\n",
       "    </tr>\n",
       "  </thead>\n",
       "  <tbody>\n",
       "    <tr>\n",
       "      <th>0</th>\n",
       "      <td>0.10</td>\n",
       "      <td>0.080848</td>\n",
       "      <td>0.931587</td>\n",
       "      <td>0.796975</td>\n",
       "      <td>[5.638262357097119, 0.6996124316938221, 0.7928...</td>\n",
       "      <td>ml100k-ALS</td>\n",
       "    </tr>\n",
       "    <tr>\n",
       "      <th>1</th>\n",
       "      <td>0.10</td>\n",
       "      <td>0.255799</td>\n",
       "      <td>3.005477</td>\n",
       "      <td>0.849629</td>\n",
       "      <td>[10.180080394260585, 0.7999795232899487, 0.803...</td>\n",
       "      <td>ml100k-IALS</td>\n",
       "    </tr>\n",
       "    <tr>\n",
       "      <th>2</th>\n",
       "      <td>0.10</td>\n",
       "      <td>0.058197</td>\n",
       "      <td>0.923417</td>\n",
       "      <td>0.254529</td>\n",
       "      <td>[5.031185398809612, 0.25452850805595517, 0.252...</td>\n",
       "      <td>ml100k-II</td>\n",
       "    </tr>\n",
       "    <tr>\n",
       "      <th>3</th>\n",
       "      <td>0.10</td>\n",
       "      <td>0.037624</td>\n",
       "      <td>0.958097</td>\n",
       "      <td>0.027818</td>\n",
       "      <td>[2.710465171840042, 0.027817589230835438, 0.02...</td>\n",
       "      <td>ml100k-UU</td>\n",
       "    </tr>\n",
       "    <tr>\n",
       "      <th>4</th>\n",
       "      <td>0.10</td>\n",
       "      <td>0.042339</td>\n",
       "      <td>0.856865</td>\n",
       "      <td>38.953442</td>\n",
       "      <td>[42.14392414689064, 36.4100628211163, 38.81304...</td>\n",
       "      <td>ml10m-ALS</td>\n",
       "    </tr>\n",
       "    <tr>\n",
       "      <th>...</th>\n",
       "      <td>...</td>\n",
       "      <td>...</td>\n",
       "      <td>...</td>\n",
       "      <td>...</td>\n",
       "      <td>...</td>\n",
       "      <td>...</td>\n",
       "    </tr>\n",
       "    <tr>\n",
       "      <th>82</th>\n",
       "      <td>main</td>\n",
       "      <td>0.043125</td>\n",
       "      <td>0.882551</td>\n",
       "      <td>5.845782</td>\n",
       "      <td>[14.7736312, 5.845782100000001, 5.497457500000...</td>\n",
       "      <td>ml1m-II</td>\n",
       "    </tr>\n",
       "    <tr>\n",
       "      <th>83</th>\n",
       "      <td>main</td>\n",
       "      <td>0.034272</td>\n",
       "      <td>0.921490</td>\n",
       "      <td>0.176179</td>\n",
       "      <td>[2.5506259999999994, 0.16942380000000057, 0.17...</td>\n",
       "      <td>ml1m-UU</td>\n",
       "    </tr>\n",
       "    <tr>\n",
       "      <th>84</th>\n",
       "      <td>main</td>\n",
       "      <td>0.032568</td>\n",
       "      <td>0.856040</td>\n",
       "      <td>142.792327</td>\n",
       "      <td>[155.4351694, 141.73250709999996, 146.85731440...</td>\n",
       "      <td>ml20m-ALS</td>\n",
       "    </tr>\n",
       "    <tr>\n",
       "      <th>85</th>\n",
       "      <td>main</td>\n",
       "      <td>0.211661</td>\n",
       "      <td>2.967886</td>\n",
       "      <td>120.725273</td>\n",
       "      <td>[136.1406389, 120.72527300000002, 119.28719590...</td>\n",
       "      <td>ml20m-IALS</td>\n",
       "    </tr>\n",
       "    <tr>\n",
       "      <th>86</th>\n",
       "      <td>main</td>\n",
       "      <td>0.001980</td>\n",
       "      <td>0.843864</td>\n",
       "      <td>89.571747</td>\n",
       "      <td>[92.1399836, 81.33456449999994, 91.18220710000...</td>\n",
       "      <td>ml20m-II</td>\n",
       "    </tr>\n",
       "  </tbody>\n",
       "</table>\n",
       "<p>87 rows × 6 columns</p>\n",
       "</div>"
      ],
      "text/plain": [
       "   version      nDCG     GRMSE   TrainTime  \\\n",
       "0     0.10  0.080848  0.931587    0.796975   \n",
       "1     0.10  0.255799  3.005477    0.849629   \n",
       "2     0.10  0.058197  0.923417    0.254529   \n",
       "3     0.10  0.037624  0.958097    0.027818   \n",
       "4     0.10  0.042339  0.856865   38.953442   \n",
       "..     ...       ...       ...         ...   \n",
       "82    main  0.043125  0.882551    5.845782   \n",
       "83    main  0.034272  0.921490    0.176179   \n",
       "84    main  0.032568  0.856040  142.792327   \n",
       "85    main  0.211661  2.967886  120.725273   \n",
       "86    main  0.001980  0.843864   89.571747   \n",
       "\n",
       "                                          train_times          run  \n",
       "0   [5.638262357097119, 0.6996124316938221, 0.7928...   ml100k-ALS  \n",
       "1   [10.180080394260585, 0.7999795232899487, 0.803...  ml100k-IALS  \n",
       "2   [5.031185398809612, 0.25452850805595517, 0.252...    ml100k-II  \n",
       "3   [2.710465171840042, 0.027817589230835438, 0.02...    ml100k-UU  \n",
       "4   [42.14392414689064, 36.4100628211163, 38.81304...    ml10m-ALS  \n",
       "..                                                ...          ...  \n",
       "82  [14.7736312, 5.845782100000001, 5.497457500000...      ml1m-II  \n",
       "83  [2.5506259999999994, 0.16942380000000057, 0.17...      ml1m-UU  \n",
       "84  [155.4351694, 141.73250709999996, 146.85731440...    ml20m-ALS  \n",
       "85  [136.1406389, 120.72527300000002, 119.28719590...   ml20m-IALS  \n",
       "86  [92.1399836, 81.33456449999994, 91.18220710000...     ml20m-II  \n",
       "\n",
       "[87 rows x 6 columns]"
      ]
     },
     "execution_count": 6,
     "metadata": {},
     "output_type": "execute_result"
    }
   ],
   "source": [
    "mdf = pd.concat(metrics, names=['version'])\n",
    "# pull version out of index\n",
    "mdf.reset_index('version', inplace=True)\n",
    "# drop remaining index\n",
    "mdf.reset_index(drop=True, inplace=True)\n",
    "# set up category and ordering\n",
    "mdf = mdf.astype({'version': 'category'})\n",
    "mdf['version'] = mdf['version'].cat.reorder_categories(versions)\n",
    "mdf"
   ]
  },
  {
   "cell_type": "markdown",
   "id": "7f968ae4",
   "metadata": {},
   "source": [
    "And get data sets & algorithms from run keys:"
   ]
  },
  {
   "cell_type": "code",
   "execution_count": 7,
   "id": "f7b4c1b3",
   "metadata": {
    "execution": {
     "iopub.execute_input": "2022-01-10T20:44:39.266942Z",
     "iopub.status.busy": "2022-01-10T20:44:39.261942Z",
     "iopub.status.idle": "2022-01-10T20:44:39.282941Z",
     "shell.execute_reply": "2022-01-10T20:44:39.282941Z"
    }
   },
   "outputs": [
    {
     "data": {
      "text/html": [
       "<div>\n",
       "<style scoped>\n",
       "    .dataframe tbody tr th:only-of-type {\n",
       "        vertical-align: middle;\n",
       "    }\n",
       "\n",
       "    .dataframe tbody tr th {\n",
       "        vertical-align: top;\n",
       "    }\n",
       "\n",
       "    .dataframe thead th {\n",
       "        text-align: right;\n",
       "    }\n",
       "</style>\n",
       "<table border=\"1\" class=\"dataframe\">\n",
       "  <thead>\n",
       "    <tr style=\"text-align: right;\">\n",
       "      <th></th>\n",
       "      <th>version</th>\n",
       "      <th>nDCG</th>\n",
       "      <th>GRMSE</th>\n",
       "      <th>TrainTime</th>\n",
       "      <th>train_times</th>\n",
       "      <th>run</th>\n",
       "      <th>data</th>\n",
       "      <th>algo</th>\n",
       "    </tr>\n",
       "  </thead>\n",
       "  <tbody>\n",
       "    <tr>\n",
       "      <th>0</th>\n",
       "      <td>0.10</td>\n",
       "      <td>0.080848</td>\n",
       "      <td>0.931587</td>\n",
       "      <td>0.796975</td>\n",
       "      <td>[5.638262357097119, 0.6996124316938221, 0.7928...</td>\n",
       "      <td>ml100k-ALS</td>\n",
       "      <td>ml100k</td>\n",
       "      <td>ALS</td>\n",
       "    </tr>\n",
       "    <tr>\n",
       "      <th>1</th>\n",
       "      <td>0.10</td>\n",
       "      <td>0.255799</td>\n",
       "      <td>3.005477</td>\n",
       "      <td>0.849629</td>\n",
       "      <td>[10.180080394260585, 0.7999795232899487, 0.803...</td>\n",
       "      <td>ml100k-IALS</td>\n",
       "      <td>ml100k</td>\n",
       "      <td>IALS</td>\n",
       "    </tr>\n",
       "    <tr>\n",
       "      <th>2</th>\n",
       "      <td>0.10</td>\n",
       "      <td>0.058197</td>\n",
       "      <td>0.923417</td>\n",
       "      <td>0.254529</td>\n",
       "      <td>[5.031185398809612, 0.25452850805595517, 0.252...</td>\n",
       "      <td>ml100k-II</td>\n",
       "      <td>ml100k</td>\n",
       "      <td>II</td>\n",
       "    </tr>\n",
       "    <tr>\n",
       "      <th>3</th>\n",
       "      <td>0.10</td>\n",
       "      <td>0.037624</td>\n",
       "      <td>0.958097</td>\n",
       "      <td>0.027818</td>\n",
       "      <td>[2.710465171840042, 0.027817589230835438, 0.02...</td>\n",
       "      <td>ml100k-UU</td>\n",
       "      <td>ml100k</td>\n",
       "      <td>UU</td>\n",
       "    </tr>\n",
       "    <tr>\n",
       "      <th>4</th>\n",
       "      <td>0.10</td>\n",
       "      <td>0.042339</td>\n",
       "      <td>0.856865</td>\n",
       "      <td>38.953442</td>\n",
       "      <td>[42.14392414689064, 36.4100628211163, 38.81304...</td>\n",
       "      <td>ml10m-ALS</td>\n",
       "      <td>ml10m</td>\n",
       "      <td>ALS</td>\n",
       "    </tr>\n",
       "    <tr>\n",
       "      <th>...</th>\n",
       "      <td>...</td>\n",
       "      <td>...</td>\n",
       "      <td>...</td>\n",
       "      <td>...</td>\n",
       "      <td>...</td>\n",
       "      <td>...</td>\n",
       "      <td>...</td>\n",
       "      <td>...</td>\n",
       "    </tr>\n",
       "    <tr>\n",
       "      <th>82</th>\n",
       "      <td>main</td>\n",
       "      <td>0.043125</td>\n",
       "      <td>0.882551</td>\n",
       "      <td>5.845782</td>\n",
       "      <td>[14.7736312, 5.845782100000001, 5.497457500000...</td>\n",
       "      <td>ml1m-II</td>\n",
       "      <td>ml1m</td>\n",
       "      <td>II</td>\n",
       "    </tr>\n",
       "    <tr>\n",
       "      <th>83</th>\n",
       "      <td>main</td>\n",
       "      <td>0.034272</td>\n",
       "      <td>0.921490</td>\n",
       "      <td>0.176179</td>\n",
       "      <td>[2.5506259999999994, 0.16942380000000057, 0.17...</td>\n",
       "      <td>ml1m-UU</td>\n",
       "      <td>ml1m</td>\n",
       "      <td>UU</td>\n",
       "    </tr>\n",
       "    <tr>\n",
       "      <th>84</th>\n",
       "      <td>main</td>\n",
       "      <td>0.032568</td>\n",
       "      <td>0.856040</td>\n",
       "      <td>142.792327</td>\n",
       "      <td>[155.4351694, 141.73250709999996, 146.85731440...</td>\n",
       "      <td>ml20m-ALS</td>\n",
       "      <td>ml20m</td>\n",
       "      <td>ALS</td>\n",
       "    </tr>\n",
       "    <tr>\n",
       "      <th>85</th>\n",
       "      <td>main</td>\n",
       "      <td>0.211661</td>\n",
       "      <td>2.967886</td>\n",
       "      <td>120.725273</td>\n",
       "      <td>[136.1406389, 120.72527300000002, 119.28719590...</td>\n",
       "      <td>ml20m-IALS</td>\n",
       "      <td>ml20m</td>\n",
       "      <td>IALS</td>\n",
       "    </tr>\n",
       "    <tr>\n",
       "      <th>86</th>\n",
       "      <td>main</td>\n",
       "      <td>0.001980</td>\n",
       "      <td>0.843864</td>\n",
       "      <td>89.571747</td>\n",
       "      <td>[92.1399836, 81.33456449999994, 91.18220710000...</td>\n",
       "      <td>ml20m-II</td>\n",
       "      <td>ml20m</td>\n",
       "      <td>II</td>\n",
       "    </tr>\n",
       "  </tbody>\n",
       "</table>\n",
       "<p>87 rows × 8 columns</p>\n",
       "</div>"
      ],
      "text/plain": [
       "   version      nDCG     GRMSE   TrainTime  \\\n",
       "0     0.10  0.080848  0.931587    0.796975   \n",
       "1     0.10  0.255799  3.005477    0.849629   \n",
       "2     0.10  0.058197  0.923417    0.254529   \n",
       "3     0.10  0.037624  0.958097    0.027818   \n",
       "4     0.10  0.042339  0.856865   38.953442   \n",
       "..     ...       ...       ...         ...   \n",
       "82    main  0.043125  0.882551    5.845782   \n",
       "83    main  0.034272  0.921490    0.176179   \n",
       "84    main  0.032568  0.856040  142.792327   \n",
       "85    main  0.211661  2.967886  120.725273   \n",
       "86    main  0.001980  0.843864   89.571747   \n",
       "\n",
       "                                          train_times          run    data  \\\n",
       "0   [5.638262357097119, 0.6996124316938221, 0.7928...   ml100k-ALS  ml100k   \n",
       "1   [10.180080394260585, 0.7999795232899487, 0.803...  ml100k-IALS  ml100k   \n",
       "2   [5.031185398809612, 0.25452850805595517, 0.252...    ml100k-II  ml100k   \n",
       "3   [2.710465171840042, 0.027817589230835438, 0.02...    ml100k-UU  ml100k   \n",
       "4   [42.14392414689064, 36.4100628211163, 38.81304...    ml10m-ALS   ml10m   \n",
       "..                                                ...          ...     ...   \n",
       "82  [14.7736312, 5.845782100000001, 5.497457500000...      ml1m-II    ml1m   \n",
       "83  [2.5506259999999994, 0.16942380000000057, 0.17...      ml1m-UU    ml1m   \n",
       "84  [155.4351694, 141.73250709999996, 146.85731440...    ml20m-ALS   ml20m   \n",
       "85  [136.1406389, 120.72527300000002, 119.28719590...   ml20m-IALS   ml20m   \n",
       "86  [92.1399836, 81.33456449999994, 91.18220710000...     ml20m-II   ml20m   \n",
       "\n",
       "    algo  \n",
       "0    ALS  \n",
       "1   IALS  \n",
       "2     II  \n",
       "3     UU  \n",
       "4    ALS  \n",
       "..   ...  \n",
       "82    II  \n",
       "83    UU  \n",
       "84   ALS  \n",
       "85  IALS  \n",
       "86    II  \n",
       "\n",
       "[87 rows x 8 columns]"
      ]
     },
     "execution_count": 7,
     "metadata": {},
     "output_type": "execute_result"
    }
   ],
   "source": [
    "mdf['data'] = mdf['run'].str.replace(r'^(\\w+)-.*', r'\\1', regex=True)\n",
    "mdf['algo'] = mdf['run'].str.replace(r'^\\w+-(.*)', r'\\1', regex=True)\n",
    "mdf"
   ]
  },
  {
   "cell_type": "markdown",
   "id": "93dc264e",
   "metadata": {},
   "source": [
    "## ALS Results\n",
    "\n",
    "Let's first look at biased MF from ALS:"
   ]
  },
  {
   "cell_type": "code",
   "execution_count": 8,
   "id": "ba4fde57",
   "metadata": {
    "execution": {
     "iopub.execute_input": "2022-01-10T20:44:39.302957Z",
     "iopub.status.busy": "2022-01-10T20:44:39.301941Z",
     "iopub.status.idle": "2022-01-10T20:44:39.502939Z",
     "shell.execute_reply": "2022-01-10T20:44:39.501939Z"
    }
   },
   "outputs": [
    {
     "data": {
      "text/plain": [
       "<AxesSubplot:xlabel='version', ylabel='GRMSE'>"
      ]
     },
     "execution_count": 8,
     "metadata": {},
     "output_type": "execute_result"
    },
    {
     "data": {
      "image/png": "[encoded data removed]",
      "text/plain": [
       "<Figure size 432x288 with 1 Axes>"
      ]
     },
     "metadata": {
      "needs_background": "light"
     },
     "output_type": "display_data"
    }
   ],
   "source": [
    "als = mdf[mdf['algo'] == 'ALS']\n",
    "sns.lineplot(x='version', y='GRMSE', hue='data', data=als)"
   ]
  },
  {
   "cell_type": "code",
   "execution_count": 9,
   "id": "4f8bb43a",
   "metadata": {
    "execution": {
     "iopub.execute_input": "2022-01-10T20:44:39.564938Z",
     "iopub.status.busy": "2022-01-10T20:44:39.533939Z",
     "iopub.status.idle": "2022-01-10T20:44:39.722937Z",
     "shell.execute_reply": "2022-01-10T20:44:39.721966Z"
    }
   },
   "outputs": [
    {
     "data": {
      "text/plain": [
       "<AxesSubplot:xlabel='version', ylabel='nDCG'>"
      ]
     },
     "execution_count": 9,
     "metadata": {},
     "output_type": "execute_result"
    },
    {
     "data": {
      "image/png": "[encoded data removed]",
      "text/plain": [
       "<Figure size 432x288 with 1 Axes>"
      ]
     },
     "metadata": {
      "needs_background": "light"
     },
     "output_type": "display_data"
    }
   ],
   "source": [
    "als = mdf[mdf['algo'] == 'ALS']\n",
    "sns.lineplot(x='version', y='nDCG', hue='data', data=als)"
   ]
  },
  {
   "cell_type": "markdown",
   "id": "6147d052",
   "metadata": {},
   "source": [
    "## Item-Item Results\n",
    "\n",
    "Now the item-item results:"
   ]
  },
  {
   "cell_type": "code",
   "execution_count": 10,
   "id": "afd60a24",
   "metadata": {
    "execution": {
     "iopub.execute_input": "2022-01-10T20:44:39.737936Z",
     "iopub.status.busy": "2022-01-10T20:44:39.736942Z",
     "iopub.status.idle": "2022-01-10T20:44:39.881780Z",
     "shell.execute_reply": "2022-01-10T20:44:39.880773Z"
    }
   },
   "outputs": [
    {
     "data": {
      "text/plain": [
       "<AxesSubplot:xlabel='version', ylabel='GRMSE'>"
      ]
     },
     "execution_count": 10,
     "metadata": {},
     "output_type": "execute_result"
    },
    {
     "data": {
      "image/png": "[encoded data removed]",
      "text/plain": [
       "<Figure size 432x288 with 1 Axes>"
      ]
     },
     "metadata": {
      "needs_background": "light"
     },
     "output_type": "display_data"
    }
   ],
   "source": [
    "ii_exp = mdf[mdf['algo'] == 'II']\n",
    "sns.lineplot(x='version', y='GRMSE', hue='data', data=ii_exp)"
   ]
  },
  {
   "cell_type": "code",
   "execution_count": 11,
   "id": "32520640",
   "metadata": {
    "execution": {
     "iopub.execute_input": "2022-01-10T20:44:39.949783Z",
     "iopub.status.busy": "2022-01-10T20:44:39.885780Z",
     "iopub.status.idle": "2022-01-10T20:44:40.096402Z",
     "shell.execute_reply": "2022-01-10T20:44:40.096402Z"
    }
   },
   "outputs": [
    {
     "data": {
      "text/plain": [
       "<AxesSubplot:xlabel='version', ylabel='nDCG'>"
      ]
     },
     "execution_count": 11,
     "metadata": {},
     "output_type": "execute_result"
    },
    {
     "data": {
      "image/png": "[encoded data removed]",
      "text/plain": [
       "<Figure size 432x288 with 1 Axes>"
      ]
     },
     "metadata": {
      "needs_background": "light"
     },
     "output_type": "display_data"
    }
   ],
   "source": [
    "ii_exp = mdf[mdf['algo'] == 'II']\n",
    "sns.lineplot(x='version', y='nDCG', hue='data', data=ii_exp)"
   ]
  },
  {
   "cell_type": "markdown",
   "id": "7991a3ac",
   "metadata": {},
   "source": [
    "## User-User Results\n"
   ]
  },
  {
   "cell_type": "code",
   "execution_count": 12,
   "id": "0fa4666e",
   "metadata": {
    "execution": {
     "iopub.execute_input": "2022-01-10T20:44:40.110402Z",
     "iopub.status.busy": "2022-01-10T20:44:40.108402Z",
     "iopub.status.idle": "2022-01-10T20:44:40.253220Z",
     "shell.execute_reply": "2022-01-10T20:44:40.252222Z"
    }
   },
   "outputs": [
    {
     "data": {
      "text/plain": [
       "<AxesSubplot:xlabel='version', ylabel='GRMSE'>"
      ]
     },
     "execution_count": 12,
     "metadata": {},
     "output_type": "execute_result"
    },
    {
     "data": {
      "image/png": "[encoded data removed]",
      "text/plain": [
       "<Figure size 432x288 with 1 Axes>"
      ]
     },
     "metadata": {
      "needs_background": "light"
     },
     "output_type": "display_data"
    }
   ],
   "source": [
    "uu_exp = mdf[mdf['algo'] == 'UU']\n",
    "sns.lineplot(x='version', y='GRMSE', hue='data', data=uu_exp)"
   ]
  },
  {
   "cell_type": "code",
   "execution_count": 13,
   "id": "e5d55edd",
   "metadata": {
    "execution": {
     "iopub.execute_input": "2022-01-10T20:44:40.272220Z",
     "iopub.status.busy": "2022-01-10T20:44:40.268248Z",
     "iopub.status.idle": "2022-01-10T20:44:40.378218Z",
     "shell.execute_reply": "2022-01-10T20:44:40.377218Z"
    }
   },
   "outputs": [
    {
     "data": {
      "text/plain": [
       "<AxesSubplot:xlabel='version', ylabel='nDCG'>"
      ]
     },
     "execution_count": 13,
     "metadata": {},
     "output_type": "execute_result"
    },
    {
     "data": {
      "image/png": "[encoded data removed]",
      "text/plain": [
       "<Figure size 432x288 with 1 Axes>"
      ]
     },
     "metadata": {
      "needs_background": "light"
     },
     "output_type": "display_data"
    }
   ],
   "source": [
    "uu_exp = mdf[mdf['algo'] == 'UU']\n",
    "sns.lineplot(x='version', y='nDCG', hue='data', data=uu_exp)"
   ]
  },
  {
   "cell_type": "markdown",
   "id": "bcad2de8",
   "metadata": {},
   "source": [
    "## IALS Results\n",
    "\n",
    "Let's first look at biased MF from Implicit ALS:"
   ]
  },
  {
   "cell_type": "code",
   "execution_count": 14,
   "id": "54d5adef",
   "metadata": {
    "execution": {
     "iopub.execute_input": "2022-01-10T20:44:40.403218Z",
     "iopub.status.busy": "2022-01-10T20:44:40.395254Z",
     "iopub.status.idle": "2022-01-10T20:44:40.521216Z",
     "shell.execute_reply": "2022-01-10T20:44:40.521216Z"
    }
   },
   "outputs": [
    {
     "data": {
      "text/plain": [
       "<AxesSubplot:xlabel='version', ylabel='nDCG'>"
      ]
     },
     "execution_count": 14,
     "metadata": {},
     "output_type": "execute_result"
    },
    {
     "data": {
      "image/png": "[encoded data removed]",
      "text/plain": [
       "<Figure size 432x288 with 1 Axes>"
      ]
     },
     "metadata": {
      "needs_background": "light"
     },
     "output_type": "display_data"
    }
   ],
   "source": [
    "als = mdf[mdf['algo'] == 'IALS']\n",
    "sns.lineplot(x='version', y='nDCG', hue='data', data=als)"
   ]
  },
  {
   "cell_type": "markdown",
   "id": "8f3e2fff",
   "metadata": {},
   "source": [
    "## Combined Algorithm Results\n",
    "\n",
    "Let's look at all the algorithms together as a point plot:"
   ]
  },
  {
   "cell_type": "code",
   "execution_count": 15,
   "id": "d9a775df",
   "metadata": {
    "execution": {
     "iopub.execute_input": "2022-01-10T20:44:40.534876Z",
     "iopub.status.busy": "2022-01-10T20:44:40.532216Z",
     "iopub.status.idle": "2022-01-10T20:44:41.370756Z",
     "shell.execute_reply": "2022-01-10T20:44:41.369756Z"
    }
   },
   "outputs": [
    {
     "data": {
      "text/plain": [
       "<seaborn.axisgrid.FacetGrid at 0x27477da1910>"
      ]
     },
     "execution_count": 15,
     "metadata": {},
     "output_type": "execute_result"
    },
    {
     "data": {
      "image/png": "[encoded data removed]",
      "text/plain": [
       "<Figure size 1513.38x360 with 4 Axes>"
      ]
     },
     "metadata": {
      "needs_background": "light"
     },
     "output_type": "display_data"
    }
   ],
   "source": [
    "sns.catplot(x='version', y='nDCG', hue='data', col='algo', data=mdf, kind='point')"
   ]
  },
  {
   "cell_type": "code",
   "execution_count": null,
   "id": "8678c2d0",
   "metadata": {},
   "outputs": [],
   "source": []
  }
 ],
 "metadata": {
  "jupytext": {
   "formats": "ipynb,py:percent"
  },
  "kernelspec": {
   "display_name": "Python 3 (ipykernel)",
   "language": "python",
   "name": "python3"
  },
  "language_info": {
   "codemirror_mode": {
    "name": "ipython",
    "version": 3
   },
   "file_extension": ".py",
   "mimetype": "text/x-python",
   "name": "python",
   "nbconvert_exporter": "python",
   "pygments_lexer": "ipython3",
   "version": "3.9.7"
  }
 },
 "nbformat": 4,
 "nbformat_minor": 5
}
