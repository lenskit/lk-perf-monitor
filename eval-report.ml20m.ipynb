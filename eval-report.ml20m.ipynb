{
 "cells": [
  {
   "cell_type": "markdown",
   "metadata": {
    "papermill": {
     "duration": 0.017223,
     "end_time": "2020-06-08T19:26:46.309753",
     "exception": false,
     "start_time": "2020-06-08T19:26:46.292530",
     "status": "completed"
    },
    "tags": []
   },
   "source": [
    "# Evaluation Analysis for Recommender Output"
   ]
  },
  {
   "cell_type": "markdown",
   "metadata": {
    "papermill": {
     "duration": 0.016343,
     "end_time": "2020-06-08T19:26:46.342428",
     "exception": false,
     "start_time": "2020-06-08T19:26:46.326085",
     "status": "completed"
    },
    "tags": []
   },
   "source": [
    "In this section we will analyze and compare the generated recommendations and predictions from a predefined list of algorithms with the goal of assessing the performance of each algorithm with respect to a metric. In other words, we would rank the algorithms for each metric considered with respect to performance."
   ]
  },
  {
   "cell_type": "markdown",
   "metadata": {
    "papermill": {
     "duration": 0.016014,
     "end_time": "2020-06-08T19:26:46.374469",
     "exception": false,
     "start_time": "2020-06-08T19:26:46.358455",
     "status": "completed"
    },
    "tags": []
   },
   "source": [
    "# Setup"
   ]
  },
  {
   "cell_type": "markdown",
   "metadata": {
    "papermill": {
     "duration": 0.017808,
     "end_time": "2020-06-08T19:26:46.408487",
     "exception": false,
     "start_time": "2020-06-08T19:26:46.390679",
     "status": "completed"
    },
    "tags": []
   },
   "source": [
    "Below are the list of packages required to successfully run the analysis. They are divided into partitions to signify their specific task.<br>\n",
    "We need the pathlib package for working with files and folders"
   ]
  },
  {
   "cell_type": "code",
   "execution_count": 1,
   "metadata": {
    "execution": {
     "iopub.execute_input": "2020-06-08T19:26:46.445927Z",
     "iopub.status.busy": "2020-06-08T19:26:46.445489Z",
     "iopub.status.idle": "2020-06-08T19:26:46.447631Z",
     "shell.execute_reply": "2020-06-08T19:26:46.447227Z"
    },
    "papermill": {
     "duration": 0.022714,
     "end_time": "2020-06-08T19:26:46.447724",
     "exception": false,
     "start_time": "2020-06-08T19:26:46.425010",
     "status": "completed"
    },
    "tags": []
   },
   "outputs": [],
   "source": [
    "from pathlib import Path"
   ]
  },
  {
   "cell_type": "markdown",
   "metadata": {
    "papermill": {
     "duration": 0.016076,
     "end_time": "2020-06-08T19:26:46.480683",
     "exception": false,
     "start_time": "2020-06-08T19:26:46.464607",
     "status": "completed"
    },
    "tags": []
   },
   "source": [
    "We would use the pandas for analyzing and manipulating our data while seaborn and matplotlib are used for data visualization. statsmodels.graphics.gofplots and scipy.stats.shapiro are used for normality check. Scipy.stats.friedmanchisquare is a non-parametric test used to determine the statistical significance in metric results and the wilcoxon test is used for pairwise comparison of sample data."
   ]
  },
  {
   "cell_type": "code",
   "execution_count": 2,
   "metadata": {
    "execution": {
     "iopub.execute_input": "2020-06-08T19:26:46.516208Z",
     "iopub.status.busy": "2020-06-08T19:26:46.515658Z",
     "iopub.status.idle": "2020-06-08T19:26:47.348963Z",
     "shell.execute_reply": "2020-06-08T19:26:47.348554Z"
    },
    "papermill": {
     "duration": 0.85232,
     "end_time": "2020-06-08T19:26:47.349091",
     "exception": false,
     "start_time": "2020-06-08T19:26:46.496771",
     "status": "completed"
    },
    "tags": []
   },
   "outputs": [],
   "source": [
    "import pandas as pd\n",
    "import seaborn as sns\n",
    "import matplotlib.pyplot as plt\n",
    "from statsmodels.graphics.gofplots import qqplot\n",
    "from scipy.stats import shapiro\n",
    "from scipy.stats import friedmanchisquare, wilcoxon\n",
    "from itertools import combinations"
   ]
  },
  {
   "cell_type": "markdown",
   "metadata": {
    "papermill": {
     "duration": 0.016355,
     "end_time": "2020-06-08T19:26:47.383154",
     "exception": false,
     "start_time": "2020-06-08T19:26:47.366799",
     "status": "completed"
    },
    "tags": []
   },
   "source": [
    "Logging to show what's happening in LensKit routines:"
   ]
  },
  {
   "cell_type": "code",
   "execution_count": 3,
   "metadata": {
    "execution": {
     "iopub.execute_input": "2020-06-08T19:26:47.419266Z",
     "iopub.status.busy": "2020-06-08T19:26:47.418780Z",
     "iopub.status.idle": "2020-06-08T19:26:47.520832Z",
     "shell.execute_reply": "2020-06-08T19:26:47.521180Z"
    },
    "papermill": {
     "duration": 0.122136,
     "end_time": "2020-06-08T19:26:47.521275",
     "exception": false,
     "start_time": "2020-06-08T19:26:47.399139",
     "status": "completed"
    },
    "tags": []
   },
   "outputs": [
    {
     "name": "stdout",
     "output_type": "stream",
     "text": [
      "[   INFO] lenskit.util.log notebook logging configured\n"
     ]
    }
   ],
   "source": [
    "from lenskit import util\n",
    "util.log_to_notebook()"
   ]
  },
  {
   "cell_type": "markdown",
   "metadata": {
    "papermill": {
     "duration": 0.016497,
     "end_time": "2020-06-08T19:26:47.554577",
     "exception": false,
     "start_time": "2020-06-08T19:26:47.538080",
     "status": "completed"
    },
    "tags": []
   },
   "source": [
    "We will use lenskit for training, running, and evaluating recommender algorithms"
   ]
  },
  {
   "cell_type": "code",
   "execution_count": 4,
   "metadata": {
    "execution": {
     "iopub.execute_input": "2020-06-08T19:26:47.590374Z",
     "iopub.status.busy": "2020-06-08T19:26:47.589863Z",
     "iopub.status.idle": "2020-06-08T19:26:47.594351Z",
     "shell.execute_reply": "2020-06-08T19:26:47.593962Z"
    },
    "papermill": {
     "duration": 0.023369,
     "end_time": "2020-06-08T19:26:47.594429",
     "exception": false,
     "start_time": "2020-06-08T19:26:47.571060",
     "status": "completed"
    },
    "tags": []
   },
   "outputs": [],
   "source": [
    "from lenskit import topn\n",
    "from lenskit.metrics.predict import rmse"
   ]
  },
  {
   "cell_type": "markdown",
   "metadata": {
    "papermill": {
     "duration": 0.016509,
     "end_time": "2020-06-08T19:26:47.627691",
     "exception": false,
     "start_time": "2020-06-08T19:26:47.611182",
     "status": "completed"
    },
    "tags": []
   },
   "source": [
    "# Load Data"
   ]
  },
  {
   "cell_type": "markdown",
   "metadata": {
    "papermill": {
     "duration": 0.01642,
     "end_time": "2020-06-08T19:26:47.660590",
     "exception": false,
     "start_time": "2020-06-08T19:26:47.644170",
     "status": "completed"
    },
    "tags": []
   },
   "source": [
    "We specify the dataset we will use for our analysis and the main directory from where we read the recommendation and prediction files. From the main directory we find all the directories associated with the dataset and then read the recommendation and predictions files from those directories."
   ]
  },
  {
   "cell_type": "code",
   "execution_count": 5,
   "metadata": {
    "execution": {
     "iopub.execute_input": "2020-06-08T19:26:47.696349Z",
     "iopub.status.busy": "2020-06-08T19:26:47.695904Z",
     "iopub.status.idle": "2020-06-08T19:26:47.697905Z",
     "shell.execute_reply": "2020-06-08T19:26:47.697533Z"
    },
    "papermill": {
     "duration": 0.020671,
     "end_time": "2020-06-08T19:26:47.697984",
     "exception": false,
     "start_time": "2020-06-08T19:26:47.677313",
     "status": "completed"
    },
    "tags": [
     "parameters"
    ]
   },
   "outputs": [],
   "source": [
    "dataset = \"ml10m\""
   ]
  },
  {
   "cell_type": "code",
   "execution_count": 6,
   "metadata": {
    "execution": {
     "iopub.execute_input": "2020-06-08T19:26:47.733327Z",
     "iopub.status.busy": "2020-06-08T19:26:47.732891Z",
     "iopub.status.idle": "2020-06-08T19:26:47.734537Z",
     "shell.execute_reply": "2020-06-08T19:26:47.734892Z"
    },
    "papermill": {
     "duration": 0.020526,
     "end_time": "2020-06-08T19:26:47.734985",
     "exception": false,
     "start_time": "2020-06-08T19:26:47.714459",
     "status": "completed"
    },
    "tags": [
     "injected-parameters"
    ]
   },
   "outputs": [],
   "source": [
    "# Parameters\n",
    "dataset = \"ml20m\"\n"
   ]
  },
  {
   "cell_type": "code",
   "execution_count": 7,
   "metadata": {
    "execution": {
     "iopub.execute_input": "2020-06-08T19:26:47.770786Z",
     "iopub.status.busy": "2020-06-08T19:26:47.770356Z",
     "iopub.status.idle": "2020-06-08T19:26:47.772103Z",
     "shell.execute_reply": "2020-06-08T19:26:47.771668Z"
    },
    "papermill": {
     "duration": 0.020832,
     "end_time": "2020-06-08T19:26:47.772180",
     "exception": false,
     "start_time": "2020-06-08T19:26:47.751348",
     "status": "completed"
    },
    "tags": []
   },
   "outputs": [],
   "source": [
    "output_root = Path(\"runs\")"
   ]
  },
  {
   "cell_type": "code",
   "execution_count": 8,
   "metadata": {
    "execution": {
     "iopub.execute_input": "2020-06-08T19:26:47.808129Z",
     "iopub.status.busy": "2020-06-08T19:26:47.807695Z",
     "iopub.status.idle": "2020-06-08T19:26:47.809764Z",
     "shell.execute_reply": "2020-06-08T19:26:47.809154Z"
    },
    "papermill": {
     "duration": 0.02119,
     "end_time": "2020-06-08T19:26:47.809842",
     "exception": false,
     "start_time": "2020-06-08T19:26:47.788652",
     "status": "completed"
    },
    "tags": []
   },
   "outputs": [],
   "source": [
    "dirs = [fld for fld in output_root.glob(f'{dataset}-*')]"
   ]
  },
  {
   "cell_type": "code",
   "execution_count": 9,
   "metadata": {
    "execution": {
     "iopub.execute_input": "2020-06-08T19:26:47.847160Z",
     "iopub.status.busy": "2020-06-08T19:26:47.846673Z",
     "iopub.status.idle": "2020-06-08T19:27:51.332447Z",
     "shell.execute_reply": "2020-06-08T19:27:51.332813Z"
    },
    "papermill": {
     "duration": 63.506584,
     "end_time": "2020-06-08T19:27:51.332931",
     "exception": false,
     "start_time": "2020-06-08T19:26:47.826347",
     "status": "completed"
    },
    "tags": []
   },
   "outputs": [
    {
     "name": "stdout",
     "output_type": "stream",
     "text": [
      "<class 'pandas.core.frame.DataFrame'>\n",
      "RangeIndex: 110784800 entries, 0 to 110784799\n",
      "Data columns (total 5 columns):\n",
      " #   Column     Dtype   \n",
      "---  ------     -----   \n",
      " 0   item       int64   \n",
      " 1   score      float64 \n",
      " 2   user       int64   \n",
      " 3   rank       int64   \n",
      " 4   algorithm  category\n",
      "dtypes: category(1), float64(1), int64(3)\n",
      "memory usage: 3.4 GB\n"
     ]
    }
   ],
   "source": [
    "recs = []\n",
    "for fld in dirs: \n",
    "    for file in fld.glob(\"recs-*\"):\n",
    "        rec = pd.read_csv(file, sep=',')\n",
    "        rec[\"algorithm\"] = fld.name.split(\"-\")[1]\n",
    "        recs.append(rec)\n",
    "\n",
    "recs = pd.concat(recs, ignore_index=True)\n",
    "recs = recs.astype({'algorithm': 'category'})\n",
    "recs.info()"
   ]
  },
  {
   "cell_type": "code",
   "execution_count": 10,
   "metadata": {
    "execution": {
     "iopub.execute_input": "2020-06-08T19:27:51.369958Z",
     "iopub.status.busy": "2020-06-08T19:27:51.369527Z",
     "iopub.status.idle": "2020-06-08T19:27:51.955315Z",
     "shell.execute_reply": "2020-06-08T19:27:51.955682Z"
    },
    "papermill": {
     "duration": 0.606071,
     "end_time": "2020-06-08T19:27:51.955802",
     "exception": false,
     "start_time": "2020-06-08T19:27:51.349731",
     "status": "completed"
    },
    "tags": []
   },
   "outputs": [
    {
     "data": {
      "text/plain": [
       "[Bias, Pop, ALS, IALS, II, UU, BPR, TFMF]\n",
       "Categories (8, object): [Bias, Pop, ALS, IALS, II, UU, BPR, TFMF]"
      ]
     },
     "execution_count": 10,
     "metadata": {},
     "output_type": "execute_result"
    }
   ],
   "source": [
    "rec_algos = recs['algorithm'].unique()\n",
    "rec_algos"
   ]
  },
  {
   "cell_type": "code",
   "execution_count": 11,
   "metadata": {
    "execution": {
     "iopub.execute_input": "2020-06-08T19:27:51.995237Z",
     "iopub.status.busy": "2020-06-08T19:27:51.994769Z",
     "iopub.status.idle": "2020-06-08T19:27:54.563352Z",
     "shell.execute_reply": "2020-06-08T19:27:54.562946Z"
    },
    "papermill": {
     "duration": 2.59008,
     "end_time": "2020-06-08T19:27:54.563442",
     "exception": false,
     "start_time": "2020-06-08T19:27:51.973362",
     "status": "completed"
    },
    "tags": []
   },
   "outputs": [
    {
     "name": "stdout",
     "output_type": "stream",
     "text": [
      "<class 'pandas.core.frame.DataFrame'>\n",
      "RangeIndex: 3462325 entries, 0 to 3462324\n",
      "Data columns (total 6 columns):\n",
      " #   Column      Dtype   \n",
      "---  ------      -----   \n",
      " 0   user        int64   \n",
      " 1   item        int64   \n",
      " 2   rating      float64 \n",
      " 3   timestamp   int64   \n",
      " 4   prediction  float64 \n",
      " 5   algorithm   category\n",
      "dtypes: category(1), float64(2), int64(3)\n",
      "memory usage: 135.4 MB\n"
     ]
    }
   ],
   "source": [
    "preds = []\n",
    "for fld in dirs:\n",
    "    for file in fld.glob(\"pred-*\"):\n",
    "        pred = pd.read_csv(file, sep=',')\n",
    "        pred[\"algorithm\"] = fld.name.split(\"-\")[1]\n",
    "        preds.append(pred)\n",
    "\n",
    "preds = pd.concat(preds, ignore_index=True)\n",
    "preds = preds.astype({'algorithm': 'category'})\n",
    "preds.info()"
   ]
  },
  {
   "cell_type": "markdown",
   "metadata": {
    "papermill": {
     "duration": 0.017158,
     "end_time": "2020-06-08T19:27:54.598755",
     "exception": false,
     "start_time": "2020-06-08T19:27:54.581597",
     "status": "completed"
    },
    "tags": []
   },
   "source": [
    "We need to load the test data so that we have the ground truths for computing accuracy "
   ]
  },
  {
   "cell_type": "code",
   "execution_count": 12,
   "metadata": {
    "execution": {
     "iopub.execute_input": "2020-06-08T19:27:54.637597Z",
     "iopub.status.busy": "2020-06-08T19:27:54.637144Z",
     "iopub.status.idle": "2020-06-08T19:27:54.638968Z",
     "shell.execute_reply": "2020-06-08T19:27:54.638600Z"
    },
    "papermill": {
     "duration": 0.022171,
     "end_time": "2020-06-08T19:27:54.639055",
     "exception": false,
     "start_time": "2020-06-08T19:27:54.616884",
     "status": "completed"
    },
    "tags": []
   },
   "outputs": [],
   "source": [
    "split_root = Path(\"data-split\")\n",
    "split_dir = split_root / dataset"
   ]
  },
  {
   "cell_type": "code",
   "execution_count": 13,
   "metadata": {
    "execution": {
     "iopub.execute_input": "2020-06-08T19:27:54.677598Z",
     "iopub.status.busy": "2020-06-08T19:27:54.677039Z",
     "iopub.status.idle": "2020-06-08T19:27:55.059385Z",
     "shell.execute_reply": "2020-06-08T19:27:55.059739Z"
    },
    "papermill": {
     "duration": 0.40328,
     "end_time": "2020-06-08T19:27:55.059868",
     "exception": false,
     "start_time": "2020-06-08T19:27:54.656588",
     "status": "completed"
    },
    "tags": []
   },
   "outputs": [],
   "source": [
    "test = []\n",
    "for file in split_dir.glob(\"test-*.csv.gz\"):\n",
    "    test.append(pd.read_csv(file, sep=','))\n",
    "\n",
    "test = pd.concat(test, ignore_index=True)"
   ]
  },
  {
   "cell_type": "markdown",
   "metadata": {
    "papermill": {
     "duration": 0.017282,
     "end_time": "2020-06-08T19:27:55.094852",
     "exception": false,
     "start_time": "2020-06-08T19:27:55.077570",
     "status": "completed"
    },
    "tags": []
   },
   "source": [
    "# Top-N Metrics"
   ]
  },
  {
   "cell_type": "markdown",
   "metadata": {
    "papermill": {
     "duration": 0.017687,
     "end_time": "2020-06-08T19:27:55.130920",
     "exception": false,
     "start_time": "2020-06-08T19:27:55.113233",
     "status": "completed"
    },
    "tags": []
   },
   "source": [
    "The topn.RecListAnalysis class computes top-N metrics for recommendation list and takes care of making sure that the recommendations and ground truths are properly matched. Refer to the documentation for detailed explanation of the purpose for the RecListAnalysis class and how the analysis is done - https://lkpy.lenskit.org/en/stable/evaluation/topn-metrics.html "
   ]
  },
  {
   "cell_type": "code",
   "execution_count": 14,
   "metadata": {
    "execution": {
     "iopub.execute_input": "2020-06-08T19:27:55.170144Z",
     "iopub.status.busy": "2020-06-08T19:27:55.169606Z",
     "iopub.status.idle": "2020-06-08T19:37:02.451725Z",
     "shell.execute_reply": "2020-06-08T19:37:02.451359Z"
    },
    "papermill": {
     "duration": 547.303529,
     "end_time": "2020-06-08T19:37:02.451819",
     "exception": false,
     "start_time": "2020-06-08T19:27:55.148290",
     "status": "completed"
    },
    "tags": []
   },
   "outputs": [
    {
     "name": "stdout",
     "output_type": "stream",
     "text": [
      "[   INFO] lenskit.topn analyzing 110784800 recommendations (692465 truth rows)\n"
     ]
    },
    {
     "name": "stdout",
     "output_type": "stream",
     "text": [
      "[   INFO] lenskit.topn using rec key columns ['algorithm', 'user']\n"
     ]
    },
    {
     "name": "stdout",
     "output_type": "stream",
     "text": [
      "[   INFO] lenskit.topn using truth key columns ['user']\n"
     ]
    },
    {
     "name": "stdout",
     "output_type": "stream",
     "text": [
      "[   INFO] lenskit.topn collecting truth data\n"
     ]
    },
    {
     "name": "stdout",
     "output_type": "stream",
     "text": [
      "[   INFO] lenskit.topn collecting metric results\n"
     ]
    },
    {
     "name": "stdout",
     "output_type": "stream",
     "text": [
      "[   INFO] lenskit.sharing.shm serialized <lenskit.topn._RLAJob object at 0x2aaadd446580> to 48211182 pickle bytes with 415483 buffers of 3678057304 bytes\n"
     ]
    },
    {
     "name": "stdout",
     "output_type": "stream",
     "text": [
      "[   INFO] lenskit.util.parallel setting up ProcessPoolExecutor w/ 14 workers\n"
     ]
    },
    {
     "name": "stdout",
     "output_type": "stream",
     "text": [
      "[   INFO] lenskit.topn measured 1107848 lists in 6m16.12s\n"
     ]
    },
    {
     "name": "stdout",
     "output_type": "stream",
     "text": [
      "[   INFO] lenskit.topn filling in missing user info\n"
     ]
    },
    {
     "data": {
      "text/html": [
       "<div>\n",
       "<style scoped>\n",
       "    .dataframe tbody tr th:only-of-type {\n",
       "        vertical-align: middle;\n",
       "    }\n",
       "\n",
       "    .dataframe tbody tr th {\n",
       "        vertical-align: top;\n",
       "    }\n",
       "\n",
       "    .dataframe thead th {\n",
       "        text-align: right;\n",
       "    }\n",
       "</style>\n",
       "<table border=\"1\" class=\"dataframe\">\n",
       "  <thead>\n",
       "    <tr style=\"text-align: right;\">\n",
       "      <th></th>\n",
       "      <th></th>\n",
       "      <th>nrecs</th>\n",
       "      <th>precision</th>\n",
       "      <th>recip_rank</th>\n",
       "      <th>ndcg</th>\n",
       "      <th>ntruth</th>\n",
       "    </tr>\n",
       "    <tr>\n",
       "      <th>algorithm</th>\n",
       "      <th>user</th>\n",
       "      <th></th>\n",
       "      <th></th>\n",
       "      <th></th>\n",
       "      <th></th>\n",
       "      <th></th>\n",
       "    </tr>\n",
       "  </thead>\n",
       "  <tbody>\n",
       "    <tr>\n",
       "      <th rowspan=\"5\" valign=\"top\">ALS</th>\n",
       "      <th>1</th>\n",
       "      <td>100.0</td>\n",
       "      <td>0.00</td>\n",
       "      <td>0.000000</td>\n",
       "      <td>0.000000</td>\n",
       "      <td>5</td>\n",
       "    </tr>\n",
       "    <tr>\n",
       "      <th>2</th>\n",
       "      <td>100.0</td>\n",
       "      <td>0.02</td>\n",
       "      <td>0.111111</td>\n",
       "      <td>0.154893</td>\n",
       "      <td>5</td>\n",
       "    </tr>\n",
       "    <tr>\n",
       "      <th>3</th>\n",
       "      <td>100.0</td>\n",
       "      <td>0.00</td>\n",
       "      <td>0.000000</td>\n",
       "      <td>0.000000</td>\n",
       "      <td>5</td>\n",
       "    </tr>\n",
       "    <tr>\n",
       "      <th>4</th>\n",
       "      <td>100.0</td>\n",
       "      <td>0.00</td>\n",
       "      <td>0.000000</td>\n",
       "      <td>0.000000</td>\n",
       "      <td>5</td>\n",
       "    </tr>\n",
       "    <tr>\n",
       "      <th>5</th>\n",
       "      <td>100.0</td>\n",
       "      <td>0.02</td>\n",
       "      <td>0.022222</td>\n",
       "      <td>0.084485</td>\n",
       "      <td>5</td>\n",
       "    </tr>\n",
       "  </tbody>\n",
       "</table>\n",
       "</div>"
      ],
      "text/plain": [
       "                nrecs  precision  recip_rank      ndcg  ntruth\n",
       "algorithm user                                                \n",
       "ALS       1     100.0       0.00    0.000000  0.000000       5\n",
       "          2     100.0       0.02    0.111111  0.154893       5\n",
       "          3     100.0       0.00    0.000000  0.000000       5\n",
       "          4     100.0       0.00    0.000000  0.000000       5\n",
       "          5     100.0       0.02    0.022222  0.084485       5"
      ]
     },
     "execution_count": 14,
     "metadata": {},
     "output_type": "execute_result"
    }
   ],
   "source": [
    "rla = topn.RecListAnalysis()\n",
    "\n",
    "rla.add_metric(topn.precision)\n",
    "rla.add_metric(topn.recip_rank)\n",
    "rla.add_metric(topn.ndcg)\n",
    "results = rla.compute(recs, test, include_missing=True)\n",
    "results = results.fillna(0)\n",
    "results.head()"
   ]
  },
  {
   "cell_type": "markdown",
   "metadata": {
    "papermill": {
     "duration": 0.019881,
     "end_time": "2020-06-08T19:37:02.491975",
     "exception": false,
     "start_time": "2020-06-08T19:37:02.472094",
     "status": "completed"
    },
    "tags": []
   },
   "source": [
    "We will reshape the 'results' dataframe by stacking the columns to index and then use the bar chart to visualize the performance of our algorithms with respect to the precision, reciprocal rank and ndcg metrics"
   ]
  },
  {
   "cell_type": "code",
   "execution_count": 15,
   "metadata": {
    "execution": {
     "iopub.execute_input": "2020-06-08T19:37:02.543056Z",
     "iopub.status.busy": "2020-06-08T19:37:02.542597Z",
     "iopub.status.idle": "2020-06-08T19:37:02.759819Z",
     "shell.execute_reply": "2020-06-08T19:37:02.759371Z"
    },
    "papermill": {
     "duration": 0.247711,
     "end_time": "2020-06-08T19:37:02.759912",
     "exception": false,
     "start_time": "2020-06-08T19:37:02.512201",
     "status": "completed"
    },
    "tags": []
   },
   "outputs": [
    {
     "data": {
      "text/html": [
       "<div>\n",
       "<style scoped>\n",
       "    .dataframe tbody tr th:only-of-type {\n",
       "        vertical-align: middle;\n",
       "    }\n",
       "\n",
       "    .dataframe tbody tr th {\n",
       "        vertical-align: top;\n",
       "    }\n",
       "\n",
       "    .dataframe thead th {\n",
       "        text-align: right;\n",
       "    }\n",
       "</style>\n",
       "<table border=\"1\" class=\"dataframe\">\n",
       "  <thead>\n",
       "    <tr style=\"text-align: right;\">\n",
       "      <th></th>\n",
       "      <th>algorithm</th>\n",
       "      <th>user</th>\n",
       "      <th>metric</th>\n",
       "      <th>val</th>\n",
       "    </tr>\n",
       "  </thead>\n",
       "  <tbody>\n",
       "    <tr>\n",
       "      <th>0</th>\n",
       "      <td>ALS</td>\n",
       "      <td>1</td>\n",
       "      <td>precision</td>\n",
       "      <td>0.000000</td>\n",
       "    </tr>\n",
       "    <tr>\n",
       "      <th>1</th>\n",
       "      <td>ALS</td>\n",
       "      <td>1</td>\n",
       "      <td>recip_rank</td>\n",
       "      <td>0.000000</td>\n",
       "    </tr>\n",
       "    <tr>\n",
       "      <th>2</th>\n",
       "      <td>ALS</td>\n",
       "      <td>1</td>\n",
       "      <td>ndcg</td>\n",
       "      <td>0.000000</td>\n",
       "    </tr>\n",
       "    <tr>\n",
       "      <th>3</th>\n",
       "      <td>ALS</td>\n",
       "      <td>2</td>\n",
       "      <td>precision</td>\n",
       "      <td>0.020000</td>\n",
       "    </tr>\n",
       "    <tr>\n",
       "      <th>4</th>\n",
       "      <td>ALS</td>\n",
       "      <td>2</td>\n",
       "      <td>recip_rank</td>\n",
       "      <td>0.111111</td>\n",
       "    </tr>\n",
       "  </tbody>\n",
       "</table>\n",
       "</div>"
      ],
      "text/plain": [
       "  algorithm  user      metric       val\n",
       "0       ALS     1   precision  0.000000\n",
       "1       ALS     1  recip_rank  0.000000\n",
       "2       ALS     1        ndcg  0.000000\n",
       "3       ALS     2   precision  0.020000\n",
       "4       ALS     2  recip_rank  0.111111"
      ]
     },
     "execution_count": 15,
     "metadata": {},
     "output_type": "execute_result"
    }
   ],
   "source": [
    "pltData = (results.drop(columns=['nrecs', 'ntruth']).stack()).reset_index()\n",
    "pltData.columns = ['algorithm', 'user', 'metric', 'val']\n",
    "pltData.head()"
   ]
  },
  {
   "cell_type": "markdown",
   "metadata": {
    "papermill": {
     "duration": 0.020964,
     "end_time": "2020-06-08T19:37:02.801605",
     "exception": false,
     "start_time": "2020-06-08T19:37:02.780641",
     "status": "completed"
    },
    "tags": []
   },
   "source": [
    "We need to determine if the differences we observe in the performances of the algorithms for the various metrics are statistically significant. To achieve this, we will need to use either a parametric or non-parametric statistical test for comparing the differences. We will consider a parametric test - repeated ANOVA measure cause our sample groups are correlated."
   ]
  },
  {
   "cell_type": "code",
   "execution_count": 16,
   "metadata": {
    "execution": {
     "iopub.execute_input": "2020-06-08T19:37:02.906108Z",
     "iopub.status.busy": "2020-06-08T19:37:02.905633Z",
     "iopub.status.idle": "2020-06-08T19:37:25.921376Z",
     "shell.execute_reply": "2020-06-08T19:37:25.921715Z"
    },
    "papermill": {
     "duration": 23.099877,
     "end_time": "2020-06-08T19:37:25.921834",
     "exception": false,
     "start_time": "2020-06-08T19:37:02.821957",
     "status": "completed"
    },
    "tags": []
   },
   "outputs": [
    {
     "data": {
      "image/png": "[encoded data removed]",
      "text/plain": [
       "<Figure size 777.6x216 with 3 Axes>"
      ]
     },
     "metadata": {
      "needs_background": "light"
     },
     "output_type": "display_data"
    }
   ],
   "source": [
    "g = sns.catplot(x = \"algorithm\", y = \"val\", data = pltData, kind=\"bar\", col = \"metric\", aspect=1.2, height=3, sharey=False)"
   ]
  },
  {
   "cell_type": "markdown",
   "metadata": {
    "papermill": {
     "duration": 0.022448,
     "end_time": "2020-06-08T19:37:25.967623",
     "exception": false,
     "start_time": "2020-06-08T19:37:25.945175",
     "status": "completed"
    },
    "tags": []
   },
   "source": [
    "### Statistical Testing"
   ]
  },
  {
   "cell_type": "markdown",
   "metadata": {
    "papermill": {
     "duration": 0.020543,
     "end_time": "2020-06-08T19:37:26.008817",
     "exception": false,
     "start_time": "2020-06-08T19:37:25.988274",
     "status": "completed"
    },
    "tags": []
   },
   "source": [
    "We will now examine these metrics in more detail and test for statistical significance.  Best practice for statistical testing for recommender systems is still a work in progress, but this method avoids most of the validity problems we know about.\n",
    "\n",
    "The Friedman $\\chi^2$ test will test the null hypothesis that there is no difference between algorithms in terms of their performance."
   ]
  },
  {
   "cell_type": "code",
   "execution_count": 17,
   "metadata": {
    "execution": {
     "iopub.execute_input": "2020-06-08T19:37:26.054446Z",
     "iopub.status.busy": "2020-06-08T19:37:26.052246Z",
     "iopub.status.idle": "2020-06-08T19:37:26.056279Z",
     "shell.execute_reply": "2020-06-08T19:37:26.055882Z"
    },
    "papermill": {
     "duration": 0.026731,
     "end_time": "2020-06-08T19:37:26.056367",
     "exception": false,
     "start_time": "2020-06-08T19:37:26.029636",
     "status": "completed"
    },
    "tags": []
   },
   "outputs": [],
   "source": [
    "def metric_friedman(metric):\n",
    "    groups = [df[metric] for a, df in results.groupby('algorithm')]\n",
    "\n",
    "    stat, p = friedmanchisquare(*groups)\n",
    "    return pd.Series({'stat': stat, 'p': p}, name=metric)"
   ]
  },
  {
   "cell_type": "markdown",
   "metadata": {
    "papermill": {
     "duration": 0.020413,
     "end_time": "2020-06-08T19:37:26.097706",
     "exception": false,
     "start_time": "2020-06-08T19:37:26.077293",
     "status": "completed"
    },
    "tags": []
   },
   "source": [
    "If the test detects significance, we have at least one pair of different algorithms - but which pairs?  Unfortunately, the good tests aren't readily available in scipy and friends, so we're going to take a conservative approch and perform pairwise Wilconxon signed-rank tests with a Bonferroni adjustment."
   ]
  },
  {
   "cell_type": "code",
   "execution_count": 18,
   "metadata": {
    "execution": {
     "iopub.execute_input": "2020-06-08T19:37:26.145386Z",
     "iopub.status.busy": "2020-06-08T19:37:26.144941Z",
     "iopub.status.idle": "2020-06-08T19:37:26.147028Z",
     "shell.execute_reply": "2020-06-08T19:37:26.146650Z"
    },
    "papermill": {
     "duration": 0.028836,
     "end_time": "2020-06-08T19:37:26.147106",
     "exception": false,
     "start_time": "2020-06-08T19:37:26.118270",
     "status": "completed"
    },
    "tags": []
   },
   "outputs": [],
   "source": [
    "pairs = pd.DataFrame.from_records(combinations(rec_algos, 2), columns=['A1', 'A2'])\n",
    "def am_wilcox(metric, p_scale = len(pairs)):\n",
    "    def compute(df):\n",
    "        vs1 = results.loc[df['A1'], metric]\n",
    "        vs2 = results.loc[df['A2'], metric]\n",
    "        diff = (vs1 - vs2).mean()\n",
    "        stat, p = wilcoxon(vs1, vs2)\n",
    "        return pd.Series({'diff': diff, 'stat': stat, 'p': p, 'adj_p': p * p_scale})\n",
    "    scores = pairs.apply(compute, axis=1)\n",
    "    return pairs.join(scores)"
   ]
  },
  {
   "cell_type": "markdown",
   "metadata": {
    "papermill": {
     "duration": 0.021605,
     "end_time": "2020-06-08T19:37:26.189317",
     "exception": false,
     "start_time": "2020-06-08T19:37:26.167712",
     "status": "completed"
    },
    "tags": []
   },
   "source": [
    "## Precision"
   ]
  },
  {
   "cell_type": "code",
   "execution_count": 19,
   "metadata": {
    "execution": {
     "iopub.execute_input": "2020-06-08T19:37:26.233902Z",
     "iopub.status.busy": "2020-06-08T19:37:26.233478Z",
     "iopub.status.idle": "2020-06-08T19:37:36.523167Z",
     "shell.execute_reply": "2020-06-08T19:37:36.522767Z"
    },
    "papermill": {
     "duration": 10.313181,
     "end_time": "2020-06-08T19:37:36.523267",
     "exception": false,
     "start_time": "2020-06-08T19:37:26.210086",
     "status": "completed"
    },
    "tags": []
   },
   "outputs": [
    {
     "data": {
      "text/plain": [
       "stat    563526.014732\n",
       "p            0.000000\n",
       "Name: precision, dtype: float64"
      ]
     },
     "execution_count": 19,
     "metadata": {},
     "output_type": "execute_result"
    }
   ],
   "source": [
    "metric_friedman('precision')"
   ]
  },
  {
   "cell_type": "markdown",
   "metadata": {
    "papermill": {
     "duration": 0.021386,
     "end_time": "2020-06-08T19:37:36.567120",
     "exception": false,
     "start_time": "2020-06-08T19:37:36.545734",
     "status": "completed"
    },
    "tags": []
   },
   "source": [
    "This indicates a statistically significant difference exists - but where is it?\n",
    "\n",
    "To answer that question, we need a post-hoc test. "
   ]
  },
  {
   "cell_type": "code",
   "execution_count": 20,
   "metadata": {
    "execution": {
     "iopub.execute_input": "2020-06-08T19:37:36.613425Z",
     "iopub.status.busy": "2020-06-08T19:37:36.612922Z",
     "iopub.status.idle": "2020-06-08T19:37:37.083528Z",
     "shell.execute_reply": "2020-06-08T19:37:37.083885Z"
    },
    "papermill": {
     "duration": 0.495653,
     "end_time": "2020-06-08T19:37:37.084039",
     "exception": false,
     "start_time": "2020-06-08T19:37:36.588386",
     "status": "completed"
    },
    "tags": []
   },
   "outputs": [
    {
     "data": {
      "text/html": [
       "<div>\n",
       "<style scoped>\n",
       "    .dataframe tbody tr th:only-of-type {\n",
       "        vertical-align: middle;\n",
       "    }\n",
       "\n",
       "    .dataframe tbody tr th {\n",
       "        vertical-align: top;\n",
       "    }\n",
       "\n",
       "    .dataframe thead th {\n",
       "        text-align: right;\n",
       "    }\n",
       "</style>\n",
       "<table border=\"1\" class=\"dataframe\">\n",
       "  <thead>\n",
       "    <tr style=\"text-align: right;\">\n",
       "      <th></th>\n",
       "      <th>A1</th>\n",
       "      <th>A2</th>\n",
       "      <th>diff</th>\n",
       "      <th>stat</th>\n",
       "      <th>p</th>\n",
       "      <th>adj_p</th>\n",
       "    </tr>\n",
       "  </thead>\n",
       "  <tbody>\n",
       "    <tr>\n",
       "      <th>19</th>\n",
       "      <td>IALS</td>\n",
       "      <td>UU</td>\n",
       "      <td>0.026849</td>\n",
       "      <td>1376919.0</td>\n",
       "      <td>0.0</td>\n",
       "      <td>0.0</td>\n",
       "    </tr>\n",
       "    <tr>\n",
       "      <th>18</th>\n",
       "      <td>IALS</td>\n",
       "      <td>II</td>\n",
       "      <td>0.026536</td>\n",
       "      <td>9956249.0</td>\n",
       "      <td>0.0</td>\n",
       "      <td>0.0</td>\n",
       "    </tr>\n",
       "    <tr>\n",
       "      <th>21</th>\n",
       "      <td>IALS</td>\n",
       "      <td>TFMF</td>\n",
       "      <td>0.017470</td>\n",
       "      <td>300573181.5</td>\n",
       "      <td>0.0</td>\n",
       "      <td>0.0</td>\n",
       "    </tr>\n",
       "    <tr>\n",
       "      <th>10</th>\n",
       "      <td>Pop</td>\n",
       "      <td>UU</td>\n",
       "      <td>0.015567</td>\n",
       "      <td>324456.0</td>\n",
       "      <td>0.0</td>\n",
       "      <td>0.0</td>\n",
       "    </tr>\n",
       "    <tr>\n",
       "      <th>9</th>\n",
       "      <td>Pop</td>\n",
       "      <td>II</td>\n",
       "      <td>0.015255</td>\n",
       "      <td>13844277.0</td>\n",
       "      <td>0.0</td>\n",
       "      <td>0.0</td>\n",
       "    </tr>\n",
       "    <tr>\n",
       "      <th>7</th>\n",
       "      <td>Pop</td>\n",
       "      <td>ALS</td>\n",
       "      <td>0.011840</td>\n",
       "      <td>202235164.5</td>\n",
       "      <td>0.0</td>\n",
       "      <td>0.0</td>\n",
       "    </tr>\n",
       "    <tr>\n",
       "      <th>27</th>\n",
       "      <td>BPR</td>\n",
       "      <td>TFMF</td>\n",
       "      <td>0.010812</td>\n",
       "      <td>610729271.0</td>\n",
       "      <td>0.0</td>\n",
       "      <td>0.0</td>\n",
       "    </tr>\n",
       "    <tr>\n",
       "      <th>20</th>\n",
       "      <td>IALS</td>\n",
       "      <td>BPR</td>\n",
       "      <td>0.006657</td>\n",
       "      <td>889310904.0</td>\n",
       "      <td>0.0</td>\n",
       "      <td>0.0</td>\n",
       "    </tr>\n",
       "    <tr>\n",
       "      <th>12</th>\n",
       "      <td>Pop</td>\n",
       "      <td>TFMF</td>\n",
       "      <td>0.006188</td>\n",
       "      <td>991449349.0</td>\n",
       "      <td>0.0</td>\n",
       "      <td>0.0</td>\n",
       "    </tr>\n",
       "    <tr>\n",
       "      <th>4</th>\n",
       "      <td>Bias</td>\n",
       "      <td>UU</td>\n",
       "      <td>0.005322</td>\n",
       "      <td>757848.0</td>\n",
       "      <td>0.0</td>\n",
       "      <td>0.0</td>\n",
       "    </tr>\n",
       "    <tr>\n",
       "      <th>3</th>\n",
       "      <td>Bias</td>\n",
       "      <td>II</td>\n",
       "      <td>0.005009</td>\n",
       "      <td>13854666.0</td>\n",
       "      <td>0.0</td>\n",
       "      <td>0.0</td>\n",
       "    </tr>\n",
       "    <tr>\n",
       "      <th>15</th>\n",
       "      <td>ALS</td>\n",
       "      <td>UU</td>\n",
       "      <td>0.003727</td>\n",
       "      <td>634993.5</td>\n",
       "      <td>0.0</td>\n",
       "      <td>0.0</td>\n",
       "    </tr>\n",
       "    <tr>\n",
       "      <th>14</th>\n",
       "      <td>ALS</td>\n",
       "      <td>II</td>\n",
       "      <td>0.003414</td>\n",
       "      <td>12313277.0</td>\n",
       "      <td>0.0</td>\n",
       "      <td>0.0</td>\n",
       "    </tr>\n",
       "    <tr>\n",
       "      <th>1</th>\n",
       "      <td>Bias</td>\n",
       "      <td>ALS</td>\n",
       "      <td>0.001595</td>\n",
       "      <td>116649279.0</td>\n",
       "      <td>0.0</td>\n",
       "      <td>0.0</td>\n",
       "    </tr>\n",
       "    <tr>\n",
       "      <th>22</th>\n",
       "      <td>II</td>\n",
       "      <td>UU</td>\n",
       "      <td>0.000312</td>\n",
       "      <td>340092.5</td>\n",
       "      <td>0.0</td>\n",
       "      <td>0.0</td>\n",
       "    </tr>\n",
       "    <tr>\n",
       "      <th>6</th>\n",
       "      <td>Bias</td>\n",
       "      <td>TFMF</td>\n",
       "      <td>-0.004057</td>\n",
       "      <td>552737540.5</td>\n",
       "      <td>0.0</td>\n",
       "      <td>0.0</td>\n",
       "    </tr>\n",
       "    <tr>\n",
       "      <th>11</th>\n",
       "      <td>Pop</td>\n",
       "      <td>BPR</td>\n",
       "      <td>-0.004624</td>\n",
       "      <td>118283268.5</td>\n",
       "      <td>0.0</td>\n",
       "      <td>0.0</td>\n",
       "    </tr>\n",
       "    <tr>\n",
       "      <th>17</th>\n",
       "      <td>ALS</td>\n",
       "      <td>TFMF</td>\n",
       "      <td>-0.005652</td>\n",
       "      <td>186603703.5</td>\n",
       "      <td>0.0</td>\n",
       "      <td>0.0</td>\n",
       "    </tr>\n",
       "    <tr>\n",
       "      <th>24</th>\n",
       "      <td>II</td>\n",
       "      <td>TFMF</td>\n",
       "      <td>-0.009067</td>\n",
       "      <td>6547944.5</td>\n",
       "      <td>0.0</td>\n",
       "      <td>0.0</td>\n",
       "    </tr>\n",
       "    <tr>\n",
       "      <th>26</th>\n",
       "      <td>UU</td>\n",
       "      <td>TFMF</td>\n",
       "      <td>-0.009379</td>\n",
       "      <td>915249.0</td>\n",
       "      <td>0.0</td>\n",
       "      <td>0.0</td>\n",
       "    </tr>\n",
       "    <tr>\n",
       "      <th>0</th>\n",
       "      <td>Bias</td>\n",
       "      <td>Pop</td>\n",
       "      <td>-0.010245</td>\n",
       "      <td>344818842.5</td>\n",
       "      <td>0.0</td>\n",
       "      <td>0.0</td>\n",
       "    </tr>\n",
       "    <tr>\n",
       "      <th>8</th>\n",
       "      <td>Pop</td>\n",
       "      <td>IALS</td>\n",
       "      <td>-0.011282</td>\n",
       "      <td>627187210.5</td>\n",
       "      <td>0.0</td>\n",
       "      <td>0.0</td>\n",
       "    </tr>\n",
       "    <tr>\n",
       "      <th>5</th>\n",
       "      <td>Bias</td>\n",
       "      <td>BPR</td>\n",
       "      <td>-0.014870</td>\n",
       "      <td>221828731.5</td>\n",
       "      <td>0.0</td>\n",
       "      <td>0.0</td>\n",
       "    </tr>\n",
       "    <tr>\n",
       "      <th>16</th>\n",
       "      <td>ALS</td>\n",
       "      <td>BPR</td>\n",
       "      <td>-0.016465</td>\n",
       "      <td>116577931.5</td>\n",
       "      <td>0.0</td>\n",
       "      <td>0.0</td>\n",
       "    </tr>\n",
       "    <tr>\n",
       "      <th>23</th>\n",
       "      <td>II</td>\n",
       "      <td>BPR</td>\n",
       "      <td>-0.019879</td>\n",
       "      <td>6143176.5</td>\n",
       "      <td>0.0</td>\n",
       "      <td>0.0</td>\n",
       "    </tr>\n",
       "    <tr>\n",
       "      <th>25</th>\n",
       "      <td>UU</td>\n",
       "      <td>BPR</td>\n",
       "      <td>-0.020191</td>\n",
       "      <td>268438.0</td>\n",
       "      <td>0.0</td>\n",
       "      <td>0.0</td>\n",
       "    </tr>\n",
       "    <tr>\n",
       "      <th>2</th>\n",
       "      <td>Bias</td>\n",
       "      <td>IALS</td>\n",
       "      <td>-0.021527</td>\n",
       "      <td>138683109.5</td>\n",
       "      <td>0.0</td>\n",
       "      <td>0.0</td>\n",
       "    </tr>\n",
       "    <tr>\n",
       "      <th>13</th>\n",
       "      <td>ALS</td>\n",
       "      <td>IALS</td>\n",
       "      <td>-0.023122</td>\n",
       "      <td>78825271.0</td>\n",
       "      <td>0.0</td>\n",
       "      <td>0.0</td>\n",
       "    </tr>\n",
       "  </tbody>\n",
       "</table>\n",
       "</div>"
      ],
      "text/plain": [
       "      A1    A2      diff         stat    p  adj_p\n",
       "19  IALS    UU  0.026849    1376919.0  0.0    0.0\n",
       "18  IALS    II  0.026536    9956249.0  0.0    0.0\n",
       "21  IALS  TFMF  0.017470  300573181.5  0.0    0.0\n",
       "10   Pop    UU  0.015567     324456.0  0.0    0.0\n",
       "9    Pop    II  0.015255   13844277.0  0.0    0.0\n",
       "7    Pop   ALS  0.011840  202235164.5  0.0    0.0\n",
       "27   BPR  TFMF  0.010812  610729271.0  0.0    0.0\n",
       "20  IALS   BPR  0.006657  889310904.0  0.0    0.0\n",
       "12   Pop  TFMF  0.006188  991449349.0  0.0    0.0\n",
       "4   Bias    UU  0.005322     757848.0  0.0    0.0\n",
       "3   Bias    II  0.005009   13854666.0  0.0    0.0\n",
       "15   ALS    UU  0.003727     634993.5  0.0    0.0\n",
       "14   ALS    II  0.003414   12313277.0  0.0    0.0\n",
       "1   Bias   ALS  0.001595  116649279.0  0.0    0.0\n",
       "22    II    UU  0.000312     340092.5  0.0    0.0\n",
       "6   Bias  TFMF -0.004057  552737540.5  0.0    0.0\n",
       "11   Pop   BPR -0.004624  118283268.5  0.0    0.0\n",
       "17   ALS  TFMF -0.005652  186603703.5  0.0    0.0\n",
       "24    II  TFMF -0.009067    6547944.5  0.0    0.0\n",
       "26    UU  TFMF -0.009379     915249.0  0.0    0.0\n",
       "0   Bias   Pop -0.010245  344818842.5  0.0    0.0\n",
       "8    Pop  IALS -0.011282  627187210.5  0.0    0.0\n",
       "5   Bias   BPR -0.014870  221828731.5  0.0    0.0\n",
       "16   ALS   BPR -0.016465  116577931.5  0.0    0.0\n",
       "23    II   BPR -0.019879    6143176.5  0.0    0.0\n",
       "25    UU   BPR -0.020191     268438.0  0.0    0.0\n",
       "2   Bias  IALS -0.021527  138683109.5  0.0    0.0\n",
       "13   ALS  IALS -0.023122   78825271.0  0.0    0.0"
      ]
     },
     "execution_count": 20,
     "metadata": {},
     "output_type": "execute_result"
    }
   ],
   "source": [
    "am_wilcox('precision').sort_values('diff', ascending=False)"
   ]
  },
  {
   "cell_type": "markdown",
   "metadata": {
    "papermill": {
     "duration": 0.022486,
     "end_time": "2020-06-08T19:37:37.129466",
     "exception": false,
     "start_time": "2020-06-08T19:37:37.106980",
     "status": "completed"
    },
    "tags": []
   },
   "source": [
    "We can consider pairs with an adjusted $p$ value less than 0.05 (5.0e-2) to be statistically significant.  However, we have so many data points, the substance of significance is questionable.  Pay attention to the 'diff' column, which is the difference between A1 and A2 (how much A1 outperforms A2)."
   ]
  },
  {
   "cell_type": "markdown",
   "metadata": {
    "papermill": {
     "duration": 0.021746,
     "end_time": "2020-06-08T19:37:37.172737",
     "exception": false,
     "start_time": "2020-06-08T19:37:37.150991",
     "status": "completed"
    },
    "tags": []
   },
   "source": [
    "### nDCG"
   ]
  },
  {
   "cell_type": "markdown",
   "metadata": {
    "papermill": {
     "duration": 0.021995,
     "end_time": "2020-06-08T19:37:37.216409",
     "exception": false,
     "start_time": "2020-06-08T19:37:37.194414",
     "status": "completed"
    },
    "tags": []
   },
   "source": [
    "Now let's do the same for nDCG:"
   ]
  },
  {
   "cell_type": "code",
   "execution_count": 21,
   "metadata": {
    "execution": {
     "iopub.execute_input": "2020-06-08T19:37:37.263038Z",
     "iopub.status.busy": "2020-06-08T19:37:37.262606Z",
     "iopub.status.idle": "2020-06-08T19:37:47.431558Z",
     "shell.execute_reply": "2020-06-08T19:37:47.431913Z"
    },
    "papermill": {
     "duration": 10.194153,
     "end_time": "2020-06-08T19:37:47.432052",
     "exception": false,
     "start_time": "2020-06-08T19:37:37.237899",
     "status": "completed"
    },
    "tags": []
   },
   "outputs": [
    {
     "data": {
      "text/plain": [
       "stat    500405.4758\n",
       "p            0.0000\n",
       "Name: ndcg, dtype: float64"
      ]
     },
     "execution_count": 21,
     "metadata": {},
     "output_type": "execute_result"
    }
   ],
   "source": [
    "metric_friedman('ndcg')"
   ]
  },
  {
   "cell_type": "code",
   "execution_count": 22,
   "metadata": {
    "execution": {
     "iopub.execute_input": "2020-06-08T19:37:47.483168Z",
     "iopub.status.busy": "2020-06-08T19:37:47.482710Z",
     "iopub.status.idle": "2020-06-08T19:37:48.203480Z",
     "shell.execute_reply": "2020-06-08T19:37:48.203109Z"
    },
    "papermill": {
     "duration": 0.748243,
     "end_time": "2020-06-08T19:37:48.203575",
     "exception": false,
     "start_time": "2020-06-08T19:37:47.455332",
     "status": "completed"
    },
    "tags": []
   },
   "outputs": [
    {
     "data": {
      "text/html": [
       "<div>\n",
       "<style scoped>\n",
       "    .dataframe tbody tr th:only-of-type {\n",
       "        vertical-align: middle;\n",
       "    }\n",
       "\n",
       "    .dataframe tbody tr th {\n",
       "        vertical-align: top;\n",
       "    }\n",
       "\n",
       "    .dataframe thead th {\n",
       "        text-align: right;\n",
       "    }\n",
       "</style>\n",
       "<table border=\"1\" class=\"dataframe\">\n",
       "  <thead>\n",
       "    <tr style=\"text-align: right;\">\n",
       "      <th></th>\n",
       "      <th>A1</th>\n",
       "      <th>A2</th>\n",
       "      <th>diff</th>\n",
       "      <th>stat</th>\n",
       "      <th>p</th>\n",
       "      <th>adj_p</th>\n",
       "    </tr>\n",
       "  </thead>\n",
       "  <tbody>\n",
       "    <tr>\n",
       "      <th>19</th>\n",
       "      <td>IALS</td>\n",
       "      <td>UU</td>\n",
       "      <td>0.209748</td>\n",
       "      <td>1.582766e+06</td>\n",
       "      <td>0.0</td>\n",
       "      <td>0.0</td>\n",
       "    </tr>\n",
       "    <tr>\n",
       "      <th>18</th>\n",
       "      <td>IALS</td>\n",
       "      <td>II</td>\n",
       "      <td>0.207968</td>\n",
       "      <td>1.442252e+07</td>\n",
       "      <td>0.0</td>\n",
       "      <td>0.0</td>\n",
       "    </tr>\n",
       "    <tr>\n",
       "      <th>10</th>\n",
       "      <td>Pop</td>\n",
       "      <td>UU</td>\n",
       "      <td>0.135007</td>\n",
       "      <td>3.102505e+05</td>\n",
       "      <td>0.0</td>\n",
       "      <td>0.0</td>\n",
       "    </tr>\n",
       "    <tr>\n",
       "      <th>9</th>\n",
       "      <td>Pop</td>\n",
       "      <td>II</td>\n",
       "      <td>0.133227</td>\n",
       "      <td>1.291633e+07</td>\n",
       "      <td>0.0</td>\n",
       "      <td>0.0</td>\n",
       "    </tr>\n",
       "    <tr>\n",
       "      <th>21</th>\n",
       "      <td>IALS</td>\n",
       "      <td>TFMF</td>\n",
       "      <td>0.118518</td>\n",
       "      <td>1.465537e+09</td>\n",
       "      <td>0.0</td>\n",
       "      <td>0.0</td>\n",
       "    </tr>\n",
       "    <tr>\n",
       "      <th>7</th>\n",
       "      <td>Pop</td>\n",
       "      <td>ALS</td>\n",
       "      <td>0.102450</td>\n",
       "      <td>4.270126e+08</td>\n",
       "      <td>0.0</td>\n",
       "      <td>0.0</td>\n",
       "    </tr>\n",
       "    <tr>\n",
       "      <th>27</th>\n",
       "      <td>BPR</td>\n",
       "      <td>TFMF</td>\n",
       "      <td>0.087883</td>\n",
       "      <td>1.645432e+09</td>\n",
       "      <td>0.0</td>\n",
       "      <td>0.0</td>\n",
       "    </tr>\n",
       "    <tr>\n",
       "      <th>4</th>\n",
       "      <td>Bias</td>\n",
       "      <td>UU</td>\n",
       "      <td>0.053799</td>\n",
       "      <td>5.572080e+05</td>\n",
       "      <td>0.0</td>\n",
       "      <td>0.0</td>\n",
       "    </tr>\n",
       "    <tr>\n",
       "      <th>3</th>\n",
       "      <td>Bias</td>\n",
       "      <td>II</td>\n",
       "      <td>0.052018</td>\n",
       "      <td>1.171000e+07</td>\n",
       "      <td>0.0</td>\n",
       "      <td>0.0</td>\n",
       "    </tr>\n",
       "    <tr>\n",
       "      <th>12</th>\n",
       "      <td>Pop</td>\n",
       "      <td>TFMF</td>\n",
       "      <td>0.043776</td>\n",
       "      <td>2.262736e+09</td>\n",
       "      <td>0.0</td>\n",
       "      <td>0.0</td>\n",
       "    </tr>\n",
       "    <tr>\n",
       "      <th>15</th>\n",
       "      <td>ALS</td>\n",
       "      <td>UU</td>\n",
       "      <td>0.032557</td>\n",
       "      <td>4.988735e+05</td>\n",
       "      <td>0.0</td>\n",
       "      <td>0.0</td>\n",
       "    </tr>\n",
       "    <tr>\n",
       "      <th>14</th>\n",
       "      <td>ALS</td>\n",
       "      <td>II</td>\n",
       "      <td>0.030777</td>\n",
       "      <td>1.132626e+07</td>\n",
       "      <td>0.0</td>\n",
       "      <td>0.0</td>\n",
       "    </tr>\n",
       "    <tr>\n",
       "      <th>20</th>\n",
       "      <td>IALS</td>\n",
       "      <td>BPR</td>\n",
       "      <td>0.030634</td>\n",
       "      <td>3.532041e+09</td>\n",
       "      <td>0.0</td>\n",
       "      <td>0.0</td>\n",
       "    </tr>\n",
       "    <tr>\n",
       "      <th>1</th>\n",
       "      <td>Bias</td>\n",
       "      <td>ALS</td>\n",
       "      <td>0.021242</td>\n",
       "      <td>3.953829e+08</td>\n",
       "      <td>0.0</td>\n",
       "      <td>0.0</td>\n",
       "    </tr>\n",
       "    <tr>\n",
       "      <th>22</th>\n",
       "      <td>II</td>\n",
       "      <td>UU</td>\n",
       "      <td>0.001781</td>\n",
       "      <td>3.887405e+05</td>\n",
       "      <td>0.0</td>\n",
       "      <td>0.0</td>\n",
       "    </tr>\n",
       "    <tr>\n",
       "      <th>6</th>\n",
       "      <td>Bias</td>\n",
       "      <td>TFMF</td>\n",
       "      <td>-0.037432</td>\n",
       "      <td>1.198936e+09</td>\n",
       "      <td>0.0</td>\n",
       "      <td>0.0</td>\n",
       "    </tr>\n",
       "    <tr>\n",
       "      <th>11</th>\n",
       "      <td>Pop</td>\n",
       "      <td>BPR</td>\n",
       "      <td>-0.044107</td>\n",
       "      <td>1.015500e+09</td>\n",
       "      <td>0.0</td>\n",
       "      <td>0.0</td>\n",
       "    </tr>\n",
       "    <tr>\n",
       "      <th>17</th>\n",
       "      <td>ALS</td>\n",
       "      <td>TFMF</td>\n",
       "      <td>-0.058674</td>\n",
       "      <td>4.021791e+08</td>\n",
       "      <td>0.0</td>\n",
       "      <td>0.0</td>\n",
       "    </tr>\n",
       "    <tr>\n",
       "      <th>8</th>\n",
       "      <td>Pop</td>\n",
       "      <td>IALS</td>\n",
       "      <td>-0.074741</td>\n",
       "      <td>2.376798e+09</td>\n",
       "      <td>0.0</td>\n",
       "      <td>0.0</td>\n",
       "    </tr>\n",
       "    <tr>\n",
       "      <th>0</th>\n",
       "      <td>Bias</td>\n",
       "      <td>Pop</td>\n",
       "      <td>-0.081209</td>\n",
       "      <td>9.441408e+08</td>\n",
       "      <td>0.0</td>\n",
       "      <td>0.0</td>\n",
       "    </tr>\n",
       "    <tr>\n",
       "      <th>24</th>\n",
       "      <td>II</td>\n",
       "      <td>TFMF</td>\n",
       "      <td>-0.089450</td>\n",
       "      <td>4.269236e+06</td>\n",
       "      <td>0.0</td>\n",
       "      <td>0.0</td>\n",
       "    </tr>\n",
       "    <tr>\n",
       "      <th>26</th>\n",
       "      <td>UU</td>\n",
       "      <td>TFMF</td>\n",
       "      <td>-0.091231</td>\n",
       "      <td>6.243740e+05</td>\n",
       "      <td>0.0</td>\n",
       "      <td>0.0</td>\n",
       "    </tr>\n",
       "    <tr>\n",
       "      <th>5</th>\n",
       "      <td>Bias</td>\n",
       "      <td>BPR</td>\n",
       "      <td>-0.125315</td>\n",
       "      <td>7.179407e+08</td>\n",
       "      <td>0.0</td>\n",
       "      <td>0.0</td>\n",
       "    </tr>\n",
       "    <tr>\n",
       "      <th>16</th>\n",
       "      <td>ALS</td>\n",
       "      <td>BPR</td>\n",
       "      <td>-0.146557</td>\n",
       "      <td>2.837374e+08</td>\n",
       "      <td>0.0</td>\n",
       "      <td>0.0</td>\n",
       "    </tr>\n",
       "    <tr>\n",
       "      <th>2</th>\n",
       "      <td>Bias</td>\n",
       "      <td>IALS</td>\n",
       "      <td>-0.155950</td>\n",
       "      <td>7.852170e+08</td>\n",
       "      <td>0.0</td>\n",
       "      <td>0.0</td>\n",
       "    </tr>\n",
       "    <tr>\n",
       "      <th>13</th>\n",
       "      <td>ALS</td>\n",
       "      <td>IALS</td>\n",
       "      <td>-0.177191</td>\n",
       "      <td>3.685915e+08</td>\n",
       "      <td>0.0</td>\n",
       "      <td>0.0</td>\n",
       "    </tr>\n",
       "    <tr>\n",
       "      <th>23</th>\n",
       "      <td>II</td>\n",
       "      <td>BPR</td>\n",
       "      <td>-0.177334</td>\n",
       "      <td>6.058470e+06</td>\n",
       "      <td>0.0</td>\n",
       "      <td>0.0</td>\n",
       "    </tr>\n",
       "    <tr>\n",
       "      <th>25</th>\n",
       "      <td>UU</td>\n",
       "      <td>BPR</td>\n",
       "      <td>-0.179114</td>\n",
       "      <td>2.285750e+05</td>\n",
       "      <td>0.0</td>\n",
       "      <td>0.0</td>\n",
       "    </tr>\n",
       "  </tbody>\n",
       "</table>\n",
       "</div>"
      ],
      "text/plain": [
       "      A1    A2      diff          stat    p  adj_p\n",
       "19  IALS    UU  0.209748  1.582766e+06  0.0    0.0\n",
       "18  IALS    II  0.207968  1.442252e+07  0.0    0.0\n",
       "10   Pop    UU  0.135007  3.102505e+05  0.0    0.0\n",
       "9    Pop    II  0.133227  1.291633e+07  0.0    0.0\n",
       "21  IALS  TFMF  0.118518  1.465537e+09  0.0    0.0\n",
       "7    Pop   ALS  0.102450  4.270126e+08  0.0    0.0\n",
       "27   BPR  TFMF  0.087883  1.645432e+09  0.0    0.0\n",
       "4   Bias    UU  0.053799  5.572080e+05  0.0    0.0\n",
       "3   Bias    II  0.052018  1.171000e+07  0.0    0.0\n",
       "12   Pop  TFMF  0.043776  2.262736e+09  0.0    0.0\n",
       "15   ALS    UU  0.032557  4.988735e+05  0.0    0.0\n",
       "14   ALS    II  0.030777  1.132626e+07  0.0    0.0\n",
       "20  IALS   BPR  0.030634  3.532041e+09  0.0    0.0\n",
       "1   Bias   ALS  0.021242  3.953829e+08  0.0    0.0\n",
       "22    II    UU  0.001781  3.887405e+05  0.0    0.0\n",
       "6   Bias  TFMF -0.037432  1.198936e+09  0.0    0.0\n",
       "11   Pop   BPR -0.044107  1.015500e+09  0.0    0.0\n",
       "17   ALS  TFMF -0.058674  4.021791e+08  0.0    0.0\n",
       "8    Pop  IALS -0.074741  2.376798e+09  0.0    0.0\n",
       "0   Bias   Pop -0.081209  9.441408e+08  0.0    0.0\n",
       "24    II  TFMF -0.089450  4.269236e+06  0.0    0.0\n",
       "26    UU  TFMF -0.091231  6.243740e+05  0.0    0.0\n",
       "5   Bias   BPR -0.125315  7.179407e+08  0.0    0.0\n",
       "16   ALS   BPR -0.146557  2.837374e+08  0.0    0.0\n",
       "2   Bias  IALS -0.155950  7.852170e+08  0.0    0.0\n",
       "13   ALS  IALS -0.177191  3.685915e+08  0.0    0.0\n",
       "23    II   BPR -0.177334  6.058470e+06  0.0    0.0\n",
       "25    UU   BPR -0.179114  2.285750e+05  0.0    0.0"
      ]
     },
     "execution_count": 22,
     "metadata": {},
     "output_type": "execute_result"
    }
   ],
   "source": [
    "am_wilcox('ndcg').sort_values('diff', ascending=False)"
   ]
  },
  {
   "cell_type": "markdown",
   "metadata": {
    "papermill": {
     "duration": 0.022428,
     "end_time": "2020-06-08T19:37:48.248508",
     "exception": false,
     "start_time": "2020-06-08T19:37:48.226080",
     "status": "completed"
    },
    "tags": []
   },
   "source": [
    "### Reciprocal Rank\n",
    "\n",
    "We'll do this also for reciprocal rank (what is aggregated to compute MRR):"
   ]
  },
  {
   "cell_type": "code",
   "execution_count": 23,
   "metadata": {
    "execution": {
     "iopub.execute_input": "2020-06-08T19:37:48.296769Z",
     "iopub.status.busy": "2020-06-08T19:37:48.296342Z",
     "iopub.status.idle": "2020-06-08T19:37:58.445962Z",
     "shell.execute_reply": "2020-06-08T19:37:58.446312Z"
    },
    "papermill": {
     "duration": 10.175425,
     "end_time": "2020-06-08T19:37:58.446436",
     "exception": false,
     "start_time": "2020-06-08T19:37:48.271011",
     "status": "completed"
    },
    "tags": []
   },
   "outputs": [
    {
     "data": {
      "text/plain": [
       "stat    459253.700445\n",
       "p            0.000000\n",
       "Name: recip_rank, dtype: float64"
      ]
     },
     "execution_count": 23,
     "metadata": {},
     "output_type": "execute_result"
    }
   ],
   "source": [
    "metric_friedman('recip_rank')"
   ]
  },
  {
   "cell_type": "code",
   "execution_count": 24,
   "metadata": {
    "execution": {
     "iopub.execute_input": "2020-06-08T19:37:58.497070Z",
     "iopub.status.busy": "2020-06-08T19:37:58.496643Z",
     "iopub.status.idle": "2020-06-08T19:37:59.042165Z",
     "shell.execute_reply": "2020-06-08T19:37:59.042496Z"
    },
    "papermill": {
     "duration": 0.573261,
     "end_time": "2020-06-08T19:37:59.042620",
     "exception": false,
     "start_time": "2020-06-08T19:37:58.469359",
     "status": "completed"
    },
    "tags": []
   },
   "outputs": [
    {
     "data": {
      "text/html": [
       "<div>\n",
       "<style scoped>\n",
       "    .dataframe tbody tr th:only-of-type {\n",
       "        vertical-align: middle;\n",
       "    }\n",
       "\n",
       "    .dataframe tbody tr th {\n",
       "        vertical-align: top;\n",
       "    }\n",
       "\n",
       "    .dataframe thead th {\n",
       "        text-align: right;\n",
       "    }\n",
       "</style>\n",
       "<table border=\"1\" class=\"dataframe\">\n",
       "  <thead>\n",
       "    <tr style=\"text-align: right;\">\n",
       "      <th></th>\n",
       "      <th>A1</th>\n",
       "      <th>A2</th>\n",
       "      <th>diff</th>\n",
       "      <th>stat</th>\n",
       "      <th>p</th>\n",
       "      <th>adj_p</th>\n",
       "    </tr>\n",
       "  </thead>\n",
       "  <tbody>\n",
       "    <tr>\n",
       "      <th>19</th>\n",
       "      <td>IALS</td>\n",
       "      <td>UU</td>\n",
       "      <td>0.184557</td>\n",
       "      <td>1.185444e+06</td>\n",
       "      <td>0.000000</td>\n",
       "      <td>0.00000</td>\n",
       "    </tr>\n",
       "    <tr>\n",
       "      <th>18</th>\n",
       "      <td>IALS</td>\n",
       "      <td>II</td>\n",
       "      <td>0.183884</td>\n",
       "      <td>2.144054e+07</td>\n",
       "      <td>0.000000</td>\n",
       "      <td>0.00000</td>\n",
       "    </tr>\n",
       "    <tr>\n",
       "      <th>10</th>\n",
       "      <td>Pop</td>\n",
       "      <td>UU</td>\n",
       "      <td>0.159806</td>\n",
       "      <td>1.727500e+05</td>\n",
       "      <td>0.000000</td>\n",
       "      <td>0.00000</td>\n",
       "    </tr>\n",
       "    <tr>\n",
       "      <th>9</th>\n",
       "      <td>Pop</td>\n",
       "      <td>II</td>\n",
       "      <td>0.159133</td>\n",
       "      <td>1.101070e+07</td>\n",
       "      <td>0.000000</td>\n",
       "      <td>0.00000</td>\n",
       "    </tr>\n",
       "    <tr>\n",
       "      <th>7</th>\n",
       "      <td>Pop</td>\n",
       "      <td>ALS</td>\n",
       "      <td>0.122722</td>\n",
       "      <td>6.353637e+08</td>\n",
       "      <td>0.000000</td>\n",
       "      <td>0.00000</td>\n",
       "    </tr>\n",
       "    <tr>\n",
       "      <th>27</th>\n",
       "      <td>BPR</td>\n",
       "      <td>TFMF</td>\n",
       "      <td>0.086068</td>\n",
       "      <td>2.105063e+09</td>\n",
       "      <td>0.000000</td>\n",
       "      <td>0.00000</td>\n",
       "    </tr>\n",
       "    <tr>\n",
       "      <th>4</th>\n",
       "      <td>Bias</td>\n",
       "      <td>UU</td>\n",
       "      <td>0.080059</td>\n",
       "      <td>2.387485e+05</td>\n",
       "      <td>0.000000</td>\n",
       "      <td>0.00000</td>\n",
       "    </tr>\n",
       "    <tr>\n",
       "      <th>3</th>\n",
       "      <td>Bias</td>\n",
       "      <td>II</td>\n",
       "      <td>0.079386</td>\n",
       "      <td>9.313118e+06</td>\n",
       "      <td>0.000000</td>\n",
       "      <td>0.00000</td>\n",
       "    </tr>\n",
       "    <tr>\n",
       "      <th>21</th>\n",
       "      <td>IALS</td>\n",
       "      <td>TFMF</td>\n",
       "      <td>0.070841</td>\n",
       "      <td>2.516123e+09</td>\n",
       "      <td>0.000000</td>\n",
       "      <td>0.00000</td>\n",
       "    </tr>\n",
       "    <tr>\n",
       "      <th>12</th>\n",
       "      <td>Pop</td>\n",
       "      <td>TFMF</td>\n",
       "      <td>0.046090</td>\n",
       "      <td>2.436869e+09</td>\n",
       "      <td>0.000000</td>\n",
       "      <td>0.00000</td>\n",
       "    </tr>\n",
       "    <tr>\n",
       "      <th>1</th>\n",
       "      <td>Bias</td>\n",
       "      <td>ALS</td>\n",
       "      <td>0.042975</td>\n",
       "      <td>4.008673e+08</td>\n",
       "      <td>0.000000</td>\n",
       "      <td>0.00000</td>\n",
       "    </tr>\n",
       "    <tr>\n",
       "      <th>15</th>\n",
       "      <td>ALS</td>\n",
       "      <td>UU</td>\n",
       "      <td>0.037084</td>\n",
       "      <td>3.285585e+05</td>\n",
       "      <td>0.000000</td>\n",
       "      <td>0.00000</td>\n",
       "    </tr>\n",
       "    <tr>\n",
       "      <th>14</th>\n",
       "      <td>ALS</td>\n",
       "      <td>II</td>\n",
       "      <td>0.036411</td>\n",
       "      <td>1.013674e+07</td>\n",
       "      <td>0.000000</td>\n",
       "      <td>0.00000</td>\n",
       "    </tr>\n",
       "    <tr>\n",
       "      <th>22</th>\n",
       "      <td>II</td>\n",
       "      <td>UU</td>\n",
       "      <td>0.000673</td>\n",
       "      <td>3.118990e+05</td>\n",
       "      <td>0.000000</td>\n",
       "      <td>0.00000</td>\n",
       "    </tr>\n",
       "    <tr>\n",
       "      <th>20</th>\n",
       "      <td>IALS</td>\n",
       "      <td>BPR</td>\n",
       "      <td>-0.015227</td>\n",
       "      <td>4.152159e+09</td>\n",
       "      <td>0.066118</td>\n",
       "      <td>1.85131</td>\n",
       "    </tr>\n",
       "    <tr>\n",
       "      <th>8</th>\n",
       "      <td>Pop</td>\n",
       "      <td>IALS</td>\n",
       "      <td>-0.024751</td>\n",
       "      <td>3.448412e+09</td>\n",
       "      <td>0.000000</td>\n",
       "      <td>0.00000</td>\n",
       "    </tr>\n",
       "    <tr>\n",
       "      <th>6</th>\n",
       "      <td>Bias</td>\n",
       "      <td>TFMF</td>\n",
       "      <td>-0.033657</td>\n",
       "      <td>1.374622e+09</td>\n",
       "      <td>0.000000</td>\n",
       "      <td>0.00000</td>\n",
       "    </tr>\n",
       "    <tr>\n",
       "      <th>11</th>\n",
       "      <td>Pop</td>\n",
       "      <td>BPR</td>\n",
       "      <td>-0.039978</td>\n",
       "      <td>1.383688e+09</td>\n",
       "      <td>0.000000</td>\n",
       "      <td>0.00000</td>\n",
       "    </tr>\n",
       "    <tr>\n",
       "      <th>17</th>\n",
       "      <td>ALS</td>\n",
       "      <td>TFMF</td>\n",
       "      <td>-0.076632</td>\n",
       "      <td>5.457747e+08</td>\n",
       "      <td>0.000000</td>\n",
       "      <td>0.00000</td>\n",
       "    </tr>\n",
       "    <tr>\n",
       "      <th>0</th>\n",
       "      <td>Bias</td>\n",
       "      <td>Pop</td>\n",
       "      <td>-0.079747</td>\n",
       "      <td>1.367013e+09</td>\n",
       "      <td>0.000000</td>\n",
       "      <td>0.00000</td>\n",
       "    </tr>\n",
       "    <tr>\n",
       "      <th>2</th>\n",
       "      <td>Bias</td>\n",
       "      <td>IALS</td>\n",
       "      <td>-0.104498</td>\n",
       "      <td>1.621623e+09</td>\n",
       "      <td>0.000000</td>\n",
       "      <td>0.00000</td>\n",
       "    </tr>\n",
       "    <tr>\n",
       "      <th>24</th>\n",
       "      <td>II</td>\n",
       "      <td>TFMF</td>\n",
       "      <td>-0.113043</td>\n",
       "      <td>4.963076e+06</td>\n",
       "      <td>0.000000</td>\n",
       "      <td>0.00000</td>\n",
       "    </tr>\n",
       "    <tr>\n",
       "      <th>26</th>\n",
       "      <td>UU</td>\n",
       "      <td>TFMF</td>\n",
       "      <td>-0.113716</td>\n",
       "      <td>4.163530e+05</td>\n",
       "      <td>0.000000</td>\n",
       "      <td>0.00000</td>\n",
       "    </tr>\n",
       "    <tr>\n",
       "      <th>5</th>\n",
       "      <td>Bias</td>\n",
       "      <td>BPR</td>\n",
       "      <td>-0.119725</td>\n",
       "      <td>1.269735e+09</td>\n",
       "      <td>0.000000</td>\n",
       "      <td>0.00000</td>\n",
       "    </tr>\n",
       "    <tr>\n",
       "      <th>13</th>\n",
       "      <td>ALS</td>\n",
       "      <td>IALS</td>\n",
       "      <td>-0.147473</td>\n",
       "      <td>8.979803e+08</td>\n",
       "      <td>0.000000</td>\n",
       "      <td>0.00000</td>\n",
       "    </tr>\n",
       "    <tr>\n",
       "      <th>16</th>\n",
       "      <td>ALS</td>\n",
       "      <td>BPR</td>\n",
       "      <td>-0.162700</td>\n",
       "      <td>5.482998e+08</td>\n",
       "      <td>0.000000</td>\n",
       "      <td>0.00000</td>\n",
       "    </tr>\n",
       "    <tr>\n",
       "      <th>23</th>\n",
       "      <td>II</td>\n",
       "      <td>BPR</td>\n",
       "      <td>-0.199111</td>\n",
       "      <td>6.399915e+06</td>\n",
       "      <td>0.000000</td>\n",
       "      <td>0.00000</td>\n",
       "    </tr>\n",
       "    <tr>\n",
       "      <th>25</th>\n",
       "      <td>UU</td>\n",
       "      <td>BPR</td>\n",
       "      <td>-0.199783</td>\n",
       "      <td>1.989830e+05</td>\n",
       "      <td>0.000000</td>\n",
       "      <td>0.00000</td>\n",
       "    </tr>\n",
       "  </tbody>\n",
       "</table>\n",
       "</div>"
      ],
      "text/plain": [
       "      A1    A2      diff          stat         p    adj_p\n",
       "19  IALS    UU  0.184557  1.185444e+06  0.000000  0.00000\n",
       "18  IALS    II  0.183884  2.144054e+07  0.000000  0.00000\n",
       "10   Pop    UU  0.159806  1.727500e+05  0.000000  0.00000\n",
       "9    Pop    II  0.159133  1.101070e+07  0.000000  0.00000\n",
       "7    Pop   ALS  0.122722  6.353637e+08  0.000000  0.00000\n",
       "27   BPR  TFMF  0.086068  2.105063e+09  0.000000  0.00000\n",
       "4   Bias    UU  0.080059  2.387485e+05  0.000000  0.00000\n",
       "3   Bias    II  0.079386  9.313118e+06  0.000000  0.00000\n",
       "21  IALS  TFMF  0.070841  2.516123e+09  0.000000  0.00000\n",
       "12   Pop  TFMF  0.046090  2.436869e+09  0.000000  0.00000\n",
       "1   Bias   ALS  0.042975  4.008673e+08  0.000000  0.00000\n",
       "15   ALS    UU  0.037084  3.285585e+05  0.000000  0.00000\n",
       "14   ALS    II  0.036411  1.013674e+07  0.000000  0.00000\n",
       "22    II    UU  0.000673  3.118990e+05  0.000000  0.00000\n",
       "20  IALS   BPR -0.015227  4.152159e+09  0.066118  1.85131\n",
       "8    Pop  IALS -0.024751  3.448412e+09  0.000000  0.00000\n",
       "6   Bias  TFMF -0.033657  1.374622e+09  0.000000  0.00000\n",
       "11   Pop   BPR -0.039978  1.383688e+09  0.000000  0.00000\n",
       "17   ALS  TFMF -0.076632  5.457747e+08  0.000000  0.00000\n",
       "0   Bias   Pop -0.079747  1.367013e+09  0.000000  0.00000\n",
       "2   Bias  IALS -0.104498  1.621623e+09  0.000000  0.00000\n",
       "24    II  TFMF -0.113043  4.963076e+06  0.000000  0.00000\n",
       "26    UU  TFMF -0.113716  4.163530e+05  0.000000  0.00000\n",
       "5   Bias   BPR -0.119725  1.269735e+09  0.000000  0.00000\n",
       "13   ALS  IALS -0.147473  8.979803e+08  0.000000  0.00000\n",
       "16   ALS   BPR -0.162700  5.482998e+08  0.000000  0.00000\n",
       "23    II   BPR -0.199111  6.399915e+06  0.000000  0.00000\n",
       "25    UU   BPR -0.199783  1.989830e+05  0.000000  0.00000"
      ]
     },
     "execution_count": 24,
     "metadata": {},
     "output_type": "execute_result"
    }
   ],
   "source": [
    "am_wilcox('recip_rank').sort_values('diff', ascending=False)"
   ]
  },
  {
   "cell_type": "markdown",
   "metadata": {
    "papermill": {
     "duration": 0.023081,
     "end_time": "2020-06-08T19:37:59.089178",
     "exception": false,
     "start_time": "2020-06-08T19:37:59.066097",
     "status": "completed"
    },
    "tags": []
   },
   "source": [
    "## Prediction RMSE\n",
    "\n",
    "We will also look at the prediction RMSE."
   ]
  },
  {
   "cell_type": "code",
   "execution_count": 25,
   "metadata": {
    "execution": {
     "iopub.execute_input": "2020-06-08T19:37:59.139654Z",
     "iopub.status.busy": "2020-06-08T19:37:59.139232Z",
     "iopub.status.idle": "2020-06-08T19:48:01.072753Z",
     "shell.execute_reply": "2020-06-08T19:48:01.073112Z"
    },
    "papermill": {
     "duration": 601.961199,
     "end_time": "2020-06-08T19:48:01.073241",
     "exception": false,
     "start_time": "2020-06-08T19:37:59.112042",
     "status": "completed"
    },
    "tags": []
   },
   "outputs": [],
   "source": [
    "user_rmse = preds.groupby(['algorithm', 'user']).apply(lambda df: rmse(df['prediction'], df['rating']))\n",
    "user_rmse = user_rmse.reset_index(name='RMSE')"
   ]
  },
  {
   "cell_type": "code",
   "execution_count": 26,
   "metadata": {
    "execution": {
     "iopub.execute_input": "2020-06-08T19:48:01.125691Z",
     "iopub.status.busy": "2020-06-08T19:48:01.125247Z",
     "iopub.status.idle": "2020-06-08T19:48:05.800559Z",
     "shell.execute_reply": "2020-06-08T19:48:05.800172Z"
    },
    "papermill": {
     "duration": 4.703417,
     "end_time": "2020-06-08T19:48:05.800650",
     "exception": false,
     "start_time": "2020-06-08T19:48:01.097233",
     "status": "completed"
    },
    "tags": []
   },
   "outputs": [
    {
     "data": {
      "text/plain": [
       "<seaborn.axisgrid.FacetGrid at 0x2aab03fed550>"
      ]
     },
     "execution_count": 26,
     "metadata": {},
     "output_type": "execute_result"
    },
    {
     "data": {
      "image/png": "[encoded data removed]",
      "text/plain": [
       "<Figure size 360x360 with 1 Axes>"
      ]
     },
     "metadata": {
      "needs_background": "light"
     },
     "output_type": "display_data"
    }
   ],
   "source": [
    "sns.catplot(x='algorithm', y='RMSE', data=user_rmse, kind='bar')"
   ]
  },
  {
   "cell_type": "code",
   "execution_count": null,
   "metadata": {
    "papermill": {
     "duration": 0.023764,
     "end_time": "2020-06-08T19:48:05.848984",
     "exception": false,
     "start_time": "2020-06-08T19:48:05.825220",
     "status": "completed"
    },
    "tags": []
   },
   "outputs": [],
   "source": []
  }
 ],
 "metadata": {
  "kernelspec": {
   "display_name": "Python 3",
   "language": "python",
   "name": "python3"
  },
  "language_info": {
   "codemirror_mode": {
    "name": "ipython",
    "version": 3
   },
   "file_extension": ".py",
   "mimetype": "text/x-python",
   "name": "python",
   "nbconvert_exporter": "python",
   "pygments_lexer": "ipython3",
   "version": "3.8.3"
  },
  "papermill": {
   "duration": 1280.602219,
   "end_time": "2020-06-08T19:48:06.179084",
   "environment_variables": {},
   "exception": null,
   "input_path": "eval-report.ipynb",
   "output_path": "eval-report.ml20m.ipynb",
   "parameters": {
    "dataset": "ml20m"
   },
   "start_time": "2020-06-08T19:26:45.576865",
   "version": "2.1.0"
  }
 },
 "nbformat": 4,
 "nbformat_minor": 2
}