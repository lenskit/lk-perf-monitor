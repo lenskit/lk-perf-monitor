{
 "cells": [
  {
   "cell_type": "markdown",
   "id": "f6e30935",
   "metadata": {},
   "source": [
    "# Algorithm Metrics\n",
    "\n",
    "This notebook shows algorithm metrics over the release branches."
   ]
  },
  {
   "cell_type": "code",
   "execution_count": 1,
   "id": "0372abf5",
   "metadata": {
    "execution": {
     "iopub.execute_input": "2022-02-26T03:05:02.606072Z",
     "iopub.status.busy": "2022-02-26T03:05:02.605876Z",
     "iopub.status.idle": "2022-02-26T03:05:02.614730Z",
     "shell.execute_reply": "2022-02-26T03:05:02.614255Z"
    }
   },
   "outputs": [],
   "source": [
    "import re\n",
    "from pathlib import Path\n",
    "from packaging.version import parse as parse_version\n",
    "import json"
   ]
  },
  {
   "cell_type": "code",
   "execution_count": 2,
   "id": "3a34308f",
   "metadata": {
    "execution": {
     "iopub.execute_input": "2022-02-26T03:05:02.617212Z",
     "iopub.status.busy": "2022-02-26T03:05:02.616811Z",
     "iopub.status.idle": "2022-02-26T03:05:14.550464Z",
     "shell.execute_reply": "2022-02-26T03:05:14.549988Z"
    }
   },
   "outputs": [],
   "source": [
    "import pandas as pd\n",
    "import seaborn as sns"
   ]
  },
  {
   "cell_type": "markdown",
   "id": "0dae6b78",
   "metadata": {},
   "source": [
    "## Load DVC metrics\n",
    "\n",
    "Let's load all the DVC metrics:"
   ]
  },
  {
   "cell_type": "code",
   "execution_count": 3,
   "id": "f53a5cb6",
   "metadata": {
    "execution": {
     "iopub.execute_input": "2022-02-26T03:05:14.553182Z",
     "iopub.status.busy": "2022-02-26T03:05:14.552989Z",
     "iopub.status.idle": "2022-02-26T03:05:14.555715Z",
     "shell.execute_reply": "2022-02-26T03:05:14.555314Z"
    }
   },
   "outputs": [],
   "source": [
    "run_dir = Path('runs')"
   ]
  },
  {
   "cell_type": "code",
   "execution_count": 4,
   "id": "512c32f1",
   "metadata": {
    "execution": {
     "iopub.execute_input": "2022-02-26T03:05:14.557923Z",
     "iopub.status.busy": "2022-02-26T03:05:14.557760Z",
     "iopub.status.idle": "2022-02-26T03:05:14.652665Z",
     "shell.execute_reply": "2022-02-26T03:05:14.652295Z"
    }
   },
   "outputs": [
    {
     "data": {
      "text/plain": [
       "['0.10', '0.11', '0.12', '0.13', '0.9', 'main', '0.14']"
      ]
     },
     "execution_count": 4,
     "metadata": {},
     "output_type": "execute_result"
    }
   ],
   "source": [
    "metrics = {}\n",
    "for file in run_dir.glob('*/metrics.csv'):\n",
    "    ver = file.parent.name\n",
    "    metrics[ver] = pd.read_csv(file)\n",
    "list(metrics.keys())"
   ]
  },
  {
   "cell_type": "code",
   "execution_count": 5,
   "id": "845c6db2",
   "metadata": {
    "execution": {
     "iopub.execute_input": "2022-02-26T03:05:14.655338Z",
     "iopub.status.busy": "2022-02-26T03:05:14.655049Z",
     "iopub.status.idle": "2022-02-26T03:05:14.659042Z",
     "shell.execute_reply": "2022-02-26T03:05:14.658681Z"
    }
   },
   "outputs": [
    {
     "data": {
      "text/plain": [
       "['0.9', '0.10', '0.11', '0.12', '0.13', '0.14', 'main']"
      ]
     },
     "execution_count": 5,
     "metadata": {},
     "output_type": "execute_result"
    }
   ],
   "source": [
    "versions = [k for k in metrics.keys() if k != 'main']\n",
    "versions.sort(key=parse_version)\n",
    "versions.append('main')\n",
    "versions"
   ]
  },
  {
   "cell_type": "markdown",
   "id": "caa41de9",
   "metadata": {},
   "source": [
    "Now let's collect all these metrics into a frame:"
   ]
  },
  {
   "cell_type": "code",
   "execution_count": 6,
   "id": "727e72a2",
   "metadata": {
    "execution": {
     "iopub.execute_input": "2022-02-26T03:05:14.661234Z",
     "iopub.status.busy": "2022-02-26T03:05:14.661070Z",
     "iopub.status.idle": "2022-02-26T03:05:14.701715Z",
     "shell.execute_reply": "2022-02-26T03:05:14.701324Z"
    }
   },
   "outputs": [
    {
     "data": {
      "text/html": [
       "<div>\n",
       "<style scoped>\n",
       "    .dataframe tbody tr th:only-of-type {\n",
       "        vertical-align: middle;\n",
       "    }\n",
       "\n",
       "    .dataframe tbody tr th {\n",
       "        vertical-align: top;\n",
       "    }\n",
       "\n",
       "    .dataframe thead th {\n",
       "        text-align: right;\n",
       "    }\n",
       "</style>\n",
       "<table border=\"1\" class=\"dataframe\">\n",
       "  <thead>\n",
       "    <tr style=\"text-align: right;\">\n",
       "      <th></th>\n",
       "      <th>version</th>\n",
       "      <th>nDCG</th>\n",
       "      <th>GRMSE</th>\n",
       "      <th>TrainTime</th>\n",
       "      <th>train_times</th>\n",
       "      <th>run</th>\n",
       "    </tr>\n",
       "  </thead>\n",
       "  <tbody>\n",
       "    <tr>\n",
       "      <th>0</th>\n",
       "      <td>0.10</td>\n",
       "      <td>0.080848</td>\n",
       "      <td>0.931587</td>\n",
       "      <td>0.796975</td>\n",
       "      <td>[5.638262357097119, 0.6996124316938221, 0.7928...</td>\n",
       "      <td>ml100k-ALS</td>\n",
       "    </tr>\n",
       "    <tr>\n",
       "      <th>1</th>\n",
       "      <td>0.10</td>\n",
       "      <td>0.255799</td>\n",
       "      <td>3.005477</td>\n",
       "      <td>0.849629</td>\n",
       "      <td>[10.180080394260585, 0.7999795232899487, 0.803...</td>\n",
       "      <td>ml100k-IALS</td>\n",
       "    </tr>\n",
       "    <tr>\n",
       "      <th>2</th>\n",
       "      <td>0.10</td>\n",
       "      <td>0.058197</td>\n",
       "      <td>0.923417</td>\n",
       "      <td>0.254529</td>\n",
       "      <td>[5.031185398809612, 0.25452850805595517, 0.252...</td>\n",
       "      <td>ml100k-II</td>\n",
       "    </tr>\n",
       "    <tr>\n",
       "      <th>3</th>\n",
       "      <td>0.10</td>\n",
       "      <td>0.037624</td>\n",
       "      <td>0.958097</td>\n",
       "      <td>0.027818</td>\n",
       "      <td>[2.710465171840042, 0.027817589230835438, 0.02...</td>\n",
       "      <td>ml100k-UU</td>\n",
       "    </tr>\n",
       "    <tr>\n",
       "      <th>4</th>\n",
       "      <td>0.10</td>\n",
       "      <td>0.042339</td>\n",
       "      <td>0.856865</td>\n",
       "      <td>38.953442</td>\n",
       "      <td>[42.14392414689064, 36.4100628211163, 38.81304...</td>\n",
       "      <td>ml10m-ALS</td>\n",
       "    </tr>\n",
       "    <tr>\n",
       "      <th>...</th>\n",
       "      <td>...</td>\n",
       "      <td>...</td>\n",
       "      <td>...</td>\n",
       "      <td>...</td>\n",
       "      <td>...</td>\n",
       "      <td>...</td>\n",
       "    </tr>\n",
       "    <tr>\n",
       "      <th>97</th>\n",
       "      <td>0.14</td>\n",
       "      <td>0.042318</td>\n",
       "      <td>0.856891</td>\n",
       "      <td>26.019059</td>\n",
       "      <td>[29.862429386004806, 26.01905857026577, 25.504...</td>\n",
       "      <td>ml10m-ALS</td>\n",
       "    </tr>\n",
       "    <tr>\n",
       "      <th>98</th>\n",
       "      <td>0.14</td>\n",
       "      <td>0.032544</td>\n",
       "      <td>0.856041</td>\n",
       "      <td>76.578848</td>\n",
       "      <td>[79.65065841935575, 75.96593541651964, 76.1584...</td>\n",
       "      <td>ml20m-ALS</td>\n",
       "    </tr>\n",
       "    <tr>\n",
       "      <th>99</th>\n",
       "      <td>0.14</td>\n",
       "      <td>0.225514</td>\n",
       "      <td>3.136885</td>\n",
       "      <td>3.091545</td>\n",
       "      <td>[12.252098605036736, 2.838381141424179, 2.8284...</td>\n",
       "      <td>ml1m-IALS</td>\n",
       "    </tr>\n",
       "    <tr>\n",
       "      <th>100</th>\n",
       "      <td>0.14</td>\n",
       "      <td>0.274598</td>\n",
       "      <td>3.022116</td>\n",
       "      <td>32.270762</td>\n",
       "      <td>[40.70055753365159, 32.089094676077366, 33.881...</td>\n",
       "      <td>ml10m-IALS</td>\n",
       "    </tr>\n",
       "    <tr>\n",
       "      <th>101</th>\n",
       "      <td>0.14</td>\n",
       "      <td>0.255130</td>\n",
       "      <td>3.058743</td>\n",
       "      <td>81.681963</td>\n",
       "      <td>[95.1409738752991, 81.6819626186043, 84.692139...</td>\n",
       "      <td>ml20m-IALS</td>\n",
       "    </tr>\n",
       "  </tbody>\n",
       "</table>\n",
       "<p>102 rows × 6 columns</p>\n",
       "</div>"
      ],
      "text/plain": [
       "    version      nDCG     GRMSE  TrainTime  \\\n",
       "0      0.10  0.080848  0.931587   0.796975   \n",
       "1      0.10  0.255799  3.005477   0.849629   \n",
       "2      0.10  0.058197  0.923417   0.254529   \n",
       "3      0.10  0.037624  0.958097   0.027818   \n",
       "4      0.10  0.042339  0.856865  38.953442   \n",
       "..      ...       ...       ...        ...   \n",
       "97     0.14  0.042318  0.856891  26.019059   \n",
       "98     0.14  0.032544  0.856041  76.578848   \n",
       "99     0.14  0.225514  3.136885   3.091545   \n",
       "100    0.14  0.274598  3.022116  32.270762   \n",
       "101    0.14  0.255130  3.058743  81.681963   \n",
       "\n",
       "                                           train_times          run  \n",
       "0    [5.638262357097119, 0.6996124316938221, 0.7928...   ml100k-ALS  \n",
       "1    [10.180080394260585, 0.7999795232899487, 0.803...  ml100k-IALS  \n",
       "2    [5.031185398809612, 0.25452850805595517, 0.252...    ml100k-II  \n",
       "3    [2.710465171840042, 0.027817589230835438, 0.02...    ml100k-UU  \n",
       "4    [42.14392414689064, 36.4100628211163, 38.81304...    ml10m-ALS  \n",
       "..                                                 ...          ...  \n",
       "97   [29.862429386004806, 26.01905857026577, 25.504...    ml10m-ALS  \n",
       "98   [79.65065841935575, 75.96593541651964, 76.1584...    ml20m-ALS  \n",
       "99   [12.252098605036736, 2.838381141424179, 2.8284...    ml1m-IALS  \n",
       "100  [40.70055753365159, 32.089094676077366, 33.881...   ml10m-IALS  \n",
       "101  [95.1409738752991, 81.6819626186043, 84.692139...   ml20m-IALS  \n",
       "\n",
       "[102 rows x 6 columns]"
      ]
     },
     "execution_count": 6,
     "metadata": {},
     "output_type": "execute_result"
    }
   ],
   "source": [
    "mdf = pd.concat(metrics, names=['version'])\n",
    "# pull version out of index\n",
    "mdf.reset_index('version', inplace=True)\n",
    "# drop remaining index\n",
    "mdf.reset_index(drop=True, inplace=True)\n",
    "# set up category and ordering\n",
    "mdf = mdf.astype({'version': 'category'})\n",
    "mdf['version'] = mdf['version'].cat.reorder_categories(versions)\n",
    "mdf"
   ]
  },
  {
   "cell_type": "markdown",
   "id": "b7e790c3",
   "metadata": {},
   "source": [
    "And get data sets & algorithms from run keys:"
   ]
  },
  {
   "cell_type": "code",
   "execution_count": 7,
   "id": "e3b34a5d",
   "metadata": {
    "execution": {
     "iopub.execute_input": "2022-02-26T03:05:14.703963Z",
     "iopub.status.busy": "2022-02-26T03:05:14.703803Z",
     "iopub.status.idle": "2022-02-26T03:05:14.717931Z",
     "shell.execute_reply": "2022-02-26T03:05:14.717546Z"
    }
   },
   "outputs": [
    {
     "data": {
      "text/html": [
       "<div>\n",
       "<style scoped>\n",
       "    .dataframe tbody tr th:only-of-type {\n",
       "        vertical-align: middle;\n",
       "    }\n",
       "\n",
       "    .dataframe tbody tr th {\n",
       "        vertical-align: top;\n",
       "    }\n",
       "\n",
       "    .dataframe thead th {\n",
       "        text-align: right;\n",
       "    }\n",
       "</style>\n",
       "<table border=\"1\" class=\"dataframe\">\n",
       "  <thead>\n",
       "    <tr style=\"text-align: right;\">\n",
       "      <th></th>\n",
       "      <th>version</th>\n",
       "      <th>nDCG</th>\n",
       "      <th>GRMSE</th>\n",
       "      <th>TrainTime</th>\n",
       "      <th>train_times</th>\n",
       "      <th>run</th>\n",
       "      <th>data</th>\n",
       "      <th>algo</th>\n",
       "    </tr>\n",
       "  </thead>\n",
       "  <tbody>\n",
       "    <tr>\n",
       "      <th>0</th>\n",
       "      <td>0.10</td>\n",
       "      <td>0.080848</td>\n",
       "      <td>0.931587</td>\n",
       "      <td>0.796975</td>\n",
       "      <td>[5.638262357097119, 0.6996124316938221, 0.7928...</td>\n",
       "      <td>ml100k-ALS</td>\n",
       "      <td>ml100k</td>\n",
       "      <td>ALS</td>\n",
       "    </tr>\n",
       "    <tr>\n",
       "      <th>1</th>\n",
       "      <td>0.10</td>\n",
       "      <td>0.255799</td>\n",
       "      <td>3.005477</td>\n",
       "      <td>0.849629</td>\n",
       "      <td>[10.180080394260585, 0.7999795232899487, 0.803...</td>\n",
       "      <td>ml100k-IALS</td>\n",
       "      <td>ml100k</td>\n",
       "      <td>IALS</td>\n",
       "    </tr>\n",
       "    <tr>\n",
       "      <th>2</th>\n",
       "      <td>0.10</td>\n",
       "      <td>0.058197</td>\n",
       "      <td>0.923417</td>\n",
       "      <td>0.254529</td>\n",
       "      <td>[5.031185398809612, 0.25452850805595517, 0.252...</td>\n",
       "      <td>ml100k-II</td>\n",
       "      <td>ml100k</td>\n",
       "      <td>II</td>\n",
       "    </tr>\n",
       "    <tr>\n",
       "      <th>3</th>\n",
       "      <td>0.10</td>\n",
       "      <td>0.037624</td>\n",
       "      <td>0.958097</td>\n",
       "      <td>0.027818</td>\n",
       "      <td>[2.710465171840042, 0.027817589230835438, 0.02...</td>\n",
       "      <td>ml100k-UU</td>\n",
       "      <td>ml100k</td>\n",
       "      <td>UU</td>\n",
       "    </tr>\n",
       "    <tr>\n",
       "      <th>4</th>\n",
       "      <td>0.10</td>\n",
       "      <td>0.042339</td>\n",
       "      <td>0.856865</td>\n",
       "      <td>38.953442</td>\n",
       "      <td>[42.14392414689064, 36.4100628211163, 38.81304...</td>\n",
       "      <td>ml10m-ALS</td>\n",
       "      <td>ml10m</td>\n",
       "      <td>ALS</td>\n",
       "    </tr>\n",
       "    <tr>\n",
       "      <th>...</th>\n",
       "      <td>...</td>\n",
       "      <td>...</td>\n",
       "      <td>...</td>\n",
       "      <td>...</td>\n",
       "      <td>...</td>\n",
       "      <td>...</td>\n",
       "      <td>...</td>\n",
       "      <td>...</td>\n",
       "    </tr>\n",
       "    <tr>\n",
       "      <th>97</th>\n",
       "      <td>0.14</td>\n",
       "      <td>0.042318</td>\n",
       "      <td>0.856891</td>\n",
       "      <td>26.019059</td>\n",
       "      <td>[29.862429386004806, 26.01905857026577, 25.504...</td>\n",
       "      <td>ml10m-ALS</td>\n",
       "      <td>ml10m</td>\n",
       "      <td>ALS</td>\n",
       "    </tr>\n",
       "    <tr>\n",
       "      <th>98</th>\n",
       "      <td>0.14</td>\n",
       "      <td>0.032544</td>\n",
       "      <td>0.856041</td>\n",
       "      <td>76.578848</td>\n",
       "      <td>[79.65065841935575, 75.96593541651964, 76.1584...</td>\n",
       "      <td>ml20m-ALS</td>\n",
       "      <td>ml20m</td>\n",
       "      <td>ALS</td>\n",
       "    </tr>\n",
       "    <tr>\n",
       "      <th>99</th>\n",
       "      <td>0.14</td>\n",
       "      <td>0.225514</td>\n",
       "      <td>3.136885</td>\n",
       "      <td>3.091545</td>\n",
       "      <td>[12.252098605036736, 2.838381141424179, 2.8284...</td>\n",
       "      <td>ml1m-IALS</td>\n",
       "      <td>ml1m</td>\n",
       "      <td>IALS</td>\n",
       "    </tr>\n",
       "    <tr>\n",
       "      <th>100</th>\n",
       "      <td>0.14</td>\n",
       "      <td>0.274598</td>\n",
       "      <td>3.022116</td>\n",
       "      <td>32.270762</td>\n",
       "      <td>[40.70055753365159, 32.089094676077366, 33.881...</td>\n",
       "      <td>ml10m-IALS</td>\n",
       "      <td>ml10m</td>\n",
       "      <td>IALS</td>\n",
       "    </tr>\n",
       "    <tr>\n",
       "      <th>101</th>\n",
       "      <td>0.14</td>\n",
       "      <td>0.255130</td>\n",
       "      <td>3.058743</td>\n",
       "      <td>81.681963</td>\n",
       "      <td>[95.1409738752991, 81.6819626186043, 84.692139...</td>\n",
       "      <td>ml20m-IALS</td>\n",
       "      <td>ml20m</td>\n",
       "      <td>IALS</td>\n",
       "    </tr>\n",
       "  </tbody>\n",
       "</table>\n",
       "<p>102 rows × 8 columns</p>\n",
       "</div>"
      ],
      "text/plain": [
       "    version      nDCG     GRMSE  TrainTime  \\\n",
       "0      0.10  0.080848  0.931587   0.796975   \n",
       "1      0.10  0.255799  3.005477   0.849629   \n",
       "2      0.10  0.058197  0.923417   0.254529   \n",
       "3      0.10  0.037624  0.958097   0.027818   \n",
       "4      0.10  0.042339  0.856865  38.953442   \n",
       "..      ...       ...       ...        ...   \n",
       "97     0.14  0.042318  0.856891  26.019059   \n",
       "98     0.14  0.032544  0.856041  76.578848   \n",
       "99     0.14  0.225514  3.136885   3.091545   \n",
       "100    0.14  0.274598  3.022116  32.270762   \n",
       "101    0.14  0.255130  3.058743  81.681963   \n",
       "\n",
       "                                           train_times          run    data  \\\n",
       "0    [5.638262357097119, 0.6996124316938221, 0.7928...   ml100k-ALS  ml100k   \n",
       "1    [10.180080394260585, 0.7999795232899487, 0.803...  ml100k-IALS  ml100k   \n",
       "2    [5.031185398809612, 0.25452850805595517, 0.252...    ml100k-II  ml100k   \n",
       "3    [2.710465171840042, 0.027817589230835438, 0.02...    ml100k-UU  ml100k   \n",
       "4    [42.14392414689064, 36.4100628211163, 38.81304...    ml10m-ALS   ml10m   \n",
       "..                                                 ...          ...     ...   \n",
       "97   [29.862429386004806, 26.01905857026577, 25.504...    ml10m-ALS   ml10m   \n",
       "98   [79.65065841935575, 75.96593541651964, 76.1584...    ml20m-ALS   ml20m   \n",
       "99   [12.252098605036736, 2.838381141424179, 2.8284...    ml1m-IALS    ml1m   \n",
       "100  [40.70055753365159, 32.089094676077366, 33.881...   ml10m-IALS   ml10m   \n",
       "101  [95.1409738752991, 81.6819626186043, 84.692139...   ml20m-IALS   ml20m   \n",
       "\n",
       "     algo  \n",
       "0     ALS  \n",
       "1    IALS  \n",
       "2      II  \n",
       "3      UU  \n",
       "4     ALS  \n",
       "..    ...  \n",
       "97    ALS  \n",
       "98    ALS  \n",
       "99   IALS  \n",
       "100  IALS  \n",
       "101  IALS  \n",
       "\n",
       "[102 rows x 8 columns]"
      ]
     },
     "execution_count": 7,
     "metadata": {},
     "output_type": "execute_result"
    }
   ],
   "source": [
    "mdf['data'] = mdf['run'].str.replace(r'^(\\w+)-.*', r'\\1', regex=True)\n",
    "mdf['algo'] = mdf['run'].str.replace(r'^\\w+-(.*)', r'\\1', regex=True)\n",
    "mdf"
   ]
  },
  {
   "cell_type": "markdown",
   "id": "de5638a0",
   "metadata": {},
   "source": [
    "## ALS Results\n",
    "\n",
    "Let's first look at biased MF from ALS:"
   ]
  },
  {
   "cell_type": "code",
   "execution_count": 8,
   "id": "ee6ec42a",
   "metadata": {
    "execution": {
     "iopub.execute_input": "2022-02-26T03:05:14.720241Z",
     "iopub.status.busy": "2022-02-26T03:05:14.719990Z",
     "iopub.status.idle": "2022-02-26T03:05:14.992761Z",
     "shell.execute_reply": "2022-02-26T03:05:14.992382Z"
    }
   },
   "outputs": [
    {
     "data": {
      "text/plain": [
       "<AxesSubplot:xlabel='version', ylabel='GRMSE'>"
      ]
     },
     "execution_count": 8,
     "metadata": {},
     "output_type": "execute_result"
    },
    {
     "data": {
      "image/png": "[encoded data removed]",
      "text/plain": [
       "<Figure size 432x288 with 1 Axes>"
      ]
     },
     "metadata": {
      "needs_background": "light"
     },
     "output_type": "display_data"
    }
   ],
   "source": [
    "als = mdf[mdf['algo'] == 'ALS']\n",
    "sns.lineplot(x='version', y='GRMSE', hue='data', data=als)"
   ]
  },
  {
   "cell_type": "code",
   "execution_count": 9,
   "id": "2eb6d5c4",
   "metadata": {
    "execution": {
     "iopub.execute_input": "2022-02-26T03:05:14.994966Z",
     "iopub.status.busy": "2022-02-26T03:05:14.994800Z",
     "iopub.status.idle": "2022-02-26T03:05:15.215756Z",
     "shell.execute_reply": "2022-02-26T03:05:15.215338Z"
    }
   },
   "outputs": [
    {
     "data": {
      "text/plain": [
       "<AxesSubplot:xlabel='version', ylabel='nDCG'>"
      ]
     },
     "execution_count": 9,
     "metadata": {},
     "output_type": "execute_result"
    },
    {
     "data": {
      "image/png": "[encoded data removed]",
      "text/plain": [
       "<Figure size 432x288 with 1 Axes>"
      ]
     },
     "metadata": {
      "needs_background": "light"
     },
     "output_type": "display_data"
    }
   ],
   "source": [
    "als = mdf[mdf['algo'] == 'ALS']\n",
    "sns.lineplot(x='version', y='nDCG', hue='data', data=als)"
   ]
  },
  {
   "cell_type": "markdown",
   "id": "7cc1fdb7",
   "metadata": {},
   "source": [
    "## Item-Item Results\n",
    "\n",
    "Now the item-item results:"
   ]
  },
  {
   "cell_type": "code",
   "execution_count": 10,
   "id": "27b116bd",
   "metadata": {
    "execution": {
     "iopub.execute_input": "2022-02-26T03:05:15.218193Z",
     "iopub.status.busy": "2022-02-26T03:05:15.218018Z",
     "iopub.status.idle": "2022-02-26T03:05:15.393653Z",
     "shell.execute_reply": "2022-02-26T03:05:15.393281Z"
    }
   },
   "outputs": [
    {
     "data": {
      "text/plain": [
       "<AxesSubplot:xlabel='version', ylabel='GRMSE'>"
      ]
     },
     "execution_count": 10,
     "metadata": {},
     "output_type": "execute_result"
    },
    {
     "data": {
      "image/png": "[encoded data removed]",
      "text/plain": [
       "<Figure size 432x288 with 1 Axes>"
      ]
     },
     "metadata": {
      "needs_background": "light"
     },
     "output_type": "display_data"
    }
   ],
   "source": [
    "ii_exp = mdf[mdf['algo'] == 'II']\n",
    "sns.lineplot(x='version', y='GRMSE', hue='data', data=ii_exp)"
   ]
  },
  {
   "cell_type": "code",
   "execution_count": 11,
   "id": "73d47df9",
   "metadata": {
    "execution": {
     "iopub.execute_input": "2022-02-26T03:05:15.395849Z",
     "iopub.status.busy": "2022-02-26T03:05:15.395690Z",
     "iopub.status.idle": "2022-02-26T03:05:15.554137Z",
     "shell.execute_reply": "2022-02-26T03:05:15.553764Z"
    }
   },
   "outputs": [
    {
     "data": {
      "text/plain": [
       "<AxesSubplot:xlabel='version', ylabel='nDCG'>"
      ]
     },
     "execution_count": 11,
     "metadata": {},
     "output_type": "execute_result"
    },
    {
     "data": {
      "image/png": "[encoded data removed]",
      "text/plain": [
       "<Figure size 432x288 with 1 Axes>"
      ]
     },
     "metadata": {
      "needs_background": "light"
     },
     "output_type": "display_data"
    }
   ],
   "source": [
    "ii_exp = mdf[mdf['algo'] == 'II']\n",
    "sns.lineplot(x='version', y='nDCG', hue='data', data=ii_exp)"
   ]
  },
  {
   "cell_type": "markdown",
   "id": "dd6ce929",
   "metadata": {},
   "source": [
    "## User-User Results\n"
   ]
  },
  {
   "cell_type": "code",
   "execution_count": 12,
   "id": "cd8158a0",
   "metadata": {
    "execution": {
     "iopub.execute_input": "2022-02-26T03:05:15.556407Z",
     "iopub.status.busy": "2022-02-26T03:05:15.556250Z",
     "iopub.status.idle": "2022-02-26T03:05:15.711911Z",
     "shell.execute_reply": "2022-02-26T03:05:15.711538Z"
    }
   },
   "outputs": [
    {
     "data": {
      "text/plain": [
       "<AxesSubplot:xlabel='version', ylabel='GRMSE'>"
      ]
     },
     "execution_count": 12,
     "metadata": {},
     "output_type": "execute_result"
    },
    {
     "data": {
      "image/png": "[encoded data removed]",
      "text/plain": [
       "<Figure size 432x288 with 1 Axes>"
      ]
     },
     "metadata": {
      "needs_background": "light"
     },
     "output_type": "display_data"
    }
   ],
   "source": [
    "uu_exp = mdf[mdf['algo'] == 'UU']\n",
    "sns.lineplot(x='version', y='GRMSE', hue='data', data=uu_exp)"
   ]
  },
  {
   "cell_type": "code",
   "execution_count": 13,
   "id": "bf438542",
   "metadata": {
    "execution": {
     "iopub.execute_input": "2022-02-26T03:05:15.714138Z",
     "iopub.status.busy": "2022-02-26T03:05:15.713980Z",
     "iopub.status.idle": "2022-02-26T03:05:15.856889Z",
     "shell.execute_reply": "2022-02-26T03:05:15.856422Z"
    }
   },
   "outputs": [
    {
     "data": {
      "text/plain": [
       "<AxesSubplot:xlabel='version', ylabel='nDCG'>"
      ]
     },
     "execution_count": 13,
     "metadata": {},
     "output_type": "execute_result"
    },
    {
     "data": {
      "image/png": "[encoded data removed]",
      "text/plain": [
       "<Figure size 432x288 with 1 Axes>"
      ]
     },
     "metadata": {
      "needs_background": "light"
     },
     "output_type": "display_data"
    }
   ],
   "source": [
    "uu_exp = mdf[mdf['algo'] == 'UU']\n",
    "sns.lineplot(x='version', y='nDCG', hue='data', data=uu_exp)"
   ]
  },
  {
   "cell_type": "markdown",
   "id": "f9cae3bb",
   "metadata": {},
   "source": [
    "## IALS Results\n",
    "\n",
    "Let's first look at biased MF from Implicit ALS:"
   ]
  },
  {
   "cell_type": "code",
   "execution_count": 14,
   "id": "8038cfef",
   "metadata": {
    "execution": {
     "iopub.execute_input": "2022-02-26T03:05:15.859163Z",
     "iopub.status.busy": "2022-02-26T03:05:15.858987Z",
     "iopub.status.idle": "2022-02-26T03:05:16.019963Z",
     "shell.execute_reply": "2022-02-26T03:05:16.019591Z"
    }
   },
   "outputs": [
    {
     "data": {
      "text/plain": [
       "<AxesSubplot:xlabel='version', ylabel='nDCG'>"
      ]
     },
     "execution_count": 14,
     "metadata": {},
     "output_type": "execute_result"
    },
    {
     "data": {
      "image/png": "[encoded data removed]",
      "text/plain": [
       "<Figure size 432x288 with 1 Axes>"
      ]
     },
     "metadata": {
      "needs_background": "light"
     },
     "output_type": "display_data"
    }
   ],
   "source": [
    "als = mdf[mdf['algo'] == 'IALS']\n",
    "sns.lineplot(x='version', y='nDCG', hue='data', data=als)"
   ]
  },
  {
   "cell_type": "markdown",
   "id": "9279b695",
   "metadata": {},
   "source": [
    "## Combined Algorithm Results\n",
    "\n",
    "Let's look at all the algorithms together as a point plot:"
   ]
  },
  {
   "cell_type": "code",
   "execution_count": 15,
   "id": "b060dbb4",
   "metadata": {
    "execution": {
     "iopub.execute_input": "2022-02-26T03:05:16.022220Z",
     "iopub.status.busy": "2022-02-26T03:05:16.022028Z",
     "iopub.status.idle": "2022-02-26T03:05:17.188885Z",
     "shell.execute_reply": "2022-02-26T03:05:17.188445Z"
    }
   },
   "outputs": [
    {
     "data": {
      "text/plain": [
       "<seaborn.axisgrid.FacetGrid at 0x7fffcd08b9a0>"
      ]
     },
     "execution_count": 15,
     "metadata": {},
     "output_type": "execute_result"
    },
    {
     "data": {
      "image/png": "[encoded data removed]",
      "text/plain": [
       "<Figure size 1513.38x360 with 4 Axes>"
      ]
     },
     "metadata": {
      "needs_background": "light"
     },
     "output_type": "display_data"
    }
   ],
   "source": [
    "sns.catplot(x='version', y='nDCG', hue='data', col='algo', data=mdf, kind='point')"
   ]
  },
  {
   "cell_type": "code",
   "execution_count": null,
   "id": "05f40e63",
   "metadata": {},
   "outputs": [],
   "source": []
  }
 ],
 "metadata": {
  "jupytext": {
   "formats": "ipynb,py:percent"
  },
  "kernelspec": {
   "display_name": "Python 3 (ipykernel)",
   "language": "python",
   "name": "python3"
  },
  "language_info": {
   "codemirror_mode": {
    "name": "ipython",
    "version": 3
   },
   "file_extension": ".py",
   "mimetype": "text/x-python",
   "name": "python",
   "nbconvert_exporter": "python",
   "pygments_lexer": "ipython3",
   "version": "3.9.10"
  }
 },
 "nbformat": 4,
 "nbformat_minor": 5
}
