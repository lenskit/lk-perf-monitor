{
 "cells": [
  {
   "cell_type": "markdown",
   "metadata": {
    "papermill": {
     "duration": 0.017452,
     "end_time": "2020-06-08T19:15:57.991555",
     "exception": false,
     "start_time": "2020-06-08T19:15:57.974103",
     "status": "completed"
    },
    "tags": []
   },
   "source": [
    "# Evaluation Analysis for Recommender Output"
   ]
  },
  {
   "cell_type": "markdown",
   "metadata": {
    "papermill": {
     "duration": 0.016422,
     "end_time": "2020-06-08T19:15:58.024402",
     "exception": false,
     "start_time": "2020-06-08T19:15:58.007980",
     "status": "completed"
    },
    "tags": []
   },
   "source": [
    "In this section we will analyze and compare the generated recommendations and predictions from a predefined list of algorithms with the goal of assessing the performance of each algorithm with respect to a metric. In other words, we would rank the algorithms for each metric considered with respect to performance."
   ]
  },
  {
   "cell_type": "markdown",
   "metadata": {
    "papermill": {
     "duration": 0.016282,
     "end_time": "2020-06-08T19:15:58.056906",
     "exception": false,
     "start_time": "2020-06-08T19:15:58.040624",
     "status": "completed"
    },
    "tags": []
   },
   "source": [
    "# Setup"
   ]
  },
  {
   "cell_type": "markdown",
   "metadata": {
    "papermill": {
     "duration": 0.016241,
     "end_time": "2020-06-08T19:15:58.089544",
     "exception": false,
     "start_time": "2020-06-08T19:15:58.073303",
     "status": "completed"
    },
    "tags": []
   },
   "source": [
    "Below are the list of packages required to successfully run the analysis. They are divided into partitions to signify their specific task.<br>\n",
    "We need the pathlib package for working with files and folders"
   ]
  },
  {
   "cell_type": "code",
   "execution_count": 1,
   "metadata": {
    "execution": {
     "iopub.execute_input": "2020-06-08T19:15:58.128707Z",
     "iopub.status.busy": "2020-06-08T19:15:58.128237Z",
     "iopub.status.idle": "2020-06-08T19:15:58.130147Z",
     "shell.execute_reply": "2020-06-08T19:15:58.129714Z"
    },
    "papermill": {
     "duration": 0.024409,
     "end_time": "2020-06-08T19:15:58.130242",
     "exception": false,
     "start_time": "2020-06-08T19:15:58.105833",
     "status": "completed"
    },
    "tags": []
   },
   "outputs": [],
   "source": [
    "from pathlib import Path"
   ]
  },
  {
   "cell_type": "markdown",
   "metadata": {
    "papermill": {
     "duration": 0.016273,
     "end_time": "2020-06-08T19:15:58.163451",
     "exception": false,
     "start_time": "2020-06-08T19:15:58.147178",
     "status": "completed"
    },
    "tags": []
   },
   "source": [
    "We would use the pandas for analyzing and manipulating our data while seaborn and matplotlib are used for data visualization. statsmodels.graphics.gofplots and scipy.stats.shapiro are used for normality check. Scipy.stats.friedmanchisquare is a non-parametric test used to determine the statistical significance in metric results and the wilcoxon test is used for pairwise comparison of sample data."
   ]
  },
  {
   "cell_type": "code",
   "execution_count": 2,
   "metadata": {
    "execution": {
     "iopub.execute_input": "2020-06-08T19:15:58.199379Z",
     "iopub.status.busy": "2020-06-08T19:15:58.198877Z",
     "iopub.status.idle": "2020-06-08T19:15:59.082875Z",
     "shell.execute_reply": "2020-06-08T19:15:59.082480Z"
    },
    "papermill": {
     "duration": 0.903264,
     "end_time": "2020-06-08T19:15:59.082971",
     "exception": false,
     "start_time": "2020-06-08T19:15:58.179707",
     "status": "completed"
    },
    "tags": []
   },
   "outputs": [],
   "source": [
    "import pandas as pd\n",
    "import seaborn as sns\n",
    "import matplotlib.pyplot as plt\n",
    "from statsmodels.graphics.gofplots import qqplot\n",
    "from scipy.stats import shapiro\n",
    "from scipy.stats import friedmanchisquare, wilcoxon\n",
    "from itertools import combinations"
   ]
  },
  {
   "cell_type": "markdown",
   "metadata": {
    "papermill": {
     "duration": 0.016426,
     "end_time": "2020-06-08T19:15:59.116529",
     "exception": false,
     "start_time": "2020-06-08T19:15:59.100103",
     "status": "completed"
    },
    "tags": []
   },
   "source": [
    "Logging to show what's happening in LensKit routines:"
   ]
  },
  {
   "cell_type": "code",
   "execution_count": 3,
   "metadata": {
    "execution": {
     "iopub.execute_input": "2020-06-08T19:15:59.153662Z",
     "iopub.status.busy": "2020-06-08T19:15:59.153188Z",
     "iopub.status.idle": "2020-06-08T19:15:59.245985Z",
     "shell.execute_reply": "2020-06-08T19:15:59.246333Z"
    },
    "papermill": {
     "duration": 0.113032,
     "end_time": "2020-06-08T19:15:59.246426",
     "exception": false,
     "start_time": "2020-06-08T19:15:59.133394",
     "status": "completed"
    },
    "tags": []
   },
   "outputs": [
    {
     "name": "stdout",
     "output_type": "stream",
     "text": [
      "[   INFO] lenskit.util.log notebook logging configured\n"
     ]
    }
   ],
   "source": [
    "from lenskit import util\n",
    "util.log_to_notebook()"
   ]
  },
  {
   "cell_type": "markdown",
   "metadata": {
    "papermill": {
     "duration": 0.017612,
     "end_time": "2020-06-08T19:15:59.281269",
     "exception": false,
     "start_time": "2020-06-08T19:15:59.263657",
     "status": "completed"
    },
    "tags": []
   },
   "source": [
    "We will use lenskit for training, running, and evaluating recommender algorithms"
   ]
  },
  {
   "cell_type": "code",
   "execution_count": 4,
   "metadata": {
    "execution": {
     "iopub.execute_input": "2020-06-08T19:15:59.317831Z",
     "iopub.status.busy": "2020-06-08T19:15:59.317347Z",
     "iopub.status.idle": "2020-06-08T19:15:59.321648Z",
     "shell.execute_reply": "2020-06-08T19:15:59.321982Z"
    },
    "papermill": {
     "duration": 0.024099,
     "end_time": "2020-06-08T19:15:59.322086",
     "exception": false,
     "start_time": "2020-06-08T19:15:59.297987",
     "status": "completed"
    },
    "tags": []
   },
   "outputs": [],
   "source": [
    "from lenskit import topn\n",
    "from lenskit.metrics.predict import rmse"
   ]
  },
  {
   "cell_type": "markdown",
   "metadata": {
    "papermill": {
     "duration": 0.016696,
     "end_time": "2020-06-08T19:15:59.355280",
     "exception": false,
     "start_time": "2020-06-08T19:15:59.338584",
     "status": "completed"
    },
    "tags": []
   },
   "source": [
    "# Load Data"
   ]
  },
  {
   "cell_type": "markdown",
   "metadata": {
    "papermill": {
     "duration": 0.016701,
     "end_time": "2020-06-08T19:15:59.388955",
     "exception": false,
     "start_time": "2020-06-08T19:15:59.372254",
     "status": "completed"
    },
    "tags": []
   },
   "source": [
    "We specify the dataset we will use for our analysis and the main directory from where we read the recommendation and prediction files. From the main directory we find all the directories associated with the dataset and then read the recommendation and predictions files from those directories."
   ]
  },
  {
   "cell_type": "code",
   "execution_count": 5,
   "metadata": {
    "execution": {
     "iopub.execute_input": "2020-06-08T19:15:59.425637Z",
     "iopub.status.busy": "2020-06-08T19:15:59.425209Z",
     "iopub.status.idle": "2020-06-08T19:15:59.427339Z",
     "shell.execute_reply": "2020-06-08T19:15:59.426911Z"
    },
    "papermill": {
     "duration": 0.021926,
     "end_time": "2020-06-08T19:15:59.427416",
     "exception": false,
     "start_time": "2020-06-08T19:15:59.405490",
     "status": "completed"
    },
    "tags": [
     "parameters"
    ]
   },
   "outputs": [],
   "source": [
    "dataset = \"ml10m\""
   ]
  },
  {
   "cell_type": "code",
   "execution_count": 6,
   "metadata": {
    "execution": {
     "iopub.execute_input": "2020-06-08T19:15:59.463287Z",
     "iopub.status.busy": "2020-06-08T19:15:59.462854Z",
     "iopub.status.idle": "2020-06-08T19:15:59.464958Z",
     "shell.execute_reply": "2020-06-08T19:15:59.464591Z"
    },
    "papermill": {
     "duration": 0.020883,
     "end_time": "2020-06-08T19:15:59.465043",
     "exception": false,
     "start_time": "2020-06-08T19:15:59.444160",
     "status": "completed"
    },
    "tags": [
     "injected-parameters"
    ]
   },
   "outputs": [],
   "source": [
    "# Parameters\n",
    "dataset = \"ml10m\"\n"
   ]
  },
  {
   "cell_type": "code",
   "execution_count": 7,
   "metadata": {
    "execution": {
     "iopub.execute_input": "2020-06-08T19:15:59.501727Z",
     "iopub.status.busy": "2020-06-08T19:15:59.501302Z",
     "iopub.status.idle": "2020-06-08T19:15:59.503431Z",
     "shell.execute_reply": "2020-06-08T19:15:59.503075Z"
    },
    "papermill": {
     "duration": 0.021707,
     "end_time": "2020-06-08T19:15:59.503510",
     "exception": false,
     "start_time": "2020-06-08T19:15:59.481803",
     "status": "completed"
    },
    "tags": []
   },
   "outputs": [],
   "source": [
    "output_root = Path(\"runs\")"
   ]
  },
  {
   "cell_type": "code",
   "execution_count": 8,
   "metadata": {
    "execution": {
     "iopub.execute_input": "2020-06-08T19:15:59.540114Z",
     "iopub.status.busy": "2020-06-08T19:15:59.539683Z",
     "iopub.status.idle": "2020-06-08T19:15:59.541824Z",
     "shell.execute_reply": "2020-06-08T19:15:59.541192Z"
    },
    "papermill": {
     "duration": 0.021453,
     "end_time": "2020-06-08T19:15:59.541901",
     "exception": false,
     "start_time": "2020-06-08T19:15:59.520448",
     "status": "completed"
    },
    "tags": []
   },
   "outputs": [],
   "source": [
    "dirs = [fld for fld in output_root.glob(f'{dataset}-*')]"
   ]
  },
  {
   "cell_type": "code",
   "execution_count": 9,
   "metadata": {
    "execution": {
     "iopub.execute_input": "2020-06-08T19:15:59.580027Z",
     "iopub.status.busy": "2020-06-08T19:15:59.579554Z",
     "iopub.status.idle": "2020-06-08T19:16:27.893553Z",
     "shell.execute_reply": "2020-06-08T19:16:27.893893Z"
    },
    "papermill": {
     "duration": 28.335261,
     "end_time": "2020-06-08T19:16:27.894047",
     "exception": false,
     "start_time": "2020-06-08T19:15:59.558786",
     "status": "completed"
    },
    "tags": []
   },
   "outputs": [
    {
     "name": "stdout",
     "output_type": "stream",
     "text": [
      "<class 'pandas.core.frame.DataFrame'>\n",
      "RangeIndex: 55898500 entries, 0 to 55898499\n",
      "Data columns (total 5 columns):\n",
      " #   Column     Dtype   \n",
      "---  ------     -----   \n",
      " 0   item       int64   \n",
      " 1   score      float64 \n",
      " 2   user       int64   \n",
      " 3   rank       int64   \n",
      " 4   algorithm  category\n",
      "dtypes: category(1), float64(1), int64(3)\n",
      "memory usage: 1.7 GB\n"
     ]
    }
   ],
   "source": [
    "recs = []\n",
    "for fld in dirs: \n",
    "    for file in fld.glob(\"recs-*\"):\n",
    "        rec = pd.read_csv(file, sep=',')\n",
    "        rec[\"algorithm\"] = fld.name.split(\"-\")[1]\n",
    "        recs.append(rec)\n",
    "\n",
    "recs = pd.concat(recs, ignore_index=True)\n",
    "recs = recs.astype({'algorithm': 'category'})\n",
    "recs.info()"
   ]
  },
  {
   "cell_type": "code",
   "execution_count": 10,
   "metadata": {
    "execution": {
     "iopub.execute_input": "2020-06-08T19:16:27.932491Z",
     "iopub.status.busy": "2020-06-08T19:16:27.932034Z",
     "iopub.status.idle": "2020-06-08T19:16:28.223140Z",
     "shell.execute_reply": "2020-06-08T19:16:28.223522Z"
    },
    "papermill": {
     "duration": 0.311579,
     "end_time": "2020-06-08T19:16:28.223638",
     "exception": false,
     "start_time": "2020-06-08T19:16:27.912059",
     "status": "completed"
    },
    "tags": []
   },
   "outputs": [
    {
     "data": {
      "text/plain": [
       "[ALS, Bias, BPR, IALS, II, Pop, TFMF, UU]\n",
       "Categories (8, object): [ALS, Bias, BPR, IALS, II, Pop, TFMF, UU]"
      ]
     },
     "execution_count": 10,
     "metadata": {},
     "output_type": "execute_result"
    }
   ],
   "source": [
    "rec_algos = recs['algorithm'].unique()\n",
    "rec_algos"
   ]
  },
  {
   "cell_type": "code",
   "execution_count": 11,
   "metadata": {
    "execution": {
     "iopub.execute_input": "2020-06-08T19:16:28.263485Z",
     "iopub.status.busy": "2020-06-08T19:16:28.262969Z",
     "iopub.status.idle": "2020-06-08T19:16:29.420965Z",
     "shell.execute_reply": "2020-06-08T19:16:29.421403Z"
    },
    "papermill": {
     "duration": 1.180008,
     "end_time": "2020-06-08T19:16:29.421521",
     "exception": false,
     "start_time": "2020-06-08T19:16:28.241513",
     "status": "completed"
    },
    "tags": []
   },
   "outputs": [
    {
     "name": "stdout",
     "output_type": "stream",
     "text": [
      "<class 'pandas.core.frame.DataFrame'>\n",
      "RangeIndex: 1746950 entries, 0 to 1746949\n",
      "Data columns (total 6 columns):\n",
      " #   Column      Dtype   \n",
      "---  ------      -----   \n",
      " 0   user        int64   \n",
      " 1   item        int64   \n",
      " 2   rating      float64 \n",
      " 3   timestamp   int64   \n",
      " 4   prediction  float64 \n",
      " 5   algorithm   category\n",
      "dtypes: category(1), float64(2), int64(3)\n",
      "memory usage: 68.3 MB\n"
     ]
    }
   ],
   "source": [
    "preds = []\n",
    "for fld in dirs:\n",
    "    for file in fld.glob(\"pred-*\"):\n",
    "        pred = pd.read_csv(file, sep=',')\n",
    "        pred[\"algorithm\"] = fld.name.split(\"-\")[1]\n",
    "        preds.append(pred)\n",
    "\n",
    "preds = pd.concat(preds, ignore_index=True)\n",
    "preds = preds.astype({'algorithm': 'category'})\n",
    "preds.info()"
   ]
  },
  {
   "cell_type": "markdown",
   "metadata": {
    "papermill": {
     "duration": 0.017443,
     "end_time": "2020-06-08T19:16:29.457713",
     "exception": false,
     "start_time": "2020-06-08T19:16:29.440270",
     "status": "completed"
    },
    "tags": []
   },
   "source": [
    "We need to load the test data so that we have the ground truths for computing accuracy "
   ]
  },
  {
   "cell_type": "code",
   "execution_count": 12,
   "metadata": {
    "execution": {
     "iopub.execute_input": "2020-06-08T19:16:29.497526Z",
     "iopub.status.busy": "2020-06-08T19:16:29.497103Z",
     "iopub.status.idle": "2020-06-08T19:16:29.498334Z",
     "shell.execute_reply": "2020-06-08T19:16:29.498682Z"
    },
    "papermill": {
     "duration": 0.022527,
     "end_time": "2020-06-08T19:16:29.498771",
     "exception": false,
     "start_time": "2020-06-08T19:16:29.476244",
     "status": "completed"
    },
    "tags": []
   },
   "outputs": [],
   "source": [
    "split_root = Path(\"data-split\")\n",
    "split_dir = split_root / dataset"
   ]
  },
  {
   "cell_type": "code",
   "execution_count": 13,
   "metadata": {
    "execution": {
     "iopub.execute_input": "2020-06-08T19:16:29.537468Z",
     "iopub.status.busy": "2020-06-08T19:16:29.536949Z",
     "iopub.status.idle": "2020-06-08T19:16:29.705137Z",
     "shell.execute_reply": "2020-06-08T19:16:29.704649Z"
    },
    "papermill": {
     "duration": 0.189317,
     "end_time": "2020-06-08T19:16:29.705230",
     "exception": false,
     "start_time": "2020-06-08T19:16:29.515913",
     "status": "completed"
    },
    "tags": []
   },
   "outputs": [],
   "source": [
    "test = []\n",
    "for file in split_dir.glob(\"test-*.csv.gz\"):\n",
    "    test.append(pd.read_csv(file, sep=','))\n",
    "\n",
    "test = pd.concat(test, ignore_index=True)"
   ]
  },
  {
   "cell_type": "markdown",
   "metadata": {
    "papermill": {
     "duration": 0.017435,
     "end_time": "2020-06-08T19:16:29.740916",
     "exception": false,
     "start_time": "2020-06-08T19:16:29.723481",
     "status": "completed"
    },
    "tags": []
   },
   "source": [
    "# Top-N Metrics"
   ]
  },
  {
   "cell_type": "markdown",
   "metadata": {
    "papermill": {
     "duration": 0.017442,
     "end_time": "2020-06-08T19:16:29.775701",
     "exception": false,
     "start_time": "2020-06-08T19:16:29.758259",
     "status": "completed"
    },
    "tags": []
   },
   "source": [
    "The topn.RecListAnalysis class computes top-N metrics for recommendation list and takes care of making sure that the recommendations and ground truths are properly matched. Refer to the documentation for detailed explanation of the purpose for the RecListAnalysis class and how the analysis is done - https://lkpy.lenskit.org/en/stable/evaluation/topn-metrics.html "
   ]
  },
  {
   "cell_type": "code",
   "execution_count": 14,
   "metadata": {
    "execution": {
     "iopub.execute_input": "2020-06-08T19:16:29.815405Z",
     "iopub.status.busy": "2020-06-08T19:16:29.814854Z",
     "iopub.status.idle": "2020-06-08T19:21:05.606537Z",
     "shell.execute_reply": "2020-06-08T19:21:05.606877Z"
    },
    "papermill": {
     "duration": 275.813271,
     "end_time": "2020-06-08T19:21:05.607007",
     "exception": false,
     "start_time": "2020-06-08T19:16:29.793736",
     "status": "completed"
    },
    "tags": []
   },
   "outputs": [
    {
     "name": "stdout",
     "output_type": "stream",
     "text": [
      "[   INFO] lenskit.topn analyzing 55898500 recommendations (349390 truth rows)\n"
     ]
    },
    {
     "name": "stdout",
     "output_type": "stream",
     "text": [
      "[   INFO] lenskit.topn using rec key columns ['algorithm', 'user']\n"
     ]
    },
    {
     "name": "stdout",
     "output_type": "stream",
     "text": [
      "[   INFO] lenskit.topn using truth key columns ['user']\n"
     ]
    },
    {
     "name": "stdout",
     "output_type": "stream",
     "text": [
      "[   INFO] lenskit.topn collecting truth data\n"
     ]
    },
    {
     "name": "stdout",
     "output_type": "stream",
     "text": [
      "[   INFO] lenskit.topn collecting metric results\n"
     ]
    },
    {
     "name": "stdout",
     "output_type": "stream",
     "text": [
      "[   INFO] lenskit.sharing.shm serialized <lenskit.topn._RLAJob object at 0x2aaadd4d4fd0> to 24264013 pickle bytes with 209638 buffers of 1855831004 bytes\n"
     ]
    },
    {
     "name": "stdout",
     "output_type": "stream",
     "text": [
      "[   INFO] lenskit.util.parallel setting up ProcessPoolExecutor w/ 14 workers\n"
     ]
    },
    {
     "name": "stdout",
     "output_type": "stream",
     "text": [
      "[   INFO] lenskit.topn measured 558985 lists in 3m8.86s\n"
     ]
    },
    {
     "name": "stdout",
     "output_type": "stream",
     "text": [
      "[   INFO] lenskit.topn filling in missing user info\n"
     ]
    },
    {
     "data": {
      "text/html": [
       "<div>\n",
       "<style scoped>\n",
       "    .dataframe tbody tr th:only-of-type {\n",
       "        vertical-align: middle;\n",
       "    }\n",
       "\n",
       "    .dataframe tbody tr th {\n",
       "        vertical-align: top;\n",
       "    }\n",
       "\n",
       "    .dataframe thead th {\n",
       "        text-align: right;\n",
       "    }\n",
       "</style>\n",
       "<table border=\"1\" class=\"dataframe\">\n",
       "  <thead>\n",
       "    <tr style=\"text-align: right;\">\n",
       "      <th></th>\n",
       "      <th></th>\n",
       "      <th>nrecs</th>\n",
       "      <th>precision</th>\n",
       "      <th>recip_rank</th>\n",
       "      <th>ndcg</th>\n",
       "      <th>ntruth</th>\n",
       "    </tr>\n",
       "    <tr>\n",
       "      <th>algorithm</th>\n",
       "      <th>user</th>\n",
       "      <th></th>\n",
       "      <th></th>\n",
       "      <th></th>\n",
       "      <th></th>\n",
       "      <th></th>\n",
       "    </tr>\n",
       "  </thead>\n",
       "  <tbody>\n",
       "    <tr>\n",
       "      <th rowspan=\"5\" valign=\"top\">ALS</th>\n",
       "      <th>1</th>\n",
       "      <td>100.0</td>\n",
       "      <td>0.01</td>\n",
       "      <td>0.014286</td>\n",
       "      <td>0.045808</td>\n",
       "      <td>5</td>\n",
       "    </tr>\n",
       "    <tr>\n",
       "      <th>2</th>\n",
       "      <td>100.0</td>\n",
       "      <td>0.01</td>\n",
       "      <td>1.000000</td>\n",
       "      <td>0.177712</td>\n",
       "      <td>5</td>\n",
       "    </tr>\n",
       "    <tr>\n",
       "      <th>3</th>\n",
       "      <td>100.0</td>\n",
       "      <td>0.02</td>\n",
       "      <td>0.012821</td>\n",
       "      <td>0.096554</td>\n",
       "      <td>5</td>\n",
       "    </tr>\n",
       "    <tr>\n",
       "      <th>4</th>\n",
       "      <td>100.0</td>\n",
       "      <td>0.00</td>\n",
       "      <td>0.000000</td>\n",
       "      <td>0.000000</td>\n",
       "      <td>5</td>\n",
       "    </tr>\n",
       "    <tr>\n",
       "      <th>5</th>\n",
       "      <td>100.0</td>\n",
       "      <td>0.01</td>\n",
       "      <td>0.013158</td>\n",
       "      <td>0.054496</td>\n",
       "      <td>5</td>\n",
       "    </tr>\n",
       "  </tbody>\n",
       "</table>\n",
       "</div>"
      ],
      "text/plain": [
       "                nrecs  precision  recip_rank      ndcg  ntruth\n",
       "algorithm user                                                \n",
       "ALS       1     100.0       0.01    0.014286  0.045808       5\n",
       "          2     100.0       0.01    1.000000  0.177712       5\n",
       "          3     100.0       0.02    0.012821  0.096554       5\n",
       "          4     100.0       0.00    0.000000  0.000000       5\n",
       "          5     100.0       0.01    0.013158  0.054496       5"
      ]
     },
     "execution_count": 14,
     "metadata": {},
     "output_type": "execute_result"
    }
   ],
   "source": [
    "rla = topn.RecListAnalysis()\n",
    "\n",
    "rla.add_metric(topn.precision)\n",
    "rla.add_metric(topn.recip_rank)\n",
    "rla.add_metric(topn.ndcg)\n",
    "results = rla.compute(recs, test, include_missing=True)\n",
    "results = results.fillna(0)\n",
    "results.head()"
   ]
  },
  {
   "cell_type": "markdown",
   "metadata": {
    "papermill": {
     "duration": 0.020309,
     "end_time": "2020-06-08T19:21:05.648199",
     "exception": false,
     "start_time": "2020-06-08T19:21:05.627890",
     "status": "completed"
    },
    "tags": []
   },
   "source": [
    "We will reshape the 'results' dataframe by stacking the columns to index and then use the bar chart to visualize the performance of our algorithms with respect to the precision, reciprocal rank and ndcg metrics"
   ]
  },
  {
   "cell_type": "code",
   "execution_count": 15,
   "metadata": {
    "execution": {
     "iopub.execute_input": "2020-06-08T19:21:05.695483Z",
     "iopub.status.busy": "2020-06-08T19:21:05.695038Z",
     "iopub.status.idle": "2020-06-08T19:21:05.802765Z",
     "shell.execute_reply": "2020-06-08T19:21:05.803106Z"
    },
    "papermill": {
     "duration": 0.134812,
     "end_time": "2020-06-08T19:21:05.803198",
     "exception": false,
     "start_time": "2020-06-08T19:21:05.668386",
     "status": "completed"
    },
    "tags": []
   },
   "outputs": [
    {
     "data": {
      "text/html": [
       "<div>\n",
       "<style scoped>\n",
       "    .dataframe tbody tr th:only-of-type {\n",
       "        vertical-align: middle;\n",
       "    }\n",
       "\n",
       "    .dataframe tbody tr th {\n",
       "        vertical-align: top;\n",
       "    }\n",
       "\n",
       "    .dataframe thead th {\n",
       "        text-align: right;\n",
       "    }\n",
       "</style>\n",
       "<table border=\"1\" class=\"dataframe\">\n",
       "  <thead>\n",
       "    <tr style=\"text-align: right;\">\n",
       "      <th></th>\n",
       "      <th>algorithm</th>\n",
       "      <th>user</th>\n",
       "      <th>metric</th>\n",
       "      <th>val</th>\n",
       "    </tr>\n",
       "  </thead>\n",
       "  <tbody>\n",
       "    <tr>\n",
       "      <th>0</th>\n",
       "      <td>ALS</td>\n",
       "      <td>1</td>\n",
       "      <td>precision</td>\n",
       "      <td>0.010000</td>\n",
       "    </tr>\n",
       "    <tr>\n",
       "      <th>1</th>\n",
       "      <td>ALS</td>\n",
       "      <td>1</td>\n",
       "      <td>recip_rank</td>\n",
       "      <td>0.014286</td>\n",
       "    </tr>\n",
       "    <tr>\n",
       "      <th>2</th>\n",
       "      <td>ALS</td>\n",
       "      <td>1</td>\n",
       "      <td>ndcg</td>\n",
       "      <td>0.045808</td>\n",
       "    </tr>\n",
       "    <tr>\n",
       "      <th>3</th>\n",
       "      <td>ALS</td>\n",
       "      <td>2</td>\n",
       "      <td>precision</td>\n",
       "      <td>0.010000</td>\n",
       "    </tr>\n",
       "    <tr>\n",
       "      <th>4</th>\n",
       "      <td>ALS</td>\n",
       "      <td>2</td>\n",
       "      <td>recip_rank</td>\n",
       "      <td>1.000000</td>\n",
       "    </tr>\n",
       "  </tbody>\n",
       "</table>\n",
       "</div>"
      ],
      "text/plain": [
       "  algorithm  user      metric       val\n",
       "0       ALS     1   precision  0.010000\n",
       "1       ALS     1  recip_rank  0.014286\n",
       "2       ALS     1        ndcg  0.045808\n",
       "3       ALS     2   precision  0.010000\n",
       "4       ALS     2  recip_rank  1.000000"
      ]
     },
     "execution_count": 15,
     "metadata": {},
     "output_type": "execute_result"
    }
   ],
   "source": [
    "pltData = (results.drop(columns=['nrecs', 'ntruth']).stack()).reset_index()\n",
    "pltData.columns = ['algorithm', 'user', 'metric', 'val']\n",
    "pltData.head()"
   ]
  },
  {
   "cell_type": "markdown",
   "metadata": {
    "papermill": {
     "duration": 0.020103,
     "end_time": "2020-06-08T19:21:05.843707",
     "exception": false,
     "start_time": "2020-06-08T19:21:05.823604",
     "status": "completed"
    },
    "tags": []
   },
   "source": [
    "We need to determine if the differences we observe in the performances of the algorithms for the various metrics are statistically significant. To achieve this, we will need to use either a parametric or non-parametric statistical test for comparing the differences. We will consider a parametric test - repeated ANOVA measure cause our sample groups are correlated."
   ]
  },
  {
   "cell_type": "code",
   "execution_count": 16,
   "metadata": {
    "execution": {
     "iopub.execute_input": "2020-06-08T19:21:05.916809Z",
     "iopub.status.busy": "2020-06-08T19:21:05.916377Z",
     "iopub.status.idle": "2020-06-08T19:21:17.888477Z",
     "shell.execute_reply": "2020-06-08T19:21:17.888106Z"
    },
    "papermill": {
     "duration": 12.024743,
     "end_time": "2020-06-08T19:21:17.888569",
     "exception": false,
     "start_time": "2020-06-08T19:21:05.863826",
     "status": "completed"
    },
    "tags": []
   },
   "outputs": [
    {
     "data": {
      "image/png": "[encoded data removed]",
      "text/plain": [
       "<Figure size 777.6x216 with 3 Axes>"
      ]
     },
     "metadata": {
      "needs_background": "light"
     },
     "output_type": "display_data"
    }
   ],
   "source": [
    "g = sns.catplot(x = \"algorithm\", y = \"val\", data = pltData, kind=\"bar\", col = \"metric\", aspect=1.2, height=3, sharey=False)"
   ]
  },
  {
   "cell_type": "markdown",
   "metadata": {
    "papermill": {
     "duration": 0.021049,
     "end_time": "2020-06-08T19:21:17.930913",
     "exception": false,
     "start_time": "2020-06-08T19:21:17.909864",
     "status": "completed"
    },
    "tags": []
   },
   "source": [
    "### Statistical Testing"
   ]
  },
  {
   "cell_type": "markdown",
   "metadata": {
    "papermill": {
     "duration": 0.021002,
     "end_time": "2020-06-08T19:21:17.974359",
     "exception": false,
     "start_time": "2020-06-08T19:21:17.953357",
     "status": "completed"
    },
    "tags": []
   },
   "source": [
    "We will now examine these metrics in more detail and test for statistical significance.  Best practice for statistical testing for recommender systems is still a work in progress, but this method avoids most of the validity problems we know about.\n",
    "\n",
    "The Friedman $\\chi^2$ test will test the null hypothesis that there is no difference between algorithms in terms of their performance."
   ]
  },
  {
   "cell_type": "code",
   "execution_count": 17,
   "metadata": {
    "execution": {
     "iopub.execute_input": "2020-06-08T19:21:18.019938Z",
     "iopub.status.busy": "2020-06-08T19:21:18.019505Z",
     "iopub.status.idle": "2020-06-08T19:21:18.021404Z",
     "shell.execute_reply": "2020-06-08T19:21:18.021007Z"
    },
    "papermill": {
     "duration": 0.026646,
     "end_time": "2020-06-08T19:21:18.021488",
     "exception": false,
     "start_time": "2020-06-08T19:21:17.994842",
     "status": "completed"
    },
    "tags": []
   },
   "outputs": [],
   "source": [
    "def metric_friedman(metric):\n",
    "    groups = [df[metric] for a, df in results.groupby('algorithm')]\n",
    "\n",
    "    stat, p = friedmanchisquare(*groups)\n",
    "    return pd.Series({'stat': stat, 'p': p}, name=metric)"
   ]
  },
  {
   "cell_type": "markdown",
   "metadata": {
    "papermill": {
     "duration": 0.021043,
     "end_time": "2020-06-08T19:21:18.063049",
     "exception": false,
     "start_time": "2020-06-08T19:21:18.042006",
     "status": "completed"
    },
    "tags": []
   },
   "source": [
    "If the test detects significance, we have at least one pair of different algorithms - but which pairs?  Unfortunately, the good tests aren't readily available in scipy and friends, so we're going to take a conservative approch and perform pairwise Wilconxon signed-rank tests with a Bonferroni adjustment."
   ]
  },
  {
   "cell_type": "code",
   "execution_count": 18,
   "metadata": {
    "execution": {
     "iopub.execute_input": "2020-06-08T19:21:18.111274Z",
     "iopub.status.busy": "2020-06-08T19:21:18.110839Z",
     "iopub.status.idle": "2020-06-08T19:21:18.112581Z",
     "shell.execute_reply": "2020-06-08T19:21:18.112930Z"
    },
    "papermill": {
     "duration": 0.02895,
     "end_time": "2020-06-08T19:21:18.113045",
     "exception": false,
     "start_time": "2020-06-08T19:21:18.084095",
     "status": "completed"
    },
    "tags": []
   },
   "outputs": [],
   "source": [
    "pairs = pd.DataFrame.from_records(combinations(rec_algos, 2), columns=['A1', 'A2'])\n",
    "def am_wilcox(metric, p_scale = len(pairs)):\n",
    "    def compute(df):\n",
    "        vs1 = results.loc[df['A1'], metric]\n",
    "        vs2 = results.loc[df['A2'], metric]\n",
    "        diff = (vs1 - vs2).mean()\n",
    "        stat, p = wilcoxon(vs1, vs2)\n",
    "        return pd.Series({'diff': diff, 'stat': stat, 'p': p, 'adj_p': p * p_scale})\n",
    "    scores = pairs.apply(compute, axis=1)\n",
    "    return pairs.join(scores)"
   ]
  },
  {
   "cell_type": "markdown",
   "metadata": {
    "papermill": {
     "duration": 0.020468,
     "end_time": "2020-06-08T19:21:18.154564",
     "exception": false,
     "start_time": "2020-06-08T19:21:18.134096",
     "status": "completed"
    },
    "tags": []
   },
   "source": [
    "## Precision"
   ]
  },
  {
   "cell_type": "code",
   "execution_count": 19,
   "metadata": {
    "execution": {
     "iopub.execute_input": "2020-06-08T19:21:18.200107Z",
     "iopub.status.busy": "2020-06-08T19:21:18.199639Z",
     "iopub.status.idle": "2020-06-08T19:21:23.374851Z",
     "shell.execute_reply": "2020-06-08T19:21:23.374458Z"
    },
    "papermill": {
     "duration": 5.1997,
     "end_time": "2020-06-08T19:21:23.374929",
     "exception": false,
     "start_time": "2020-06-08T19:21:18.175229",
     "status": "completed"
    },
    "tags": []
   },
   "outputs": [
    {
     "data": {
      "text/plain": [
       "stat    275297.245167\n",
       "p            0.000000\n",
       "Name: precision, dtype: float64"
      ]
     },
     "execution_count": 19,
     "metadata": {},
     "output_type": "execute_result"
    }
   ],
   "source": [
    "metric_friedman('precision')"
   ]
  },
  {
   "cell_type": "markdown",
   "metadata": {
    "papermill": {
     "duration": 0.020966,
     "end_time": "2020-06-08T19:21:23.416670",
     "exception": false,
     "start_time": "2020-06-08T19:21:23.395704",
     "status": "completed"
    },
    "tags": []
   },
   "source": [
    "This indicates a statistically significant difference exists - but where is it?\n",
    "\n",
    "To answer that question, we need a post-hoc test. "
   ]
  },
  {
   "cell_type": "code",
   "execution_count": 20,
   "metadata": {
    "execution": {
     "iopub.execute_input": "2020-06-08T19:21:23.462465Z",
     "iopub.status.busy": "2020-06-08T19:21:23.461920Z",
     "iopub.status.idle": "2020-06-08T19:21:23.737376Z",
     "shell.execute_reply": "2020-06-08T19:21:23.737713Z"
    },
    "papermill": {
     "duration": 0.299737,
     "end_time": "2020-06-08T19:21:23.737816",
     "exception": false,
     "start_time": "2020-06-08T19:21:23.438079",
     "status": "completed"
    },
    "tags": []
   },
   "outputs": [
    {
     "data": {
      "text/html": [
       "<div>\n",
       "<style scoped>\n",
       "    .dataframe tbody tr th:only-of-type {\n",
       "        vertical-align: middle;\n",
       "    }\n",
       "\n",
       "    .dataframe tbody tr th {\n",
       "        vertical-align: top;\n",
       "    }\n",
       "\n",
       "    .dataframe thead th {\n",
       "        text-align: right;\n",
       "    }\n",
       "</style>\n",
       "<table border=\"1\" class=\"dataframe\">\n",
       "  <thead>\n",
       "    <tr style=\"text-align: right;\">\n",
       "      <th></th>\n",
       "      <th>A1</th>\n",
       "      <th>A2</th>\n",
       "      <th>diff</th>\n",
       "      <th>stat</th>\n",
       "      <th>p</th>\n",
       "      <th>adj_p</th>\n",
       "    </tr>\n",
       "  </thead>\n",
       "  <tbody>\n",
       "    <tr>\n",
       "      <th>21</th>\n",
       "      <td>IALS</td>\n",
       "      <td>UU</td>\n",
       "      <td>0.026933</td>\n",
       "      <td>8143088.5</td>\n",
       "      <td>0.000000e+00</td>\n",
       "      <td>0.000000e+00</td>\n",
       "    </tr>\n",
       "    <tr>\n",
       "      <th>18</th>\n",
       "      <td>IALS</td>\n",
       "      <td>II</td>\n",
       "      <td>0.026572</td>\n",
       "      <td>12101879.5</td>\n",
       "      <td>0.000000e+00</td>\n",
       "      <td>0.000000e+00</td>\n",
       "    </tr>\n",
       "    <tr>\n",
       "      <th>17</th>\n",
       "      <td>BPR</td>\n",
       "      <td>UU</td>\n",
       "      <td>0.021172</td>\n",
       "      <td>6878685.5</td>\n",
       "      <td>0.000000e+00</td>\n",
       "      <td>0.000000e+00</td>\n",
       "    </tr>\n",
       "    <tr>\n",
       "      <th>14</th>\n",
       "      <td>BPR</td>\n",
       "      <td>II</td>\n",
       "      <td>0.020811</td>\n",
       "      <td>14165107.0</td>\n",
       "      <td>0.000000e+00</td>\n",
       "      <td>0.000000e+00</td>\n",
       "    </tr>\n",
       "    <tr>\n",
       "      <th>20</th>\n",
       "      <td>IALS</td>\n",
       "      <td>TFMF</td>\n",
       "      <td>0.018406</td>\n",
       "      <td>75591633.5</td>\n",
       "      <td>0.000000e+00</td>\n",
       "      <td>0.000000e+00</td>\n",
       "    </tr>\n",
       "    <tr>\n",
       "      <th>26</th>\n",
       "      <td>Pop</td>\n",
       "      <td>UU</td>\n",
       "      <td>0.015633</td>\n",
       "      <td>15959052.5</td>\n",
       "      <td>0.000000e+00</td>\n",
       "      <td>0.000000e+00</td>\n",
       "    </tr>\n",
       "    <tr>\n",
       "      <th>16</th>\n",
       "      <td>BPR</td>\n",
       "      <td>TFMF</td>\n",
       "      <td>0.012645</td>\n",
       "      <td>128010739.0</td>\n",
       "      <td>0.000000e+00</td>\n",
       "      <td>0.000000e+00</td>\n",
       "    </tr>\n",
       "    <tr>\n",
       "      <th>19</th>\n",
       "      <td>IALS</td>\n",
       "      <td>Pop</td>\n",
       "      <td>0.011300</td>\n",
       "      <td>145798071.5</td>\n",
       "      <td>0.000000e+00</td>\n",
       "      <td>0.000000e+00</td>\n",
       "    </tr>\n",
       "    <tr>\n",
       "      <th>27</th>\n",
       "      <td>TFMF</td>\n",
       "      <td>UU</td>\n",
       "      <td>0.008527</td>\n",
       "      <td>16773105.0</td>\n",
       "      <td>0.000000e+00</td>\n",
       "      <td>0.000000e+00</td>\n",
       "    </tr>\n",
       "    <tr>\n",
       "      <th>25</th>\n",
       "      <td>Pop</td>\n",
       "      <td>TFMF</td>\n",
       "      <td>0.007106</td>\n",
       "      <td>245996727.0</td>\n",
       "      <td>0.000000e+00</td>\n",
       "      <td>0.000000e+00</td>\n",
       "    </tr>\n",
       "    <tr>\n",
       "      <th>15</th>\n",
       "      <td>BPR</td>\n",
       "      <td>Pop</td>\n",
       "      <td>0.005539</td>\n",
       "      <td>34812026.0</td>\n",
       "      <td>0.000000e+00</td>\n",
       "      <td>0.000000e+00</td>\n",
       "    </tr>\n",
       "    <tr>\n",
       "      <th>12</th>\n",
       "      <td>Bias</td>\n",
       "      <td>UU</td>\n",
       "      <td>0.002883</td>\n",
       "      <td>33426354.5</td>\n",
       "      <td>0.000000e+00</td>\n",
       "      <td>0.000000e+00</td>\n",
       "    </tr>\n",
       "    <tr>\n",
       "      <th>6</th>\n",
       "      <td>ALS</td>\n",
       "      <td>UU</td>\n",
       "      <td>0.002733</td>\n",
       "      <td>26432502.5</td>\n",
       "      <td>0.000000e+00</td>\n",
       "      <td>0.000000e+00</td>\n",
       "    </tr>\n",
       "    <tr>\n",
       "      <th>9</th>\n",
       "      <td>Bias</td>\n",
       "      <td>II</td>\n",
       "      <td>0.002522</td>\n",
       "      <td>39971546.5</td>\n",
       "      <td>0.000000e+00</td>\n",
       "      <td>0.000000e+00</td>\n",
       "    </tr>\n",
       "    <tr>\n",
       "      <th>3</th>\n",
       "      <td>ALS</td>\n",
       "      <td>II</td>\n",
       "      <td>0.002372</td>\n",
       "      <td>25459333.0</td>\n",
       "      <td>0.000000e+00</td>\n",
       "      <td>0.000000e+00</td>\n",
       "    </tr>\n",
       "    <tr>\n",
       "      <th>24</th>\n",
       "      <td>II</td>\n",
       "      <td>UU</td>\n",
       "      <td>0.000361</td>\n",
       "      <td>43070637.0</td>\n",
       "      <td>6.369928e-65</td>\n",
       "      <td>1.783580e-63</td>\n",
       "    </tr>\n",
       "    <tr>\n",
       "      <th>0</th>\n",
       "      <td>ALS</td>\n",
       "      <td>Bias</td>\n",
       "      <td>-0.000150</td>\n",
       "      <td>55889278.5</td>\n",
       "      <td>5.498928e-14</td>\n",
       "      <td>1.539700e-12</td>\n",
       "    </tr>\n",
       "    <tr>\n",
       "      <th>11</th>\n",
       "      <td>Bias</td>\n",
       "      <td>TFMF</td>\n",
       "      <td>-0.005644</td>\n",
       "      <td>89501075.5</td>\n",
       "      <td>0.000000e+00</td>\n",
       "      <td>0.000000e+00</td>\n",
       "    </tr>\n",
       "    <tr>\n",
       "      <th>13</th>\n",
       "      <td>BPR</td>\n",
       "      <td>IALS</td>\n",
       "      <td>-0.005761</td>\n",
       "      <td>225266428.0</td>\n",
       "      <td>0.000000e+00</td>\n",
       "      <td>0.000000e+00</td>\n",
       "    </tr>\n",
       "    <tr>\n",
       "      <th>5</th>\n",
       "      <td>ALS</td>\n",
       "      <td>TFMF</td>\n",
       "      <td>-0.005794</td>\n",
       "      <td>41011315.5</td>\n",
       "      <td>0.000000e+00</td>\n",
       "      <td>0.000000e+00</td>\n",
       "    </tr>\n",
       "    <tr>\n",
       "      <th>23</th>\n",
       "      <td>II</td>\n",
       "      <td>TFMF</td>\n",
       "      <td>-0.008166</td>\n",
       "      <td>15383991.0</td>\n",
       "      <td>0.000000e+00</td>\n",
       "      <td>0.000000e+00</td>\n",
       "    </tr>\n",
       "    <tr>\n",
       "      <th>10</th>\n",
       "      <td>Bias</td>\n",
       "      <td>Pop</td>\n",
       "      <td>-0.012750</td>\n",
       "      <td>71426085.0</td>\n",
       "      <td>0.000000e+00</td>\n",
       "      <td>0.000000e+00</td>\n",
       "    </tr>\n",
       "    <tr>\n",
       "      <th>4</th>\n",
       "      <td>ALS</td>\n",
       "      <td>Pop</td>\n",
       "      <td>-0.012900</td>\n",
       "      <td>68348713.0</td>\n",
       "      <td>0.000000e+00</td>\n",
       "      <td>0.000000e+00</td>\n",
       "    </tr>\n",
       "    <tr>\n",
       "      <th>22</th>\n",
       "      <td>II</td>\n",
       "      <td>Pop</td>\n",
       "      <td>-0.015271</td>\n",
       "      <td>34953854.0</td>\n",
       "      <td>0.000000e+00</td>\n",
       "      <td>0.000000e+00</td>\n",
       "    </tr>\n",
       "    <tr>\n",
       "      <th>7</th>\n",
       "      <td>Bias</td>\n",
       "      <td>BPR</td>\n",
       "      <td>-0.018289</td>\n",
       "      <td>36059376.5</td>\n",
       "      <td>0.000000e+00</td>\n",
       "      <td>0.000000e+00</td>\n",
       "    </tr>\n",
       "    <tr>\n",
       "      <th>1</th>\n",
       "      <td>ALS</td>\n",
       "      <td>BPR</td>\n",
       "      <td>-0.018439</td>\n",
       "      <td>32862190.5</td>\n",
       "      <td>0.000000e+00</td>\n",
       "      <td>0.000000e+00</td>\n",
       "    </tr>\n",
       "    <tr>\n",
       "      <th>8</th>\n",
       "      <td>Bias</td>\n",
       "      <td>IALS</td>\n",
       "      <td>-0.024050</td>\n",
       "      <td>24705334.0</td>\n",
       "      <td>0.000000e+00</td>\n",
       "      <td>0.000000e+00</td>\n",
       "    </tr>\n",
       "    <tr>\n",
       "      <th>2</th>\n",
       "      <td>ALS</td>\n",
       "      <td>IALS</td>\n",
       "      <td>-0.024200</td>\n",
       "      <td>22486012.5</td>\n",
       "      <td>0.000000e+00</td>\n",
       "      <td>0.000000e+00</td>\n",
       "    </tr>\n",
       "  </tbody>\n",
       "</table>\n",
       "</div>"
      ],
      "text/plain": [
       "      A1    A2      diff         stat             p         adj_p\n",
       "21  IALS    UU  0.026933    8143088.5  0.000000e+00  0.000000e+00\n",
       "18  IALS    II  0.026572   12101879.5  0.000000e+00  0.000000e+00\n",
       "17   BPR    UU  0.021172    6878685.5  0.000000e+00  0.000000e+00\n",
       "14   BPR    II  0.020811   14165107.0  0.000000e+00  0.000000e+00\n",
       "20  IALS  TFMF  0.018406   75591633.5  0.000000e+00  0.000000e+00\n",
       "26   Pop    UU  0.015633   15959052.5  0.000000e+00  0.000000e+00\n",
       "16   BPR  TFMF  0.012645  128010739.0  0.000000e+00  0.000000e+00\n",
       "19  IALS   Pop  0.011300  145798071.5  0.000000e+00  0.000000e+00\n",
       "27  TFMF    UU  0.008527   16773105.0  0.000000e+00  0.000000e+00\n",
       "25   Pop  TFMF  0.007106  245996727.0  0.000000e+00  0.000000e+00\n",
       "15   BPR   Pop  0.005539   34812026.0  0.000000e+00  0.000000e+00\n",
       "12  Bias    UU  0.002883   33426354.5  0.000000e+00  0.000000e+00\n",
       "6    ALS    UU  0.002733   26432502.5  0.000000e+00  0.000000e+00\n",
       "9   Bias    II  0.002522   39971546.5  0.000000e+00  0.000000e+00\n",
       "3    ALS    II  0.002372   25459333.0  0.000000e+00  0.000000e+00\n",
       "24    II    UU  0.000361   43070637.0  6.369928e-65  1.783580e-63\n",
       "0    ALS  Bias -0.000150   55889278.5  5.498928e-14  1.539700e-12\n",
       "11  Bias  TFMF -0.005644   89501075.5  0.000000e+00  0.000000e+00\n",
       "13   BPR  IALS -0.005761  225266428.0  0.000000e+00  0.000000e+00\n",
       "5    ALS  TFMF -0.005794   41011315.5  0.000000e+00  0.000000e+00\n",
       "23    II  TFMF -0.008166   15383991.0  0.000000e+00  0.000000e+00\n",
       "10  Bias   Pop -0.012750   71426085.0  0.000000e+00  0.000000e+00\n",
       "4    ALS   Pop -0.012900   68348713.0  0.000000e+00  0.000000e+00\n",
       "22    II   Pop -0.015271   34953854.0  0.000000e+00  0.000000e+00\n",
       "7   Bias   BPR -0.018289   36059376.5  0.000000e+00  0.000000e+00\n",
       "1    ALS   BPR -0.018439   32862190.5  0.000000e+00  0.000000e+00\n",
       "8   Bias  IALS -0.024050   24705334.0  0.000000e+00  0.000000e+00\n",
       "2    ALS  IALS -0.024200   22486012.5  0.000000e+00  0.000000e+00"
      ]
     },
     "execution_count": 20,
     "metadata": {},
     "output_type": "execute_result"
    }
   ],
   "source": [
    "am_wilcox('precision').sort_values('diff', ascending=False)"
   ]
  },
  {
   "cell_type": "markdown",
   "metadata": {
    "papermill": {
     "duration": 0.021365,
     "end_time": "2020-06-08T19:21:23.781912",
     "exception": false,
     "start_time": "2020-06-08T19:21:23.760547",
     "status": "completed"
    },
    "tags": []
   },
   "source": [
    "We can consider pairs with an adjusted $p$ value less than 0.05 (5.0e-2) to be statistically significant.  However, we have so many data points, the substance of significance is questionable.  Pay attention to the 'diff' column, which is the difference between A1 and A2 (how much A1 outperforms A2)."
   ]
  },
  {
   "cell_type": "markdown",
   "metadata": {
    "papermill": {
     "duration": 0.021441,
     "end_time": "2020-06-08T19:21:23.824954",
     "exception": false,
     "start_time": "2020-06-08T19:21:23.803513",
     "status": "completed"
    },
    "tags": []
   },
   "source": [
    "### nDCG"
   ]
  },
  {
   "cell_type": "markdown",
   "metadata": {
    "papermill": {
     "duration": 0.021522,
     "end_time": "2020-06-08T19:21:23.868101",
     "exception": false,
     "start_time": "2020-06-08T19:21:23.846579",
     "status": "completed"
    },
    "tags": []
   },
   "source": [
    "Now let's do the same for nDCG:"
   ]
  },
  {
   "cell_type": "code",
   "execution_count": 21,
   "metadata": {
    "execution": {
     "iopub.execute_input": "2020-06-08T19:21:23.914022Z",
     "iopub.status.busy": "2020-06-08T19:21:23.913579Z",
     "iopub.status.idle": "2020-06-08T19:21:29.044705Z",
     "shell.execute_reply": "2020-06-08T19:21:29.045052Z"
    },
    "papermill": {
     "duration": 5.155638,
     "end_time": "2020-06-08T19:21:29.045154",
     "exception": false,
     "start_time": "2020-06-08T19:21:23.889516",
     "status": "completed"
    },
    "tags": []
   },
   "outputs": [
    {
     "data": {
      "text/plain": [
       "stat    242147.998454\n",
       "p            0.000000\n",
       "Name: ndcg, dtype: float64"
      ]
     },
     "execution_count": 21,
     "metadata": {},
     "output_type": "execute_result"
    }
   ],
   "source": [
    "metric_friedman('ndcg')"
   ]
  },
  {
   "cell_type": "code",
   "execution_count": 22,
   "metadata": {
    "execution": {
     "iopub.execute_input": "2020-06-08T19:21:29.093264Z",
     "iopub.status.busy": "2020-06-08T19:21:29.092833Z",
     "iopub.status.idle": "2020-06-08T19:21:29.478112Z",
     "shell.execute_reply": "2020-06-08T19:21:29.477665Z"
    },
    "papermill": {
     "duration": 0.41113,
     "end_time": "2020-06-08T19:21:29.478197",
     "exception": false,
     "start_time": "2020-06-08T19:21:29.067067",
     "status": "completed"
    },
    "tags": []
   },
   "outputs": [
    {
     "data": {
      "text/html": [
       "<div>\n",
       "<style scoped>\n",
       "    .dataframe tbody tr th:only-of-type {\n",
       "        vertical-align: middle;\n",
       "    }\n",
       "\n",
       "    .dataframe tbody tr th {\n",
       "        vertical-align: top;\n",
       "    }\n",
       "\n",
       "    .dataframe thead th {\n",
       "        text-align: right;\n",
       "    }\n",
       "</style>\n",
       "<table border=\"1\" class=\"dataframe\">\n",
       "  <thead>\n",
       "    <tr style=\"text-align: right;\">\n",
       "      <th></th>\n",
       "      <th>A1</th>\n",
       "      <th>A2</th>\n",
       "      <th>diff</th>\n",
       "      <th>stat</th>\n",
       "      <th>p</th>\n",
       "      <th>adj_p</th>\n",
       "    </tr>\n",
       "  </thead>\n",
       "  <tbody>\n",
       "    <tr>\n",
       "      <th>21</th>\n",
       "      <td>IALS</td>\n",
       "      <td>UU</td>\n",
       "      <td>0.219329</td>\n",
       "      <td>13175933.5</td>\n",
       "      <td>0.000000e+00</td>\n",
       "      <td>0.000000e+00</td>\n",
       "    </tr>\n",
       "    <tr>\n",
       "      <th>18</th>\n",
       "      <td>IALS</td>\n",
       "      <td>II</td>\n",
       "      <td>0.215919</td>\n",
       "      <td>26406016.0</td>\n",
       "      <td>0.000000e+00</td>\n",
       "      <td>0.000000e+00</td>\n",
       "    </tr>\n",
       "    <tr>\n",
       "      <th>17</th>\n",
       "      <td>BPR</td>\n",
       "      <td>UU</td>\n",
       "      <td>0.194342</td>\n",
       "      <td>7161860.0</td>\n",
       "      <td>0.000000e+00</td>\n",
       "      <td>0.000000e+00</td>\n",
       "    </tr>\n",
       "    <tr>\n",
       "      <th>14</th>\n",
       "      <td>BPR</td>\n",
       "      <td>II</td>\n",
       "      <td>0.190932</td>\n",
       "      <td>19539579.5</td>\n",
       "      <td>0.000000e+00</td>\n",
       "      <td>0.000000e+00</td>\n",
       "    </tr>\n",
       "    <tr>\n",
       "      <th>26</th>\n",
       "      <td>Pop</td>\n",
       "      <td>UU</td>\n",
       "      <td>0.141541</td>\n",
       "      <td>17965074.5</td>\n",
       "      <td>0.000000e+00</td>\n",
       "      <td>0.000000e+00</td>\n",
       "    </tr>\n",
       "    <tr>\n",
       "      <th>20</th>\n",
       "      <td>IALS</td>\n",
       "      <td>TFMF</td>\n",
       "      <td>0.126779</td>\n",
       "      <td>380276967.5</td>\n",
       "      <td>0.000000e+00</td>\n",
       "      <td>0.000000e+00</td>\n",
       "    </tr>\n",
       "    <tr>\n",
       "      <th>16</th>\n",
       "      <td>BPR</td>\n",
       "      <td>TFMF</td>\n",
       "      <td>0.101793</td>\n",
       "      <td>401317615.5</td>\n",
       "      <td>0.000000e+00</td>\n",
       "      <td>0.000000e+00</td>\n",
       "    </tr>\n",
       "    <tr>\n",
       "      <th>27</th>\n",
       "      <td>TFMF</td>\n",
       "      <td>UU</td>\n",
       "      <td>0.092549</td>\n",
       "      <td>13431076.5</td>\n",
       "      <td>0.000000e+00</td>\n",
       "      <td>0.000000e+00</td>\n",
       "    </tr>\n",
       "    <tr>\n",
       "      <th>19</th>\n",
       "      <td>IALS</td>\n",
       "      <td>Pop</td>\n",
       "      <td>0.077787</td>\n",
       "      <td>598344118.5</td>\n",
       "      <td>0.000000e+00</td>\n",
       "      <td>0.000000e+00</td>\n",
       "    </tr>\n",
       "    <tr>\n",
       "      <th>15</th>\n",
       "      <td>BPR</td>\n",
       "      <td>Pop</td>\n",
       "      <td>0.052801</td>\n",
       "      <td>235205863.0</td>\n",
       "      <td>0.000000e+00</td>\n",
       "      <td>0.000000e+00</td>\n",
       "    </tr>\n",
       "    <tr>\n",
       "      <th>25</th>\n",
       "      <td>Pop</td>\n",
       "      <td>TFMF</td>\n",
       "      <td>0.048992</td>\n",
       "      <td>615850092.0</td>\n",
       "      <td>0.000000e+00</td>\n",
       "      <td>0.000000e+00</td>\n",
       "    </tr>\n",
       "    <tr>\n",
       "      <th>12</th>\n",
       "      <td>Bias</td>\n",
       "      <td>UU</td>\n",
       "      <td>0.036135</td>\n",
       "      <td>43743230.0</td>\n",
       "      <td>0.000000e+00</td>\n",
       "      <td>0.000000e+00</td>\n",
       "    </tr>\n",
       "    <tr>\n",
       "      <th>9</th>\n",
       "      <td>Bias</td>\n",
       "      <td>II</td>\n",
       "      <td>0.032725</td>\n",
       "      <td>56847125.5</td>\n",
       "      <td>0.000000e+00</td>\n",
       "      <td>0.000000e+00</td>\n",
       "    </tr>\n",
       "    <tr>\n",
       "      <th>6</th>\n",
       "      <td>ALS</td>\n",
       "      <td>UU</td>\n",
       "      <td>0.031764</td>\n",
       "      <td>32590236.0</td>\n",
       "      <td>0.000000e+00</td>\n",
       "      <td>0.000000e+00</td>\n",
       "    </tr>\n",
       "    <tr>\n",
       "      <th>3</th>\n",
       "      <td>ALS</td>\n",
       "      <td>II</td>\n",
       "      <td>0.028354</td>\n",
       "      <td>37140866.0</td>\n",
       "      <td>0.000000e+00</td>\n",
       "      <td>0.000000e+00</td>\n",
       "    </tr>\n",
       "    <tr>\n",
       "      <th>24</th>\n",
       "      <td>II</td>\n",
       "      <td>UU</td>\n",
       "      <td>0.003410</td>\n",
       "      <td>66710711.0</td>\n",
       "      <td>6.103018e-114</td>\n",
       "      <td>1.708845e-112</td>\n",
       "    </tr>\n",
       "    <tr>\n",
       "      <th>0</th>\n",
       "      <td>ALS</td>\n",
       "      <td>Bias</td>\n",
       "      <td>-0.004372</td>\n",
       "      <td>199693074.0</td>\n",
       "      <td>1.212378e-20</td>\n",
       "      <td>3.394659e-19</td>\n",
       "    </tr>\n",
       "    <tr>\n",
       "      <th>13</th>\n",
       "      <td>BPR</td>\n",
       "      <td>IALS</td>\n",
       "      <td>-0.024987</td>\n",
       "      <td>964246397.5</td>\n",
       "      <td>4.656920e-309</td>\n",
       "      <td>1.303938e-307</td>\n",
       "    </tr>\n",
       "    <tr>\n",
       "      <th>11</th>\n",
       "      <td>Bias</td>\n",
       "      <td>TFMF</td>\n",
       "      <td>-0.056414</td>\n",
       "      <td>203709758.0</td>\n",
       "      <td>0.000000e+00</td>\n",
       "      <td>0.000000e+00</td>\n",
       "    </tr>\n",
       "    <tr>\n",
       "      <th>5</th>\n",
       "      <td>ALS</td>\n",
       "      <td>TFMF</td>\n",
       "      <td>-0.060786</td>\n",
       "      <td>105208103.5</td>\n",
       "      <td>0.000000e+00</td>\n",
       "      <td>0.000000e+00</td>\n",
       "    </tr>\n",
       "    <tr>\n",
       "      <th>23</th>\n",
       "      <td>II</td>\n",
       "      <td>TFMF</td>\n",
       "      <td>-0.089139</td>\n",
       "      <td>15313788.5</td>\n",
       "      <td>0.000000e+00</td>\n",
       "      <td>0.000000e+00</td>\n",
       "    </tr>\n",
       "    <tr>\n",
       "      <th>10</th>\n",
       "      <td>Bias</td>\n",
       "      <td>Pop</td>\n",
       "      <td>-0.105406</td>\n",
       "      <td>202655231.0</td>\n",
       "      <td>0.000000e+00</td>\n",
       "      <td>0.000000e+00</td>\n",
       "    </tr>\n",
       "    <tr>\n",
       "      <th>4</th>\n",
       "      <td>ALS</td>\n",
       "      <td>Pop</td>\n",
       "      <td>-0.109777</td>\n",
       "      <td>169486344.5</td>\n",
       "      <td>0.000000e+00</td>\n",
       "      <td>0.000000e+00</td>\n",
       "    </tr>\n",
       "    <tr>\n",
       "      <th>22</th>\n",
       "      <td>II</td>\n",
       "      <td>Pop</td>\n",
       "      <td>-0.138131</td>\n",
       "      <td>47164383.5</td>\n",
       "      <td>0.000000e+00</td>\n",
       "      <td>0.000000e+00</td>\n",
       "    </tr>\n",
       "    <tr>\n",
       "      <th>7</th>\n",
       "      <td>Bias</td>\n",
       "      <td>BPR</td>\n",
       "      <td>-0.158207</td>\n",
       "      <td>130167649.5</td>\n",
       "      <td>0.000000e+00</td>\n",
       "      <td>0.000000e+00</td>\n",
       "    </tr>\n",
       "    <tr>\n",
       "      <th>1</th>\n",
       "      <td>ALS</td>\n",
       "      <td>BPR</td>\n",
       "      <td>-0.162578</td>\n",
       "      <td>100424523.5</td>\n",
       "      <td>0.000000e+00</td>\n",
       "      <td>0.000000e+00</td>\n",
       "    </tr>\n",
       "    <tr>\n",
       "      <th>8</th>\n",
       "      <td>Bias</td>\n",
       "      <td>IALS</td>\n",
       "      <td>-0.183193</td>\n",
       "      <td>137873841.5</td>\n",
       "      <td>0.000000e+00</td>\n",
       "      <td>0.000000e+00</td>\n",
       "    </tr>\n",
       "    <tr>\n",
       "      <th>2</th>\n",
       "      <td>ALS</td>\n",
       "      <td>IALS</td>\n",
       "      <td>-0.187565</td>\n",
       "      <td>114186799.0</td>\n",
       "      <td>0.000000e+00</td>\n",
       "      <td>0.000000e+00</td>\n",
       "    </tr>\n",
       "  </tbody>\n",
       "</table>\n",
       "</div>"
      ],
      "text/plain": [
       "      A1    A2      diff         stat              p          adj_p\n",
       "21  IALS    UU  0.219329   13175933.5   0.000000e+00   0.000000e+00\n",
       "18  IALS    II  0.215919   26406016.0   0.000000e+00   0.000000e+00\n",
       "17   BPR    UU  0.194342    7161860.0   0.000000e+00   0.000000e+00\n",
       "14   BPR    II  0.190932   19539579.5   0.000000e+00   0.000000e+00\n",
       "26   Pop    UU  0.141541   17965074.5   0.000000e+00   0.000000e+00\n",
       "20  IALS  TFMF  0.126779  380276967.5   0.000000e+00   0.000000e+00\n",
       "16   BPR  TFMF  0.101793  401317615.5   0.000000e+00   0.000000e+00\n",
       "27  TFMF    UU  0.092549   13431076.5   0.000000e+00   0.000000e+00\n",
       "19  IALS   Pop  0.077787  598344118.5   0.000000e+00   0.000000e+00\n",
       "15   BPR   Pop  0.052801  235205863.0   0.000000e+00   0.000000e+00\n",
       "25   Pop  TFMF  0.048992  615850092.0   0.000000e+00   0.000000e+00\n",
       "12  Bias    UU  0.036135   43743230.0   0.000000e+00   0.000000e+00\n",
       "9   Bias    II  0.032725   56847125.5   0.000000e+00   0.000000e+00\n",
       "6    ALS    UU  0.031764   32590236.0   0.000000e+00   0.000000e+00\n",
       "3    ALS    II  0.028354   37140866.0   0.000000e+00   0.000000e+00\n",
       "24    II    UU  0.003410   66710711.0  6.103018e-114  1.708845e-112\n",
       "0    ALS  Bias -0.004372  199693074.0   1.212378e-20   3.394659e-19\n",
       "13   BPR  IALS -0.024987  964246397.5  4.656920e-309  1.303938e-307\n",
       "11  Bias  TFMF -0.056414  203709758.0   0.000000e+00   0.000000e+00\n",
       "5    ALS  TFMF -0.060786  105208103.5   0.000000e+00   0.000000e+00\n",
       "23    II  TFMF -0.089139   15313788.5   0.000000e+00   0.000000e+00\n",
       "10  Bias   Pop -0.105406  202655231.0   0.000000e+00   0.000000e+00\n",
       "4    ALS   Pop -0.109777  169486344.5   0.000000e+00   0.000000e+00\n",
       "22    II   Pop -0.138131   47164383.5   0.000000e+00   0.000000e+00\n",
       "7   Bias   BPR -0.158207  130167649.5   0.000000e+00   0.000000e+00\n",
       "1    ALS   BPR -0.162578  100424523.5   0.000000e+00   0.000000e+00\n",
       "8   Bias  IALS -0.183193  137873841.5   0.000000e+00   0.000000e+00\n",
       "2    ALS  IALS -0.187565  114186799.0   0.000000e+00   0.000000e+00"
      ]
     },
     "execution_count": 22,
     "metadata": {},
     "output_type": "execute_result"
    }
   ],
   "source": [
    "am_wilcox('ndcg').sort_values('diff', ascending=False)"
   ]
  },
  {
   "cell_type": "markdown",
   "metadata": {
    "papermill": {
     "duration": 0.022613,
     "end_time": "2020-06-08T19:21:29.523558",
     "exception": false,
     "start_time": "2020-06-08T19:21:29.500945",
     "status": "completed"
    },
    "tags": []
   },
   "source": [
    "### Reciprocal Rank\n",
    "\n",
    "We'll do this also for reciprocal rank (what is aggregated to compute MRR):"
   ]
  },
  {
   "cell_type": "code",
   "execution_count": 23,
   "metadata": {
    "execution": {
     "iopub.execute_input": "2020-06-08T19:21:29.572869Z",
     "iopub.status.busy": "2020-06-08T19:21:29.572449Z",
     "iopub.status.idle": "2020-06-08T19:21:34.671519Z",
     "shell.execute_reply": "2020-06-08T19:21:34.671863Z"
    },
    "papermill": {
     "duration": 5.126393,
     "end_time": "2020-06-08T19:21:34.671984",
     "exception": false,
     "start_time": "2020-06-08T19:21:29.545591",
     "status": "completed"
    },
    "tags": []
   },
   "outputs": [
    {
     "data": {
      "text/plain": [
       "stat    214952.147689\n",
       "p            0.000000\n",
       "Name: recip_rank, dtype: float64"
      ]
     },
     "execution_count": 23,
     "metadata": {},
     "output_type": "execute_result"
    }
   ],
   "source": [
    "metric_friedman('recip_rank')"
   ]
  },
  {
   "cell_type": "code",
   "execution_count": 24,
   "metadata": {
    "execution": {
     "iopub.execute_input": "2020-06-08T19:21:34.721650Z",
     "iopub.status.busy": "2020-06-08T19:21:34.721228Z",
     "iopub.status.idle": "2020-06-08T19:21:35.037955Z",
     "shell.execute_reply": "2020-06-08T19:21:35.038304Z"
    },
    "papermill": {
     "duration": 0.343428,
     "end_time": "2020-06-08T19:21:35.038412",
     "exception": false,
     "start_time": "2020-06-08T19:21:34.694984",
     "status": "completed"
    },
    "tags": []
   },
   "outputs": [
    {
     "data": {
      "text/html": [
       "<div>\n",
       "<style scoped>\n",
       "    .dataframe tbody tr th:only-of-type {\n",
       "        vertical-align: middle;\n",
       "    }\n",
       "\n",
       "    .dataframe tbody tr th {\n",
       "        vertical-align: top;\n",
       "    }\n",
       "\n",
       "    .dataframe thead th {\n",
       "        text-align: right;\n",
       "    }\n",
       "</style>\n",
       "<table border=\"1\" class=\"dataframe\">\n",
       "  <thead>\n",
       "    <tr style=\"text-align: right;\">\n",
       "      <th></th>\n",
       "      <th>A1</th>\n",
       "      <th>A2</th>\n",
       "      <th>diff</th>\n",
       "      <th>stat</th>\n",
       "      <th>p</th>\n",
       "      <th>adj_p</th>\n",
       "    </tr>\n",
       "  </thead>\n",
       "  <tbody>\n",
       "    <tr>\n",
       "      <th>17</th>\n",
       "      <td>BPR</td>\n",
       "      <td>UU</td>\n",
       "      <td>0.223449</td>\n",
       "      <td>8.919730e+06</td>\n",
       "      <td>0.000000e+00</td>\n",
       "      <td>0.000000e+00</td>\n",
       "    </tr>\n",
       "    <tr>\n",
       "      <th>14</th>\n",
       "      <td>BPR</td>\n",
       "      <td>II</td>\n",
       "      <td>0.219883</td>\n",
       "      <td>3.150835e+07</td>\n",
       "      <td>0.000000e+00</td>\n",
       "      <td>0.000000e+00</td>\n",
       "    </tr>\n",
       "    <tr>\n",
       "      <th>21</th>\n",
       "      <td>IALS</td>\n",
       "      <td>UU</td>\n",
       "      <td>0.198815</td>\n",
       "      <td>2.420826e+07</td>\n",
       "      <td>0.000000e+00</td>\n",
       "      <td>0.000000e+00</td>\n",
       "    </tr>\n",
       "    <tr>\n",
       "      <th>18</th>\n",
       "      <td>IALS</td>\n",
       "      <td>II</td>\n",
       "      <td>0.195249</td>\n",
       "      <td>6.163950e+07</td>\n",
       "      <td>0.000000e+00</td>\n",
       "      <td>0.000000e+00</td>\n",
       "    </tr>\n",
       "    <tr>\n",
       "      <th>26</th>\n",
       "      <td>Pop</td>\n",
       "      <td>UU</td>\n",
       "      <td>0.172426</td>\n",
       "      <td>1.888991e+07</td>\n",
       "      <td>0.000000e+00</td>\n",
       "      <td>0.000000e+00</td>\n",
       "    </tr>\n",
       "    <tr>\n",
       "      <th>27</th>\n",
       "      <td>TFMF</td>\n",
       "      <td>UU</td>\n",
       "      <td>0.126751</td>\n",
       "      <td>1.337687e+07</td>\n",
       "      <td>0.000000e+00</td>\n",
       "      <td>0.000000e+00</td>\n",
       "    </tr>\n",
       "    <tr>\n",
       "      <th>16</th>\n",
       "      <td>BPR</td>\n",
       "      <td>TFMF</td>\n",
       "      <td>0.096698</td>\n",
       "      <td>5.510310e+08</td>\n",
       "      <td>0.000000e+00</td>\n",
       "      <td>0.000000e+00</td>\n",
       "    </tr>\n",
       "    <tr>\n",
       "      <th>20</th>\n",
       "      <td>IALS</td>\n",
       "      <td>TFMF</td>\n",
       "      <td>0.072064</td>\n",
       "      <td>6.706402e+08</td>\n",
       "      <td>0.000000e+00</td>\n",
       "      <td>0.000000e+00</td>\n",
       "    </tr>\n",
       "    <tr>\n",
       "      <th>12</th>\n",
       "      <td>Bias</td>\n",
       "      <td>UU</td>\n",
       "      <td>0.064254</td>\n",
       "      <td>4.003629e+07</td>\n",
       "      <td>0.000000e+00</td>\n",
       "      <td>0.000000e+00</td>\n",
       "    </tr>\n",
       "    <tr>\n",
       "      <th>9</th>\n",
       "      <td>Bias</td>\n",
       "      <td>II</td>\n",
       "      <td>0.060688</td>\n",
       "      <td>5.816309e+07</td>\n",
       "      <td>0.000000e+00</td>\n",
       "      <td>0.000000e+00</td>\n",
       "    </tr>\n",
       "    <tr>\n",
       "      <th>15</th>\n",
       "      <td>BPR</td>\n",
       "      <td>Pop</td>\n",
       "      <td>0.051024</td>\n",
       "      <td>3.650139e+08</td>\n",
       "      <td>0.000000e+00</td>\n",
       "      <td>0.000000e+00</td>\n",
       "    </tr>\n",
       "    <tr>\n",
       "      <th>6</th>\n",
       "      <td>ALS</td>\n",
       "      <td>UU</td>\n",
       "      <td>0.046373</td>\n",
       "      <td>2.693056e+07</td>\n",
       "      <td>0.000000e+00</td>\n",
       "      <td>0.000000e+00</td>\n",
       "    </tr>\n",
       "    <tr>\n",
       "      <th>25</th>\n",
       "      <td>Pop</td>\n",
       "      <td>TFMF</td>\n",
       "      <td>0.045674</td>\n",
       "      <td>6.771171e+08</td>\n",
       "      <td>0.000000e+00</td>\n",
       "      <td>0.000000e+00</td>\n",
       "    </tr>\n",
       "    <tr>\n",
       "      <th>3</th>\n",
       "      <td>ALS</td>\n",
       "      <td>II</td>\n",
       "      <td>0.042807</td>\n",
       "      <td>3.669189e+07</td>\n",
       "      <td>0.000000e+00</td>\n",
       "      <td>0.000000e+00</td>\n",
       "    </tr>\n",
       "    <tr>\n",
       "      <th>19</th>\n",
       "      <td>IALS</td>\n",
       "      <td>Pop</td>\n",
       "      <td>0.026390</td>\n",
       "      <td>8.704137e+08</td>\n",
       "      <td>0.000000e+00</td>\n",
       "      <td>0.000000e+00</td>\n",
       "    </tr>\n",
       "    <tr>\n",
       "      <th>13</th>\n",
       "      <td>BPR</td>\n",
       "      <td>IALS</td>\n",
       "      <td>0.024634</td>\n",
       "      <td>1.027757e+09</td>\n",
       "      <td>5.465746e-11</td>\n",
       "      <td>1.530409e-09</td>\n",
       "    </tr>\n",
       "    <tr>\n",
       "      <th>24</th>\n",
       "      <td>II</td>\n",
       "      <td>UU</td>\n",
       "      <td>0.003566</td>\n",
       "      <td>6.086030e+07</td>\n",
       "      <td>1.859235e-207</td>\n",
       "      <td>5.205857e-206</td>\n",
       "    </tr>\n",
       "    <tr>\n",
       "      <th>0</th>\n",
       "      <td>ALS</td>\n",
       "      <td>Bias</td>\n",
       "      <td>-0.017882</td>\n",
       "      <td>1.928227e+08</td>\n",
       "      <td>2.500642e-29</td>\n",
       "      <td>7.001797e-28</td>\n",
       "    </tr>\n",
       "    <tr>\n",
       "      <th>11</th>\n",
       "      <td>Bias</td>\n",
       "      <td>TFMF</td>\n",
       "      <td>-0.062497</td>\n",
       "      <td>2.570668e+08</td>\n",
       "      <td>0.000000e+00</td>\n",
       "      <td>0.000000e+00</td>\n",
       "    </tr>\n",
       "    <tr>\n",
       "      <th>5</th>\n",
       "      <td>ALS</td>\n",
       "      <td>TFMF</td>\n",
       "      <td>-0.080378</td>\n",
       "      <td>1.561765e+08</td>\n",
       "      <td>0.000000e+00</td>\n",
       "      <td>0.000000e+00</td>\n",
       "    </tr>\n",
       "    <tr>\n",
       "      <th>10</th>\n",
       "      <td>Bias</td>\n",
       "      <td>Pop</td>\n",
       "      <td>-0.108171</td>\n",
       "      <td>3.150583e+08</td>\n",
       "      <td>0.000000e+00</td>\n",
       "      <td>0.000000e+00</td>\n",
       "    </tr>\n",
       "    <tr>\n",
       "      <th>23</th>\n",
       "      <td>II</td>\n",
       "      <td>TFMF</td>\n",
       "      <td>-0.123185</td>\n",
       "      <td>2.186808e+07</td>\n",
       "      <td>0.000000e+00</td>\n",
       "      <td>0.000000e+00</td>\n",
       "    </tr>\n",
       "    <tr>\n",
       "      <th>4</th>\n",
       "      <td>ALS</td>\n",
       "      <td>Pop</td>\n",
       "      <td>-0.126053</td>\n",
       "      <td>2.564268e+08</td>\n",
       "      <td>0.000000e+00</td>\n",
       "      <td>0.000000e+00</td>\n",
       "    </tr>\n",
       "    <tr>\n",
       "      <th>8</th>\n",
       "      <td>Bias</td>\n",
       "      <td>IALS</td>\n",
       "      <td>-0.134561</td>\n",
       "      <td>3.370403e+08</td>\n",
       "      <td>0.000000e+00</td>\n",
       "      <td>0.000000e+00</td>\n",
       "    </tr>\n",
       "    <tr>\n",
       "      <th>2</th>\n",
       "      <td>ALS</td>\n",
       "      <td>IALS</td>\n",
       "      <td>-0.152443</td>\n",
       "      <td>2.879780e+08</td>\n",
       "      <td>0.000000e+00</td>\n",
       "      <td>0.000000e+00</td>\n",
       "    </tr>\n",
       "    <tr>\n",
       "      <th>7</th>\n",
       "      <td>Bias</td>\n",
       "      <td>BPR</td>\n",
       "      <td>-0.159195</td>\n",
       "      <td>2.759137e+08</td>\n",
       "      <td>0.000000e+00</td>\n",
       "      <td>0.000000e+00</td>\n",
       "    </tr>\n",
       "    <tr>\n",
       "      <th>22</th>\n",
       "      <td>II</td>\n",
       "      <td>Pop</td>\n",
       "      <td>-0.168860</td>\n",
       "      <td>5.792457e+07</td>\n",
       "      <td>0.000000e+00</td>\n",
       "      <td>0.000000e+00</td>\n",
       "    </tr>\n",
       "    <tr>\n",
       "      <th>1</th>\n",
       "      <td>ALS</td>\n",
       "      <td>BPR</td>\n",
       "      <td>-0.177077</td>\n",
       "      <td>2.058473e+08</td>\n",
       "      <td>0.000000e+00</td>\n",
       "      <td>0.000000e+00</td>\n",
       "    </tr>\n",
       "  </tbody>\n",
       "</table>\n",
       "</div>"
      ],
      "text/plain": [
       "      A1    A2      diff          stat              p          adj_p\n",
       "17   BPR    UU  0.223449  8.919730e+06   0.000000e+00   0.000000e+00\n",
       "14   BPR    II  0.219883  3.150835e+07   0.000000e+00   0.000000e+00\n",
       "21  IALS    UU  0.198815  2.420826e+07   0.000000e+00   0.000000e+00\n",
       "18  IALS    II  0.195249  6.163950e+07   0.000000e+00   0.000000e+00\n",
       "26   Pop    UU  0.172426  1.888991e+07   0.000000e+00   0.000000e+00\n",
       "27  TFMF    UU  0.126751  1.337687e+07   0.000000e+00   0.000000e+00\n",
       "16   BPR  TFMF  0.096698  5.510310e+08   0.000000e+00   0.000000e+00\n",
       "20  IALS  TFMF  0.072064  6.706402e+08   0.000000e+00   0.000000e+00\n",
       "12  Bias    UU  0.064254  4.003629e+07   0.000000e+00   0.000000e+00\n",
       "9   Bias    II  0.060688  5.816309e+07   0.000000e+00   0.000000e+00\n",
       "15   BPR   Pop  0.051024  3.650139e+08   0.000000e+00   0.000000e+00\n",
       "6    ALS    UU  0.046373  2.693056e+07   0.000000e+00   0.000000e+00\n",
       "25   Pop  TFMF  0.045674  6.771171e+08   0.000000e+00   0.000000e+00\n",
       "3    ALS    II  0.042807  3.669189e+07   0.000000e+00   0.000000e+00\n",
       "19  IALS   Pop  0.026390  8.704137e+08   0.000000e+00   0.000000e+00\n",
       "13   BPR  IALS  0.024634  1.027757e+09   5.465746e-11   1.530409e-09\n",
       "24    II    UU  0.003566  6.086030e+07  1.859235e-207  5.205857e-206\n",
       "0    ALS  Bias -0.017882  1.928227e+08   2.500642e-29   7.001797e-28\n",
       "11  Bias  TFMF -0.062497  2.570668e+08   0.000000e+00   0.000000e+00\n",
       "5    ALS  TFMF -0.080378  1.561765e+08   0.000000e+00   0.000000e+00\n",
       "10  Bias   Pop -0.108171  3.150583e+08   0.000000e+00   0.000000e+00\n",
       "23    II  TFMF -0.123185  2.186808e+07   0.000000e+00   0.000000e+00\n",
       "4    ALS   Pop -0.126053  2.564268e+08   0.000000e+00   0.000000e+00\n",
       "8   Bias  IALS -0.134561  3.370403e+08   0.000000e+00   0.000000e+00\n",
       "2    ALS  IALS -0.152443  2.879780e+08   0.000000e+00   0.000000e+00\n",
       "7   Bias   BPR -0.159195  2.759137e+08   0.000000e+00   0.000000e+00\n",
       "22    II   Pop -0.168860  5.792457e+07   0.000000e+00   0.000000e+00\n",
       "1    ALS   BPR -0.177077  2.058473e+08   0.000000e+00   0.000000e+00"
      ]
     },
     "execution_count": 24,
     "metadata": {},
     "output_type": "execute_result"
    }
   ],
   "source": [
    "am_wilcox('recip_rank').sort_values('diff', ascending=False)"
   ]
  },
  {
   "cell_type": "markdown",
   "metadata": {
    "papermill": {
     "duration": 0.023483,
     "end_time": "2020-06-08T19:21:35.085423",
     "exception": false,
     "start_time": "2020-06-08T19:21:35.061940",
     "status": "completed"
    },
    "tags": []
   },
   "source": [
    "## Prediction RMSE\n",
    "\n",
    "We will also look at the prediction RMSE."
   ]
  },
  {
   "cell_type": "code",
   "execution_count": 25,
   "metadata": {
    "execution": {
     "iopub.execute_input": "2020-06-08T19:21:35.136735Z",
     "iopub.status.busy": "2020-06-08T19:21:35.136313Z",
     "iopub.status.idle": "2020-06-08T19:26:39.846167Z",
     "shell.execute_reply": "2020-06-08T19:26:39.845717Z"
    },
    "papermill": {
     "duration": 304.737845,
     "end_time": "2020-06-08T19:26:39.846263",
     "exception": false,
     "start_time": "2020-06-08T19:21:35.108418",
     "status": "completed"
    },
    "tags": []
   },
   "outputs": [],
   "source": [
    "user_rmse = preds.groupby(['algorithm', 'user']).apply(lambda df: rmse(df['prediction'], df['rating']))\n",
    "user_rmse = user_rmse.reset_index(name='RMSE')"
   ]
  },
  {
   "cell_type": "code",
   "execution_count": 26,
   "metadata": {
    "execution": {
     "iopub.execute_input": "2020-06-08T19:26:39.899381Z",
     "iopub.status.busy": "2020-06-08T19:26:39.898949Z",
     "iopub.status.idle": "2020-06-08T19:26:42.394749Z",
     "shell.execute_reply": "2020-06-08T19:26:42.395102Z"
    },
    "papermill": {
     "duration": 2.524457,
     "end_time": "2020-06-08T19:26:42.395220",
     "exception": false,
     "start_time": "2020-06-08T19:26:39.870763",
     "status": "completed"
    },
    "tags": []
   },
   "outputs": [
    {
     "data": {
      "text/plain": [
       "<seaborn.axisgrid.FacetGrid at 0x2aaafda9f1f0>"
      ]
     },
     "execution_count": 26,
     "metadata": {},
     "output_type": "execute_result"
    },
    {
     "data": {
      "image/png": "[encoded data removed]",
      "text/plain": [
       "<Figure size 360x360 with 1 Axes>"
      ]
     },
     "metadata": {
      "needs_background": "light"
     },
     "output_type": "display_data"
    }
   ],
   "source": [
    "sns.catplot(x='algorithm', y='RMSE', data=user_rmse, kind='bar')"
   ]
  },
  {
   "cell_type": "code",
   "execution_count": null,
   "metadata": {
    "papermill": {
     "duration": 0.023695,
     "end_time": "2020-06-08T19:26:42.443497",
     "exception": false,
     "start_time": "2020-06-08T19:26:42.419802",
     "status": "completed"
    },
    "tags": []
   },
   "outputs": [],
   "source": []
  }
 ],
 "metadata": {
  "kernelspec": {
   "display_name": "Python 3",
   "language": "python",
   "name": "python3"
  },
  "language_info": {
   "codemirror_mode": {
    "name": "ipython",
    "version": 3
   },
   "file_extension": ".py",
   "mimetype": "text/x-python",
   "name": "python",
   "nbconvert_exporter": "python",
   "pygments_lexer": "ipython3",
   "version": "3.8.3"
  },
  "papermill": {
   "duration": 645.553887,
   "end_time": "2020-06-08T19:26:42.673383",
   "environment_variables": {},
   "exception": null,
   "input_path": "eval-report.ipynb",
   "output_path": "eval-report.ml10m.ipynb",
   "parameters": {
    "dataset": "ml10m"
   },
   "start_time": "2020-06-08T19:15:57.119496",
   "version": "2.1.0"
  }
 },
 "nbformat": 4,
 "nbformat_minor": 2
}